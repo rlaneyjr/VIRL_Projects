{
 "cells": [
  {
   "cell_type": "markdown",
   "metadata": {},
   "source": [
    "#COSC Learning Lab"
   ]
  },
  {
   "cell_type": "markdown",
   "metadata": {},
   "source": [
    "##01_device_connect.py"
   ]
  },
  {
   "cell_type": "markdown",
   "metadata": {},
   "source": [
    "Related Scripts:\n",
    "* [03_management_interface.py](03_management_interface.ipynb)"
   ]
  },
  {
   "cell_type": "markdown",
   "metadata": {},
   "source": [
    "###Table of Contents"
   ]
  },
  {
   "cell_type": "markdown",
   "metadata": {},
   "source": [
    "* [Table of Contents](#Table-of-Contents)\n",
    "* [Preamble](#Preamble)\n",
    "* [Documentation](#Documentation)\n",
    "* [Implementation](#Implementation)\n",
    "* [Execution](#Execution)\n",
    "* [HTTP](#HTTP)"
   ]
  },
  {
   "cell_type": "markdown",
   "metadata": {},
   "source": [
    "###Preamble"
   ]
  },
  {
   "cell_type": "markdown",
   "metadata": {},
   "source": [
    "Establish a context in which the sample script will succeed."
   ]
  },
  {
   "cell_type": "code",
   "execution_count": 2,
   "metadata": {
    "collapsed": false
   },
   "outputs": [
    {
     "name": "stdout",
     "output_type": "stream",
     "text": [
      "device_dismount(xrvr-511-53U)\n",
      "device_dismount(xrvr-531)\n",
      "Disconnecting xrvr-531\n",
      "Dismounted 2 device(s), slept for 0.5 seconds\n"
     ]
    }
   ],
   "source": [
    "%run ../learning_lab/01_inventory_dismount_atomic.py\n",
    "from basics.odl_http import http_history_clear\n",
    "http_history_clear()"
   ]
  },
  {
   "cell_type": "markdown",
   "metadata": {},
   "source": [
    "###Documentation"
   ]
  },
  {
   "cell_type": "code",
   "execution_count": 1,
   "metadata": {
    "collapsed": false
   },
   "outputs": [
    {
     "name": "stdout",
     "output_type": "stream",
     "text": [
      "Help on module learning_lab.01_device_connect in learning_lab:\n",
      "\n",
      "NAME\n",
      "    learning_lab.01_device_connect - Sample usage of composite of functions 'device_mount' and 'connected'.\n",
      "\n",
      "DESCRIPTION\n",
      "    Mount any one device that is configured and not mounted.\n",
      "    Pause while the Controller connects to the device.\n",
      "    \n",
      "    An unreachable device will never connect, so a 'time out' is enforced.\n",
      "    Repeat the demonstration on a different device if 'time out' occurs.\n",
      "    \n",
      "    Exit code is zero when one device is both mounted and connected, otherwise non-zero.\n",
      "\n",
      "FUNCTIONS\n",
      "    demonstrate(device_name)\n",
      "        Mount *and* connect the specified device.\n",
      "        \n",
      "        The device must not be mounted already.\n",
      "        The Controller will attempt connection to the device.\n",
      "        Return True if connection succeeds before the time-out period elapses.\n",
      "    \n",
      "    main()\n",
      "        Demonstrate on the unmounted devices, stopping when a connection to any device is established.\n",
      "    \n",
      "    mount_from_settings(device_name)\n",
      "        Mount the specified device with the configured settings.\n",
      "\n",
      "DATA\n",
      "    config = {'network_device': {'xrvr-1': {'address': '172.16.1.76', 'pas...\n",
      "    time_interval = 0.2\n",
      "    time_out = 10.0\n",
      "\n",
      "FILE\n",
      "    /home/virl/git/cosc-learning-labs/src/learning_lab/01_device_connect.py\n",
      "\n",
      "\n"
     ]
    }
   ],
   "source": [
    "help('learning_lab.01_device_connect')"
   ]
  },
  {
   "cell_type": "markdown",
   "metadata": {},
   "source": [
    "###Implementation"
   ]
  },
  {
   "cell_type": "code",
   "execution_count": 2,
   "metadata": {
    "collapsed": false
   },
   "outputs": [
    {
     "name": "stdout",
     "output_type": "stream",
     "text": [
      "def main():\n",
      "    \"\"\"Demonstrate on the unmounted devices, stopping when a connection to any device is established.\"\"\"\n",
      "    unmounted_list = inventory_unmounted()\n",
      "    if not unmounted_list:\n",
      "        print('All configured devices are mounted. Demonstration cancelled.')\n",
      "    else:\n",
      "        for device_name in unmounted_list:\n",
      "            if demonstrate(device_name):\n",
      "                return os.EX_OK\n",
      "    return os.EX_TEMPFAIL\n",
      "\n"
     ]
    }
   ],
   "source": [
    "from importlib import import_module\n",
    "script = import_module('learning_lab.01_device_connect')\n",
    "from inspect import getsource\n",
    "print(getsource(script.main))"
   ]
  },
  {
   "cell_type": "code",
   "execution_count": 3,
   "metadata": {
    "collapsed": false
   },
   "outputs": [
    {
     "name": "stdout",
     "output_type": "stream",
     "text": [
      "def demonstrate(device_name):\n",
      "    \"\"\" Mount *and* connect the specified device.\n",
      "\n",
      "        The device must not be mounted already.\n",
      "        The Controller will attempt connection to the device.\n",
      "        Return True if connection succeeds before the time-out period elapses.\n",
      "    \"\"\"\n",
      "    mount_from_settings(device_name)\n",
      "    time_accum = 0.0\n",
      "    num_checks = 0\n",
      "    while time_accum < time_out:\n",
      "        num_checks += 1\n",
      "        expanding_interval = time_interval * num_checks\n",
      "        time_accum += expanding_interval  \n",
      "        # Don't hammer the Controller or it will crash.\n",
      "        # This not a denial-of-service (DOS) attack ;-)\n",
      "        time.sleep(expanding_interval)\n",
      "        print('connected(' + device_name, end='): ')\n",
      "        if connected(device_name):\n",
      "            print(True, 'after %s checks and %s seconds.' % (num_checks, time_accum))\n",
      "            return True\n",
      "        else:\n",
      "            print(False)\n",
      "            continue\n",
      "    print('Unconnected after %s checks and %s seconds.' % (num_checks, time_accum))\n",
      "    return False\n",
      "\n"
     ]
    }
   ],
   "source": [
    "print(getsource(script.demonstrate))"
   ]
  },
  {
   "cell_type": "code",
   "execution_count": 4,
   "metadata": {
    "collapsed": false
   },
   "outputs": [
    {
     "name": "stdout",
     "output_type": "stream",
     "text": [
      "def mount_from_settings(device_name):\n",
      "    \"\"\"Mount the specified device with the configured settings.\"\"\"\n",
      "    device_config = config['network_device'][device_name]\n",
      "    print('device_mount(' + device_name, *device_config.values(), sep=', ', end=')\\n')\n",
      "    device_mount(\n",
      "        device_name,\n",
      "        device_config['address'],\n",
      "        device_config['port'],\n",
      "        device_config['username'],\n",
      "        device_config['password'])\n",
      "\n"
     ]
    }
   ],
   "source": [
    "print(getsource(script.mount_from_settings))"
   ]
  },
  {
   "cell_type": "markdown",
   "metadata": {},
   "source": [
    "###Execution"
   ]
  },
  {
   "cell_type": "code",
   "execution_count": 6,
   "metadata": {
    "collapsed": false
   },
   "outputs": [
    {
     "name": "stdout",
     "output_type": "stream",
     "text": [
      "device_mount(xrvr-1, 172.16.1.76, cisco, cisco, 830)\n",
      "connected(xrvr-1): False\n",
      "connected(xrvr-1): False\n",
      "connected(xrvr-1): False\n",
      "connected(xrvr-1): False\n",
      "connected(xrvr-1): False\n",
      "connected(xrvr-1): False\n",
      "connected(xrvr-1): False\n",
      "connected(xrvr-1): False\n",
      "connected(xrvr-1): False\n",
      "connected(xrvr-1): False\n",
      "Unconnected after 10 checks and 11.000000000000002 seconds.\n",
      "device_mount(xrvr-2, 172.16.1.75, cisco, cisco, 830)\n",
      "connected(xrvr-2): False\n",
      "connected(xrvr-2): False\n",
      "connected(xrvr-2): False\n",
      "connected(xrvr-2): False\n",
      "connected(xrvr-2): False\n",
      "connected(xrvr-2): False\n",
      "connected(xrvr-2): False\n",
      "connected(xrvr-2): False\n",
      "connected(xrvr-2): False\n",
      "connected(xrvr-2): False\n",
      "Unconnected after 10 checks and 11.000000000000002 seconds.\n"
     ]
    },
    {
     "name": "stderr",
     "output_type": "stream",
     "text": [
      "exit code 75\n"
     ]
    }
   ],
   "source": [
    "run ../learning_lab/01_device_connect.py"
   ]
  },
  {
   "cell_type": "markdown",
   "metadata": {},
   "source": [
    "###HTTP"
   ]
  },
  {
   "cell_type": "code",
   "execution_count": null,
   "metadata": {
    "collapsed": false
   },
   "outputs": [],
   "source": [
    "from basics.odl_http import http_history\n",
    "from basics.http import http_history_to_html\n",
    "from IPython.core.display import HTML\n",
    "HTML(http_history_to_html(http_history()))"
   ]
  }
 ],
 "metadata": {
  "kernelspec": {
   "display_name": "Python 3",
   "language": "python",
   "name": "python3"
  },
  "language_info": {
   "codemirror_mode": {
    "name": "ipython",
    "version": 3
   },
   "file_extension": ".py",
   "mimetype": "text/x-python",
   "name": "python",
   "nbconvert_exporter": "python",
   "pygments_lexer": "ipython3",
   "version": "3.4.0"
  }
 },
 "nbformat": 4,
 "nbformat_minor": 0
}
