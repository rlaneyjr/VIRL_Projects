{
 "cells": [
  {
   "cell_type": "markdown",
   "metadata": {},
   "source": [
    "#COSC Learning Lab"
   ]
  },
  {
   "cell_type": "markdown",
   "metadata": {},
   "source": [
    "##01_device_control.py"
   ]
  },
  {
   "cell_type": "markdown",
   "metadata": {},
   "source": [
    "Related Scripts:\n",
    "* [03_management_interface.py](03_management_interface.ipynb)"
   ]
  },
  {
   "cell_type": "markdown",
   "metadata": {},
   "source": [
    "###Table of Contents"
   ]
  },
  {
   "cell_type": "markdown",
   "metadata": {},
   "source": [
    "* [Table of Contents](#Table-of-Contents)\n",
    "* [Documentation](#Documentation)\n",
    "* [Implementation](#Implementation)\n",
    "* [Execution](#Execution)\n",
    "* [HTTP](#HTTP)"
   ]
  },
  {
   "cell_type": "markdown",
   "metadata": {},
   "source": [
    "###Documentation"
   ]
  },
  {
   "cell_type": "code",
   "execution_count": 1,
   "metadata": {
    "collapsed": false
   },
   "outputs": [
    {
     "name": "stdout",
     "output_type": "stream",
     "text": [
      "Help on module learning_lab.01_device_control in learning_lab:\n",
      "\n",
      "NAME\n",
      "    learning_lab.01_device_control - Sample usage of function 'device_control'.\n",
      "\n",
      "DESCRIPTION\n",
      "    Print the function's documentation.\n",
      "    Apply the function to one device.\n",
      "    Print the output.\n",
      "    \n",
      "    This demonstration requires a device that is mounted.\n",
      "    It is not necessary for the device to be connected.\n",
      "\n",
      "FUNCTIONS\n",
      "    demonstrate(device_name)\n",
      "        Apply function 'device_control' to the specified device.\n",
      "    \n",
      "    main()\n",
      "        Select a device and demonstrate.\n",
      "\n",
      "FILE\n",
      "    /home/virl/git/cosc-learning-labs/src/learning_lab/01_device_control.py\n",
      "\n",
      "\n"
     ]
    }
   ],
   "source": [
    "help('learning_lab.01_device_control')"
   ]
  },
  {
   "cell_type": "markdown",
   "metadata": {},
   "source": [
    "###Implementation"
   ]
  },
  {
   "cell_type": "code",
   "execution_count": 2,
   "metadata": {
    "collapsed": false
   },
   "outputs": [
    {
     "name": "stdout",
     "output_type": "stream",
     "text": [
      "def main():\n",
      "    ''' Select a device and demonstrate.'''\n",
      "    print(plain(doc(device_control)))\n",
      "    print('DeviceControl fields:', *DeviceControl._fields, sep='\\n\\t', end='\\n\\n')\n",
      "    for device_name in inventory_mounted():\n",
      "        demonstrate(device_name)\n",
      "        return 0\n",
      "    print(\"There are no suitable network devices. Demonstration cancelled.\")\n",
      "    return 1\n",
      "\n"
     ]
    }
   ],
   "source": [
    "from importlib import import_module\n",
    "script = import_module('learning_lab.01_device_control')\n",
    "from inspect import getsource\n",
    "print(getsource(script.main))"
   ]
  },
  {
   "cell_type": "code",
   "execution_count": 3,
   "metadata": {
    "collapsed": false
   },
   "outputs": [
    {
     "name": "stdout",
     "output_type": "stream",
     "text": [
      "def demonstrate(device_name):\n",
      "    ''' Apply function 'device_control' to the specified device.'''\n",
      "    print('device_control(' + device_name, end=')\\n')\n",
      "    print_table(device_control(device_name))\n",
      "\n"
     ]
    }
   ],
   "source": [
    "print(getsource(script.demonstrate))"
   ]
  },
  {
   "cell_type": "markdown",
   "metadata": {},
   "source": [
    "###Execution"
   ]
  },
  {
   "cell_type": "code",
   "execution_count": 4,
   "metadata": {
    "collapsed": false
   },
   "outputs": [
    {
     "name": "stdout",
     "output_type": "stream",
     "text": [
      "Python Library Documentation: function device_control in module basics.inventory\n",
      "\n",
      "device_control(device_name)\n",
      "    A DeviceControl if the specified device is mounted, otherwise None\n",
      "\n",
      "DeviceControl fields:\n",
      "\taddress\n",
      "\tport\n",
      "\tusername\n",
      "\tpassword\n",
      "\n",
      "device_control(xrvr-511-53U)\n"
     ]
    },
    {
     "data": {
      "text/html": [
       "<table>\n",
       "\n",
       "</table>"
      ],
      "text/plain": [
       "<IPython.core.display.HTML object>"
      ]
     },
     "metadata": {},
     "output_type": "display_data"
    }
   ],
   "source": [
    "run ../learning_lab/01_device_control.py"
   ]
  },
  {
   "cell_type": "markdown",
   "metadata": {},
   "source": [
    "###HTTP"
   ]
  },
  {
   "cell_type": "code",
   "execution_count": 5,
   "metadata": {
    "collapsed": false
   },
   "outputs": [
    {
     "data": {
      "text/html": [
       "<DIV>HTTP request/response: 1&nbsp;<A href=\"#http2\">2</A>&nbsp;<BR id=\"http1\"/><table>\n",
       "  <style>table {border: 1px solid black;}</style>\n",
       "  <style>tr:nth-of-type(even) {background-color:#eee;}</style>\n",
       "  <style>tr:nth-of-type(odd) {background-color:#fff;}</style>\n",
       "  <style>th {background-color:lightgray;}</style>\n",
       "  <thead>\n",
       "    <tr>\n",
       "      <th style=\"text-align:center\" colspan=\"2\">Request</th>\n",
       "    </tr>\n",
       "  </thead>\n",
       "  <tbody>\n",
       "    <tr>\n",
       "      <th>Method</th>\n",
       "      <td>GET</td>\n",
       "    </tr>\n",
       "    <tr>\n",
       "      <th>URL</th>\n",
       "      <td>http://127.0.0.1:8181/restconf/config/opendaylight-inventory:nodes</td>\n",
       "    </tr>\n",
       "    <tr>\n",
       "      <th>Headers</th>\n",
       "      <td><table>\n",
       "    <tr>\n",
       "        <td>\n",
       "            Accept-Encoding\n",
       "        </td>\n",
       "        <td>\n",
       "            gzip, deflate, compress\n",
       "        </td>\n",
       "    </tr>\n",
       "    <tr>\n",
       "        <td>\n",
       "            Accept\n",
       "        </td>\n",
       "        <td>\n",
       "            application/xml\n",
       "        </td>\n",
       "    </tr>\n",
       "    <tr>\n",
       "        <td>\n",
       "            User-Agent\n",
       "        </td>\n",
       "        <td>\n",
       "            python-requests/2.2.1 CPython/3.4.0 Linux/3.13.0-45-generic\n",
       "        </td>\n",
       "    </tr>\n",
       "    <tr>\n",
       "        <td>\n",
       "            Authorization\n",
       "        </td>\n",
       "        <td>\n",
       "            Basic YWRtaW46YWRtaW4=\n",
       "        </td>\n",
       "    </tr>\n",
       "\n",
       "</table>\n",
       "</td>\n",
       "    </tr>\n",
       "    <tr>\n",
       "      <th>Content</th>\n",
       "      <td></td>\n",
       "    </tr>\n",
       "  </tbody>\n",
       "  <thead>\n",
       "      <tr>\n",
       "        <th style=\"text-align:center;background-color:white\" colspan=\"2\"/>\n",
       "      </tr>\n",
       "      <tr>\n",
       "        <th style=\"text-align:center\" colspan=\"2\">Response</th>\n",
       "      </tr>\n",
       "  </thead>\n",
       "  <tbody>\n",
       "    <tr>\n",
       "      <th>Status Code</th>\n",
       "      <td>200</td>\n",
       "    </tr>\n",
       "    <tr>\n",
       "      <th>Headers</th>\n",
       "      <td><table>\n",
       "    <tr>\n",
       "        <td>\n",
       "            server\n",
       "        </td>\n",
       "        <td>\n",
       "            Jetty(8.1.14.v20131031)\n",
       "        </td>\n",
       "    </tr>\n",
       "    <tr>\n",
       "        <td>\n",
       "            transfer-encoding\n",
       "        </td>\n",
       "        <td>\n",
       "            chunked\n",
       "        </td>\n",
       "    </tr>\n",
       "    <tr>\n",
       "        <td>\n",
       "            content-type\n",
       "        </td>\n",
       "        <td>\n",
       "            application/xml\n",
       "        </td>\n",
       "    </tr>\n",
       "\n",
       "</table>\n",
       "</td>\n",
       "    </tr>\n",
       "    <tr>\n",
       "      <th>Content</th>\n",
       "      <td><pre>&lt;?xml version='1.0' encoding='ASCII'?&gt;\n",
       "&lt;nodes xmlns=\"urn:opendaylight:inventory\"&gt;\n",
       "  &lt;node&gt;\n",
       "    &lt;id&gt;xrvr-511-53U&lt;/id&gt;\n",
       "  &lt;/node&gt;\n",
       "  &lt;node&gt;\n",
       "    &lt;id&gt;xrvr-531&lt;/id&gt;\n",
       "  &lt;/node&gt;\n",
       "  &lt;node&gt;\n",
       "    &lt;id&gt;controller-config&lt;/id&gt;\n",
       "  &lt;/node&gt;\n",
       "&lt;/nodes&gt;\n",
       "</pre></td>\n",
       "    </tr>\n",
       "  </tbody>\n",
       "</table>\n",
       "HTTP request/response: <A href=\"#http1\">1</A>&nbsp;2&nbsp;<BR id=\"http2\"/><table>\n",
       "  <style>table {border: 1px solid black;}</style>\n",
       "  <style>tr:nth-of-type(even) {background-color:#eee;}</style>\n",
       "  <style>tr:nth-of-type(odd) {background-color:#fff;}</style>\n",
       "  <style>th {background-color:lightgray;}</style>\n",
       "  <thead>\n",
       "    <tr>\n",
       "      <th style=\"text-align:center\" colspan=\"2\">Request</th>\n",
       "    </tr>\n",
       "  </thead>\n",
       "  <tbody>\n",
       "    <tr>\n",
       "      <th>Method</th>\n",
       "      <td>GET</td>\n",
       "    </tr>\n",
       "    <tr>\n",
       "      <th>URL</th>\n",
       "      <td>http://127.0.0.1:8181/restconf/config/opendaylight-inventory:nodes/node/controller-config/yang-ext:mount/config:modules/module/odl-sal-netconf-connector-cfg:sal-netconf-connector/xrvr-511-53U</td>\n",
       "    </tr>\n",
       "    <tr>\n",
       "      <th>Headers</th>\n",
       "      <td><table>\n",
       "    <tr>\n",
       "        <td>\n",
       "            Accept-Encoding\n",
       "        </td>\n",
       "        <td>\n",
       "            gzip, deflate, compress\n",
       "        </td>\n",
       "    </tr>\n",
       "    <tr>\n",
       "        <td>\n",
       "            Accept\n",
       "        </td>\n",
       "        <td>\n",
       "            application/xml\n",
       "        </td>\n",
       "    </tr>\n",
       "    <tr>\n",
       "        <td>\n",
       "            User-Agent\n",
       "        </td>\n",
       "        <td>\n",
       "            python-requests/2.2.1 CPython/3.4.0 Linux/3.13.0-45-generic\n",
       "        </td>\n",
       "    </tr>\n",
       "    <tr>\n",
       "        <td>\n",
       "            Authorization\n",
       "        </td>\n",
       "        <td>\n",
       "            Basic YWRtaW46YWRtaW4=\n",
       "        </td>\n",
       "    </tr>\n",
       "\n",
       "</table>\n",
       "</td>\n",
       "    </tr>\n",
       "    <tr>\n",
       "      <th>Content</th>\n",
       "      <td></td>\n",
       "    </tr>\n",
       "  </tbody>\n",
       "  <thead>\n",
       "      <tr>\n",
       "        <th style=\"text-align:center;background-color:white\" colspan=\"2\"/>\n",
       "      </tr>\n",
       "      <tr>\n",
       "        <th style=\"text-align:center\" colspan=\"2\">Response</th>\n",
       "      </tr>\n",
       "  </thead>\n",
       "  <tbody>\n",
       "    <tr>\n",
       "      <th>Status Code</th>\n",
       "      <td>200</td>\n",
       "    </tr>\n",
       "    <tr>\n",
       "      <th>Headers</th>\n",
       "      <td><table>\n",
       "    <tr>\n",
       "        <td>\n",
       "            server\n",
       "        </td>\n",
       "        <td>\n",
       "            Jetty(8.1.14.v20131031)\n",
       "        </td>\n",
       "    </tr>\n",
       "    <tr>\n",
       "        <td>\n",
       "            transfer-encoding\n",
       "        </td>\n",
       "        <td>\n",
       "            chunked\n",
       "        </td>\n",
       "    </tr>\n",
       "    <tr>\n",
       "        <td>\n",
       "            content-type\n",
       "        </td>\n",
       "        <td>\n",
       "            application/xml\n",
       "        </td>\n",
       "    </tr>\n",
       "\n",
       "</table>\n",
       "</td>\n",
       "    </tr>\n",
       "    <tr>\n",
       "      <th>Content</th>\n",
       "      <td><pre>&lt;?xml version='1.0' encoding='ASCII'?&gt;\n",
       "&lt;module xmlns=\"urn:opendaylight:params:xml:ns:yang:controller:config\"&gt;\n",
       "  &lt;type xmlns:x=\"urn:opendaylight:params:xml:ns:yang:controller:md:sal:connector:netconf\"&gt;x:sal-netconf-connector&lt;/type&gt;\n",
       "  &lt;name&gt;xrvr-511-53U&lt;/name&gt;\n",
       "  &lt;address xmlns=\"urn:opendaylight:params:xml:ns:yang:controller:md:sal:connector:netconf\"&gt;172.16.1.90&lt;/address&gt;\n",
       "  &lt;dom-registry xmlns=\"urn:opendaylight:params:xml:ns:yang:controller:md:sal:connector:netconf\"&gt;\n",
       "    &lt;name&gt;dom-broker&lt;/name&gt;\n",
       "    &lt;type xmlns:x=\"urn:opendaylight:params:xml:ns:yang:controller:md:sal:dom\"&gt;x:dom-broker-osgi-registry&lt;/type&gt;\n",
       "  &lt;/dom-registry&gt;\n",
       "  &lt;processing-executor xmlns=\"urn:opendaylight:params:xml:ns:yang:controller:md:sal:connector:netconf\"&gt;\n",
       "    &lt;name&gt;global-netconf-processing-executor&lt;/name&gt;\n",
       "    &lt;type xmlns:x=\"urn:opendaylight:params:xml:ns:yang:controller:threadpool\"&gt;x:threadpool&lt;/type&gt;\n",
       "  &lt;/processing-executor&gt;\n",
       "  &lt;binding-registry xmlns=\"urn:opendaylight:params:xml:ns:yang:controller:md:sal:connector:netconf\"&gt;\n",
       "    &lt;name&gt;binding-osgi-broker&lt;/name&gt;\n",
       "    &lt;type xmlns:x=\"urn:opendaylight:params:xml:ns:yang:controller:md:sal:binding\"&gt;x:binding-broker-osgi-registry&lt;/type&gt;\n",
       "  &lt;/binding-registry&gt;\n",
       "  &lt;client-dispatcher xmlns=\"urn:opendaylight:params:xml:ns:yang:controller:md:sal:connector:netconf\"&gt;\n",
       "    &lt;name&gt;global-netconf-dispatcher&lt;/name&gt;\n",
       "    &lt;type xmlns:x=\"urn:opendaylight:params:xml:ns:yang:controller:config:netconf\"&gt;x:netconf-client-dispatcher&lt;/type&gt;\n",
       "  &lt;/client-dispatcher&gt;\n",
       "  &lt;between-attempts-timeout-millis xmlns=\"urn:opendaylight:params:xml:ns:yang:controller:md:sal:connector:netconf\"&gt;2000&lt;/between-attempts-timeout-millis&gt;\n",
       "  &lt;sleep-factor xmlns=\"urn:opendaylight:params:xml:ns:yang:controller:md:sal:connector:netconf\"&gt;1.5&lt;/sleep-factor&gt;\n",
       "  &lt;connection-timeout-millis xmlns=\"urn:opendaylight:params:xml:ns:yang:controller:md:sal:connector:netconf\"&gt;20000&lt;/connection-timeout-millis&gt;\n",
       "  &lt;tcp-only xmlns=\"urn:opendaylight:params:xml:ns:yang:controller:md:sal:connector:netconf\"&gt;false&lt;/tcp-only&gt;\n",
       "  &lt;port xmlns=\"urn:opendaylight:params:xml:ns:yang:controller:md:sal:connector:netconf\"&gt;830&lt;/port&gt;\n",
       "  &lt;event-executor xmlns=\"urn:opendaylight:params:xml:ns:yang:controller:md:sal:connector:netconf\"&gt;\n",
       "    &lt;name&gt;global-event-executor&lt;/name&gt;\n",
       "    &lt;type xmlns:x=\"urn:opendaylight:params:xml:ns:yang:controller:netty\"&gt;x:netty-event-executor&lt;/type&gt;\n",
       "  &lt;/event-executor&gt;\n",
       "  &lt;max-connection-attempts xmlns=\"urn:opendaylight:params:xml:ns:yang:controller:md:sal:connector:netconf\"&gt;0&lt;/max-connection-attempts&gt;\n",
       "  &lt;password xmlns=\"urn:opendaylight:params:xml:ns:yang:controller:md:sal:connector:netconf\"&gt;cisco&lt;/password&gt;\n",
       "  &lt;username xmlns=\"urn:opendaylight:params:xml:ns:yang:controller:md:sal:connector:netconf\"&gt;cisco&lt;/username&gt;\n",
       "&lt;/module&gt;\n",
       "</pre></td>\n",
       "    </tr>\n",
       "  </tbody>\n",
       "</table>\n",
       "</DIV>"
      ],
      "text/plain": [
       "<IPython.core.display.HTML object>"
      ]
     },
     "execution_count": 5,
     "metadata": {},
     "output_type": "execute_result"
    }
   ],
   "source": [
    "from basics.odl_http import http_history\n",
    "from basics.http import http_history_to_html\n",
    "from IPython.core.display import HTML\n",
    "HTML(http_history_to_html(http_history()))"
   ]
  }
 ],
 "metadata": {
  "kernelspec": {
   "display_name": "Python 3",
   "language": "python",
   "name": "python3"
  },
  "language_info": {
   "codemirror_mode": {
    "name": "ipython",
    "version": 3
   },
   "file_extension": ".py",
   "mimetype": "text/x-python",
   "name": "python",
   "nbconvert_exporter": "python",
   "pygments_lexer": "ipython3",
   "version": "3.4.0"
  }
 },
 "nbformat": 4,
 "nbformat_minor": 0
}
