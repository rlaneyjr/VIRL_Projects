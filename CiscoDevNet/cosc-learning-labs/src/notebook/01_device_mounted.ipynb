{
 "cells": [
  {
   "cell_type": "markdown",
   "metadata": {},
   "source": [
    "# COSC Learning Lab: 01_device_mounted.py"
   ]
  },
  {
   "cell_type": "markdown",
   "metadata": {},
   "source": [
    "Related:\n",
    "* [01_device_connected.py](01_device_connected.ipynb)\n",
    "* [01_inventory_mounted.py](01_inventory_mounted.ipynb)\n",
    "* [01_inventory_mount.py](01_inventory_mount.ipynb)\n",
    "* [01_device_dismount.py](01_device_dismount.ipynb)"
   ]
  },
  {
   "cell_type": "code",
   "execution_count": 3,
   "metadata": {
    "collapsed": true
   },
   "outputs": [],
   "source": [
    "###Table of Contents"
   ]
  },
  {
   "cell_type": "markdown",
   "metadata": {},
   "source": [
    "* [Table of Contents](#Table-of-Contents)\n",
    "* [Documentation](#Documentation)\n",
    "* [Implementation](#Implementation)\n",
    "* [Execution](#Execution)\n",
    "* [HTTP](#HTTP)"
   ]
  },
  {
   "cell_type": "markdown",
   "metadata": {},
   "source": [
    "###Documentation"
   ]
  },
  {
   "cell_type": "code",
   "execution_count": 4,
   "metadata": {
    "collapsed": false
   },
   "outputs": [
    {
     "name": "stdout",
     "output_type": "stream",
     "text": [
      "Help on module learning_lab.01_device_mounted in learning_lab:\n",
      "\n",
      "NAME\n",
      "    learning_lab.01_device_mounted - Sample usage of function 'mounted'.\n",
      "\n",
      "DESCRIPTION\n",
      "    Print the function's documentation then invoke the function and print the output.\n",
      "\n",
      "FUNCTIONS\n",
      "    main()\n",
      "\n",
      "FILE\n",
      "    /home/virl/git/cosc-learning-labs/src/learning_lab/01_device_mounted.py\n",
      "\n",
      "\n"
     ]
    }
   ],
   "source": [
    "help('learning_lab.01_device_mounted')"
   ]
  },
  {
   "cell_type": "markdown",
   "metadata": {},
   "source": [
    "###Implementation"
   ]
  },
  {
   "cell_type": "code",
   "execution_count": 5,
   "metadata": {
    "collapsed": false
   },
   "outputs": [
    {
     "name": "stdout",
     "output_type": "stream",
     "text": [
      "def main():\n",
      "    ''' Select a device and demonstrate.'''\n",
      "    print(plain(doc(interface_names)))\n",
      "    mounted_list = inventory_mounted()\n",
      "    connected_list = inventory_connected()\n",
      "    device_list = list(set(connected_list) & set(mounted_list))\n",
      "    for device_name in device_list:\n",
      "        return demonstrate(device_name)\n",
      "    print('There are no mounted, connected devices to examine. Demonstration cancelled.')\n",
      "\n"
     ]
    }
   ],
   "source": [
    "from importlib import import_module\n",
    "script = import_module('learning_lab.03_interface_names')\n",
    "from inspect import getsource\n",
    "print(getsource(script.main))"
   ]
  },
  {
   "cell_type": "code",
   "execution_count": 6,
   "metadata": {
    "collapsed": false
   },
   "outputs": [
    {
     "name": "stdout",
     "output_type": "stream",
     "text": [
      "def demonstrate(device_name):\n",
      "    ''' Apply function 'interface_names' to the specified device.'''\n",
      "    print('interface_names(' + device_name, end=')\\n')\n",
      "    print(interface_names(device_name))\n",
      "\n"
     ]
    }
   ],
   "source": [
    "print(getsource(script.demonstrate))"
   ]
  },
  {
   "cell_type": "markdown",
   "metadata": {},
   "source": [
    "###Execution"
   ]
  },
  {
   "cell_type": "code",
   "execution_count": 7,
   "metadata": {
    "collapsed": false
   },
   "outputs": [
    {
     "name": "stdout",
     "output_type": "stream",
     "text": [
      "Python Library Documentation: function mounted in module basics.inventory\n",
      "\n",
      "mounted(device_name)\n",
      "    Determine whether a single device is mounted on the Controller.\n",
      "    \n",
      "    Return True if mounted.\n",
      "\n",
      "is mounted(xrvr-2): False\n"
     ]
    }
   ],
   "source": [
    "run ../learning_lab/01_device_mounted.py"
   ]
  },
  {
   "cell_type": "markdown",
   "metadata": {},
   "source": [
    "###HTTP"
   ]
  },
  {
   "cell_type": "code",
   "execution_count": 2,
   "metadata": {
    "collapsed": false
   },
   "outputs": [
    {
     "data": {
      "text/html": [
       "<table>\n",
       "  <style>table {border: 1px solid black;}</style>\n",
       "  <style>tr:nth-of-type(even) {background-color:#eee;}</style>\n",
       "  <style>tr:nth-of-type(odd) {background-color:#fff;}</style>\n",
       "  <style>th {background-color:lightgray;}</style>\n",
       "  <thead>\n",
       "    <tr>\n",
       "      <th style=\"text-align:center\" colspan=\"2\">Request</th>\n",
       "    </tr>\n",
       "  </thead>\n",
       "  <tbody>\n",
       "    <tr>\n",
       "      <th>Method</th>\n",
       "      <td>GET</td>\n",
       "    </tr>\n",
       "    <tr>\n",
       "      <th>URL</th>\n",
       "      <td>http://127.0.0.1:8181/restconf/config/opendaylight-inventory:nodes/node/controller-config/yang-ext:mount/config:modules/module/odl-sal-netconf-connector-cfg:sal-netconf-connector/xrvr-2</td>\n",
       "    </tr>\n",
       "    <tr>\n",
       "      <th>Headers</th>\n",
       "      <td><table>\n",
       "    <tr>\n",
       "        <td>\n",
       "            Authorization\n",
       "        </td>\n",
       "        <td>\n",
       "            Basic YWRtaW46YWRtaW4=\n",
       "        </td>\n",
       "    </tr>\n",
       "    <tr>\n",
       "        <td>\n",
       "            Accept-Encoding\n",
       "        </td>\n",
       "        <td>\n",
       "            gzip, deflate, compress\n",
       "        </td>\n",
       "    </tr>\n",
       "    <tr>\n",
       "        <td>\n",
       "            Accept\n",
       "        </td>\n",
       "        <td>\n",
       "            text/xml\n",
       "        </td>\n",
       "    </tr>\n",
       "    <tr>\n",
       "        <td>\n",
       "            User-Agent\n",
       "        </td>\n",
       "        <td>\n",
       "            python-requests/2.2.1 CPython/2.7.6 Linux/3.13.0-44-generic\n",
       "        </td>\n",
       "    </tr>\n",
       "\n",
       "</table>\n",
       "</td>\n",
       "    </tr>\n",
       "    <tr>\n",
       "      <th>Content</th>\n",
       "      <td></td>\n",
       "    </tr>\n",
       "  </tbody>\n",
       "  <thead>\n",
       "      <tr>\n",
       "        <th style=\"text-align:center;background-color:white\" colspan=\"2\"/>\n",
       "      </tr>\n",
       "      <tr>\n",
       "        <th style=\"text-align:center\" colspan=\"2\">Response</th>\n",
       "      </tr>\n",
       "  </thead>\n",
       "  <tbody>\n",
       "    <tr>\n",
       "      <th>Status Code</th>\n",
       "      <td>200</td>\n",
       "    </tr>\n",
       "    <tr>\n",
       "      <th>Headers</th>\n",
       "      <td><table>\n",
       "    <tr>\n",
       "        <td>\n",
       "            transfer-encoding\n",
       "        </td>\n",
       "        <td>\n",
       "            chunked\n",
       "        </td>\n",
       "    </tr>\n",
       "    <tr>\n",
       "        <td>\n",
       "            content-type\n",
       "        </td>\n",
       "        <td>\n",
       "            text/xml\n",
       "        </td>\n",
       "    </tr>\n",
       "    <tr>\n",
       "        <td>\n",
       "            server\n",
       "        </td>\n",
       "        <td>\n",
       "            Jetty(8.1.14.v20131031)\n",
       "        </td>\n",
       "    </tr>\n",
       "\n",
       "</table>\n",
       "</td>\n",
       "    </tr>\n",
       "    <tr>\n",
       "      <th>Content</th>\n",
       "      <td><pre>&lt;?xml version='1.0' encoding='ASCII'?&gt;\n",
       "&lt;module xmlns=\"urn:opendaylight:params:xml:ns:yang:controller:config\"&gt;\n",
       "  &lt;type xmlns:x=\"urn:opendaylight:params:xml:ns:yang:controller:md:sal:connector:netconf\"&gt;x:sal-netconf-connector&lt;/type&gt;\n",
       "  &lt;name&gt;xrvr-2&lt;/name&gt;\n",
       "  &lt;address xmlns=\"urn:opendaylight:params:xml:ns:yang:controller:md:sal:connector:netconf\"&gt;172.16.1.75&lt;/address&gt;\n",
       "  &lt;dom-registry xmlns=\"urn:opendaylight:params:xml:ns:yang:controller:md:sal:connector:netconf\"&gt;\n",
       "    &lt;name&gt;dom-broker&lt;/name&gt;\n",
       "    &lt;type xmlns:x=\"urn:opendaylight:params:xml:ns:yang:controller:md:sal:dom\"&gt;x:dom-broker-osgi-registry&lt;/type&gt;\n",
       "  &lt;/dom-registry&gt;\n",
       "  &lt;processing-executor xmlns=\"urn:opendaylight:params:xml:ns:yang:controller:md:sal:connector:netconf\"&gt;\n",
       "    &lt;name&gt;global-netconf-processing-executor&lt;/name&gt;\n",
       "    &lt;type xmlns:x=\"urn:opendaylight:params:xml:ns:yang:controller:threadpool\"&gt;x:threadpool&lt;/type&gt;\n",
       "  &lt;/processing-executor&gt;\n",
       "  &lt;binding-registry xmlns=\"urn:opendaylight:params:xml:ns:yang:controller:md:sal:connector:netconf\"&gt;\n",
       "    &lt;name&gt;binding-osgi-broker&lt;/name&gt;\n",
       "    &lt;type xmlns:x=\"urn:opendaylight:params:xml:ns:yang:controller:md:sal:binding\"&gt;x:binding-broker-osgi-registry&lt;/type&gt;\n",
       "  &lt;/binding-registry&gt;\n",
       "  &lt;client-dispatcher xmlns=\"urn:opendaylight:params:xml:ns:yang:controller:md:sal:connector:netconf\"&gt;\n",
       "    &lt;name&gt;global-netconf-dispatcher&lt;/name&gt;\n",
       "    &lt;type xmlns:x=\"urn:opendaylight:params:xml:ns:yang:controller:config:netconf\"&gt;x:netconf-client-dispatcher&lt;/type&gt;\n",
       "  &lt;/client-dispatcher&gt;\n",
       "  &lt;between-attempts-timeout-millis xmlns=\"urn:opendaylight:params:xml:ns:yang:controller:md:sal:connector:netconf\"&gt;2000&lt;/between-attempts-timeout-millis&gt;\n",
       "  &lt;sleep-factor xmlns=\"urn:opendaylight:params:xml:ns:yang:controller:md:sal:connector:netconf\"&gt;1.5&lt;/sleep-factor&gt;\n",
       "  &lt;connection-timeout-millis xmlns=\"urn:opendaylight:params:xml:ns:yang:controller:md:sal:connector:netconf\"&gt;20000&lt;/connection-timeout-millis&gt;\n",
       "  &lt;tcp-only xmlns=\"urn:opendaylight:params:xml:ns:yang:controller:md:sal:connector:netconf\"&gt;false&lt;/tcp-only&gt;\n",
       "  &lt;port xmlns=\"urn:opendaylight:params:xml:ns:yang:controller:md:sal:connector:netconf\"&gt;830&lt;/port&gt;\n",
       "  &lt;event-executor xmlns=\"urn:opendaylight:params:xml:ns:yang:controller:md:sal:connector:netconf\"&gt;\n",
       "    &lt;name&gt;global-event-executor&lt;/name&gt;\n",
       "    &lt;type xmlns:x=\"urn:opendaylight:params:xml:ns:yang:controller:netty\"&gt;x:netty-event-executor&lt;/type&gt;\n",
       "  &lt;/event-executor&gt;\n",
       "  &lt;max-connection-attempts xmlns=\"urn:opendaylight:params:xml:ns:yang:controller:md:sal:connector:netconf\"&gt;0&lt;/max-connection-attempts&gt;\n",
       "  &lt;password xmlns=\"urn:opendaylight:params:xml:ns:yang:controller:md:sal:connector:netconf\"&gt;cisco&lt;/password&gt;\n",
       "  &lt;username xmlns=\"urn:opendaylight:params:xml:ns:yang:controller:md:sal:connector:netconf\"&gt;cisco&lt;/username&gt;\n",
       "&lt;/module&gt;\n",
       "</pre></td>\n",
       "    </tr>\n",
       "  </tbody>\n",
       "</table>\n"
      ],
      "text/plain": [
       "<IPython.core.display.HTML at 0x7f6deb6e3590>"
      ]
     },
     "execution_count": 2,
     "metadata": {},
     "output_type": "execute_result"
    }
   ],
   "source": [
    "from basics.odl_http import http_history\n",
    "from basics.http import http_history_to_html\n",
    "from IPython.core.display import HTML\n",
    "HTML(http_history_to_html(http_history()))"
   ]
  }
 ],
 "metadata": {
  "kernelspec": {
   "display_name": "Python 3",
   "language": "python",
   "name": "python3"
  },
  "language_info": {
   "codemirror_mode": {
    "name": "ipython",
    "version": 3
   },
   "file_extension": ".py",
   "mimetype": "text/x-python",
   "name": "python",
   "nbconvert_exporter": "python",
   "pygments_lexer": "ipython3",
   "version": "3.4.0"
  }
 },
 "nbformat": 4,
 "nbformat_minor": 0
}
