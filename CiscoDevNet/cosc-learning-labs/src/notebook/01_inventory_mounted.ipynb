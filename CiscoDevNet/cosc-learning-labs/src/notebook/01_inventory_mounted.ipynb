{
 "cells": [
  {
   "cell_type": "markdown",
   "metadata": {},
   "source": [
    "# COSC Learning Lab: 01_inventory_mounted.py"
   ]
  },
  {
   "cell_type": "markdown",
   "metadata": {},
   "source": [
    "Related:\n",
    "* [01_inventory.py](01_inventory.ipynb)\n",
    "* [01_inventory_connected.py](Inventory.ipynb#01_inventory_connected.py)\n",
    "* [01_inventory_mount.py](01_inventory_mount.ipynb)\n",
    "* [01_device_dismount.py](01_device_dismount.ipynb)"
   ]
  },
  {
   "cell_type": "code",
   "execution_count": 3,
   "metadata": {
    "collapsed": false
   },
   "outputs": [
    {
     "name": "stdout",
     "output_type": "stream",
     "text": [
      "Python Library Documentation: function inventory_mounted in module basics.inventory\n",
      "\n",
      "inventory_mounted()\n",
      "    Names of network devices mounted on the Controller.\n",
      "    \n",
      "    Output a list of names.\n",
      "    Mounted devices are a subset of the inventory.\n",
      "    Mounted devices can be connected or not.\n",
      "\n",
      "['xrvr-511-53U', 'xrvr-531']\n"
     ]
    }
   ],
   "source": [
    "run ../learning_lab/01_inventory_mounted"
   ]
  },
  {
   "cell_type": "code",
   "execution_count": 4,
   "metadata": {
    "collapsed": false
   },
   "outputs": [
    {
     "data": {
      "text/html": [
       "<table>\n",
       "  <style>table {border: 1px solid black;}</style>\n",
       "  <style>tr:nth-of-type(even) {background-color:#eee;}</style>\n",
       "  <style>tr:nth-of-type(odd) {background-color:#fff;}</style>\n",
       "  <style>th {background-color:lightgray;}</style>\n",
       "  <thead>\n",
       "    <tr>\n",
       "      <th style=\"text-align:center\" colspan=\"2\">Request</th>\n",
       "    </tr>\n",
       "  </thead>\n",
       "  <tbody>\n",
       "    <tr>\n",
       "      <th>Method</th>\n",
       "      <td>GET</td>\n",
       "    </tr>\n",
       "    <tr>\n",
       "      <th>URL</th>\n",
       "      <td>http://127.0.0.1:8181/restconf/config/opendaylight-inventory:nodes</td>\n",
       "    </tr>\n",
       "    <tr>\n",
       "      <th>Headers</th>\n",
       "      <td><table>\n",
       "    <tr>\n",
       "        <td>\n",
       "            Accept\n",
       "        </td>\n",
       "        <td>\n",
       "            application/xml\n",
       "        </td>\n",
       "    </tr>\n",
       "    <tr>\n",
       "        <td>\n",
       "            Accept-Encoding\n",
       "        </td>\n",
       "        <td>\n",
       "            gzip, deflate, compress\n",
       "        </td>\n",
       "    </tr>\n",
       "    <tr>\n",
       "        <td>\n",
       "            Authorization\n",
       "        </td>\n",
       "        <td>\n",
       "            Basic YWRtaW46YWRtaW4=\n",
       "        </td>\n",
       "    </tr>\n",
       "    <tr>\n",
       "        <td>\n",
       "            User-Agent\n",
       "        </td>\n",
       "        <td>\n",
       "            python-requests/2.2.1 CPython/3.4.0 Linux/3.13.0-45-generic\n",
       "        </td>\n",
       "    </tr>\n",
       "\n",
       "</table>\n",
       "</td>\n",
       "    </tr>\n",
       "    <tr>\n",
       "      <th>Content</th>\n",
       "      <td></td>\n",
       "    </tr>\n",
       "  </tbody>\n",
       "  <thead>\n",
       "      <tr>\n",
       "        <th style=\"text-align:center;background-color:white\" colspan=\"2\"/>\n",
       "      </tr>\n",
       "      <tr>\n",
       "        <th style=\"text-align:center\" colspan=\"2\">Response</th>\n",
       "      </tr>\n",
       "  </thead>\n",
       "  <tbody>\n",
       "    <tr>\n",
       "      <th>Status Code</th>\n",
       "      <td>200</td>\n",
       "    </tr>\n",
       "    <tr>\n",
       "      <th>Headers</th>\n",
       "      <td><table>\n",
       "    <tr>\n",
       "        <td>\n",
       "            transfer-encoding\n",
       "        </td>\n",
       "        <td>\n",
       "            chunked\n",
       "        </td>\n",
       "    </tr>\n",
       "    <tr>\n",
       "        <td>\n",
       "            content-type\n",
       "        </td>\n",
       "        <td>\n",
       "            application/xml\n",
       "        </td>\n",
       "    </tr>\n",
       "    <tr>\n",
       "        <td>\n",
       "            server\n",
       "        </td>\n",
       "        <td>\n",
       "            Jetty(8.1.14.v20131031)\n",
       "        </td>\n",
       "    </tr>\n",
       "\n",
       "</table>\n",
       "</td>\n",
       "    </tr>\n",
       "    <tr>\n",
       "      <th>Content</th>\n",
       "      <td><pre>&lt;?xml version='1.0' encoding='ASCII'?&gt;\n",
       "&lt;nodes xmlns=\"urn:opendaylight:inventory\"&gt;\n",
       "  &lt;node&gt;\n",
       "    &lt;id&gt;xrvr-511-53U&lt;/id&gt;\n",
       "  &lt;/node&gt;\n",
       "  &lt;node&gt;\n",
       "    &lt;id&gt;xrvr-531&lt;/id&gt;\n",
       "  &lt;/node&gt;\n",
       "  &lt;node&gt;\n",
       "    &lt;id&gt;controller-config&lt;/id&gt;\n",
       "  &lt;/node&gt;\n",
       "&lt;/nodes&gt;\n",
       "</pre></td>\n",
       "    </tr>\n",
       "  </tbody>\n",
       "</table>\n"
      ],
      "text/plain": [
       "<IPython.core.display.HTML object>"
      ]
     },
     "execution_count": 4,
     "metadata": {},
     "output_type": "execute_result"
    }
   ],
   "source": [
    "from basics.odl_http import http_history\n",
    "from basics.http import http_history_to_html\n",
    "from IPython.core.display import HTML\n",
    "HTML(http_history_to_html(http_history()))"
   ]
  }
 ],
 "metadata": {
  "kernelspec": {
   "display_name": "Python 3",
   "language": "python",
   "name": "python3"
  },
  "language_info": {
   "codemirror_mode": {
    "name": "ipython",
    "version": 3
   },
   "file_extension": ".py",
   "mimetype": "text/x-python",
   "name": "python",
   "nbconvert_exporter": "python",
   "pygments_lexer": "ipython3",
   "version": "3.4.0"
  }
 },
 "nbformat": 4,
 "nbformat_minor": 0
}
