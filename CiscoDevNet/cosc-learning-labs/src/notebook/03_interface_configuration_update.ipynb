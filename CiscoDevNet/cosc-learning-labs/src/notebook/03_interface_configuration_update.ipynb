{
 "cells": [
  {
   "cell_type": "markdown",
   "metadata": {},
   "source": [
    "#COSC Learning Lab"
   ]
  },
  {
   "cell_type": "markdown",
   "metadata": {},
   "source": [
    "##03_interface_configuration_update.py"
   ]
  },
  {
   "cell_type": "markdown",
   "metadata": {},
   "source": [
    "Related Scripts:\n",
    "* [03_interface_configuration.py](03_interface_configuration.ipynb)\n",
    "* [03_interface_names.py](03_interface_names.ipynb)\n",
    "* [03_interface_properties.py](03_interface_properties.ipynb)"
   ]
  },
  {
   "cell_type": "markdown",
   "metadata": {},
   "source": [
    "###Table of Contents"
   ]
  },
  {
   "cell_type": "markdown",
   "metadata": {},
   "source": [
    "* [Table of Contents](#Table-of-Contents)\n",
    "* [Documentation](#Documentation)\n",
    "* [Implementation](#Implementation)\n",
    "* [Execution](#Execution)\n",
    "* [HTTP](#HTTP)"
   ]
  },
  {
   "cell_type": "markdown",
   "metadata": {},
   "source": [
    "###Documentation"
   ]
  },
  {
   "cell_type": "code",
   "execution_count": 1,
   "metadata": {
    "collapsed": false
   },
   "outputs": [
    {
     "name": "stdout",
     "output_type": "stream",
     "text": [
      "Help on module learning_lab.03_interface_configuration_update in learning_lab:\n",
      "\n",
      "NAME\n",
      "    learning_lab.03_interface_configuration_update - Sample usage of function 'interface_configuration_update'.\n",
      "\n",
      "DESCRIPTION\n",
      "    Print the function's documentation then invoke the function.\n",
      "    Use any one interface on any one device that is connected.\n",
      "    Verify that the configuration has changed.\n",
      "    Restore the configuration.\n",
      "\n",
      "FUNCTIONS\n",
      "    demonstrate(device_name, interface_config)\n",
      "    \n",
      "    main()\n",
      "\n",
      "DATA\n",
      "    config = {'network_device': {'xrvr-1': {'address': '172.16.1.76', 'pas...\n",
      "    temp_address = '101.101.101.101'\n",
      "    temp_description = 'Mutable'\n",
      "    temp_netmask = '255.255.0.0'\n",
      "\n",
      "FILE\n",
      "    /home/virl/git/cosc-learning-labs/src/learning_lab/03_interface_configuration_update.py\n",
      "\n",
      "\n"
     ]
    }
   ],
   "source": [
    "help('learning_lab.03_interface_configuration_update')"
   ]
  },
  {
   "cell_type": "markdown",
   "metadata": {},
   "source": [
    "###Implementation"
   ]
  },
  {
   "cell_type": "code",
   "execution_count": 2,
   "metadata": {
    "collapsed": false
   },
   "outputs": [
    {
     "name": "stdout",
     "output_type": "stream",
     "text": [
      "def main():\n",
      "    print(plain(doc(interface_configuration_update)))\n",
      "    for device_name in inventory_connected():\n",
      "        mgmt_name = management_interface(device_name)\n",
      "        for interface_name in interface_names(device_name):\n",
      "            # Avoid modifying the management interface.\n",
      "            if interface_name == mgmt_name:\n",
      "                continue\n",
      "            interface_config = interface_configuration(device_name, interface_name)\n",
      "            if not interface_config.address:\n",
      "                continue\n",
      "            demonstrate(device_name, interface_config)\n",
      "            return\n",
      "    print(\"There are no suitable network devices. Demonstration cancelled.\")\n",
      "\n"
     ]
    }
   ],
   "source": [
    "from importlib import import_module\n",
    "script = import_module('learning_lab.03_interface_configuration_update')\n",
    "from inspect import getsource\n",
    "print(getsource(script.main))"
   ]
  },
  {
   "cell_type": "code",
   "execution_count": null,
   "metadata": {
    "collapsed": false
   },
   "outputs": [
    {
     "name": "stdout",
     "output_type": "stream",
     "text": [
      "def demonstrate(device_name, interface_config):\n",
      "    print(\"Initial configuration:\")\n",
      "    initial = interface_config\n",
      "    print(initial)\n",
      "    \n",
      "    try:\n",
      "        print()\n",
      "        print(\"Modify configuration:\")\n",
      "        print('interface_configuration_update(' + device_name, initial.name, temp_description, temp_address, temp_netmask, not initial.shutdown, sep=', ', end=')\\n')\n",
      "        interface_configuration_update(device_name, initial.name, description=temp_description,\n",
      "                               address=temp_address, netmask=temp_netmask, shutdown=not initial.shutdown)\n",
      "        print()\n",
      "        print(\"Modified configuration:\")\n",
      "        modified = interface_configuration(device_name, initial.name)\n",
      "        print(modified)\n",
      "        assert modified.name == initial.name\n",
      "        assert modified.description != initial.description\n",
      "        assert modified.address != initial.address\n",
      "        assert modified.netmask != initial.netmask\n",
      "        assert modified.shutdown != initial.shutdown\n",
      "        \n",
      "    finally:\n",
      "        print()\n",
      "        print(\"Restore configuration:\")\n",
      "        print('interface_configuration_update(' + device_name, initial.name, initial.description, initial.address, initial.netmask, initial.shutdown, sep=', ', end=')\\n')\n",
      "        interface_configuration_update(device_name, initial.name, description=initial.description, address=initial.address, netmask=initial.netmask, shutdown=initial.shutdown)\n",
      "    \n",
      "        print()\n",
      "        print(\"Restored configuration:\")\n",
      "        restored = interface_configuration(device_name, initial.name)\n",
      "        print(restored)\n",
      "        assert restored.name == initial.name\n",
      "        assert restored.description == initial.description, (\"got \" % initial.description)\n",
      "        assert restored.address == initial.address\n",
      "        assert restored.netmask == initial.netmask\n",
      "        assert restored.shutdown == initial.shutdown\n",
      "\n"
     ]
    }
   ],
   "source": [
    "print(getsource(script.demonstrate))"
   ]
  },
  {
   "cell_type": "markdown",
   "metadata": {},
   "source": [
    "###Execution"
   ]
  },
  {
   "cell_type": "code",
   "execution_count": null,
   "metadata": {
    "collapsed": false
   },
   "outputs": [],
   "source": [
    "run ../learning_lab/03_interface_configuration_update.py"
   ]
  },
  {
   "cell_type": "markdown",
   "metadata": {},
   "source": [
    "###HTTP"
   ]
  },
  {
   "cell_type": "code",
   "execution_count": null,
   "metadata": {
    "collapsed": false
   },
   "outputs": [],
   "source": [
    "from basics.odl_http import http_history\n",
    "from basics.http import http_history_to_html\n",
    "from IPython.core.display import HTML\n",
    "HTML(http_history_to_html(http_history()))"
   ]
  }
 ],
 "metadata": {
  "kernelspec": {
   "display_name": "Python 3",
   "language": "python",
   "name": "python3"
  },
  "language_info": {
   "codemirror_mode": {
    "name": "ipython",
    "version": 3
   },
   "file_extension": ".py",
   "mimetype": "text/x-python",
   "name": "python",
   "nbconvert_exporter": "python",
   "pygments_lexer": "ipython3",
   "version": "3.4.0"
  }
 },
 "nbformat": 4,
 "nbformat_minor": 0
}
