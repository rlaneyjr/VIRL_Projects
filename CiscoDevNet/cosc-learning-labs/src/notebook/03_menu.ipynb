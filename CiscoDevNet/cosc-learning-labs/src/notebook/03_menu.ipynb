{
 "cells": [
  {
   "cell_type": "markdown",
   "metadata": {},
   "source": [
    "#COSC Learning Lab"
   ]
  },
  {
   "cell_type": "markdown",
   "metadata": {},
   "source": [
    "##03 Network Interfaces"
   ]
  },
  {
   "cell_type": "markdown",
   "metadata": {},
   "source": [
    "###Table of Contents"
   ]
  },
  {
   "cell_type": "markdown",
   "metadata": {},
   "source": [
    "* [Table of Contents](#Table-of-Contents)\n",
    "* [Preamble](#Preamble)\n",
    "* [Sample Scripts](#Sample-Scripts)\n",
    "    * [03_management_interface.py](#03_management_interface.py)\n",
    "    * [03_interface_names.py](#03_interface_names.py)\n",
    "    * [03_interface_properties.py](#03_interface_properties.py)\n",
    "    * [03_interface_configuration.py](#03_interface_configuration.py)        \n",
    "    * [03_interface_configuration_update.py](#03_interface_configuration_update.py)        \n",
    "    * [03_interface_shutdown.py](#03_interface_shutdown.py)        \n",
    "    * [03_interface_startup.py](#03_interface_startup.py)                "
   ]
  },
  {
   "cell_type": "markdown",
   "metadata": {},
   "source": [
    "###Preamble"
   ]
  },
  {
   "cell_type": "code",
   "execution_count": 1,
   "metadata": {
    "collapsed": false
   },
   "outputs": [],
   "source": [
    "from importlib import import_module\n",
    "from inspect import getdoc"
   ]
  },
  {
   "cell_type": "markdown",
   "metadata": {},
   "source": [
    "###Sample Scripts"
   ]
  },
  {
   "cell_type": "markdown",
   "metadata": {},
   "source": [
    "###[03_management_interface.py](03_management_interface.ipynb)"
   ]
  },
  {
   "cell_type": "code",
   "execution_count": 2,
   "metadata": {
    "collapsed": false
   },
   "outputs": [
    {
     "name": "stdout",
     "output_type": "stream",
     "text": [
      "Sample usage of function 'management_interface'.\n",
      "\n",
      "Print the function's documentation.\n",
      "Invoke the function.\n",
      "Print the function output.\n",
      "\n",
      "One device that is mounted will be selected for the demonstration.\n"
     ]
    }
   ],
   "source": [
    "print(getdoc(import_module('learning_lab.03_management_interface')))"
   ]
  },
  {
   "cell_type": "markdown",
   "metadata": {},
   "source": [
    "###[03_interface_names.py](03_interface_names.ipynb)"
   ]
  },
  {
   "cell_type": "code",
   "execution_count": 3,
   "metadata": {
    "collapsed": false
   },
   "outputs": [
    {
     "name": "stdout",
     "output_type": "stream",
     "text": [
      "Sample usage of function 'interface_names'.\n",
      "\n",
      "Print the function's documentation then apply the function to any one device that is mounted and connected.\n"
     ]
    }
   ],
   "source": [
    "print(getdoc(import_module('learning_lab.03_interface_names')))"
   ]
  },
  {
   "cell_type": "markdown",
   "metadata": {},
   "source": [
    "###[03_interface_properties.py](03_interface_properties.ipynb)"
   ]
  },
  {
   "cell_type": "code",
   "execution_count": 4,
   "metadata": {
    "collapsed": false
   },
   "outputs": [
    {
     "name": "stdout",
     "output_type": "stream",
     "text": [
      "Sample usage of function 'interface_properties'.\n",
      "\n",
      "Print the function's documentation then invoke the function and print the output.\n",
      "Apply the function to one interface on one device.\n",
      "The selected device must be connected.\n",
      "The selected interface is on the 'data plane' \n",
      "Interfaces on the 'control plane' are excluded.\n"
     ]
    }
   ],
   "source": [
    "print(getdoc(import_module('learning_lab.03_interface_properties')))"
   ]
  },
  {
   "cell_type": "markdown",
   "metadata": {},
   "source": [
    "###[03_interface_configuration.py](03_interface_properties.ipynb)"
   ]
  },
  {
   "cell_type": "code",
   "execution_count": 5,
   "metadata": {
    "collapsed": false
   },
   "outputs": [
    {
     "name": "stdout",
     "output_type": "stream",
     "text": [
      "Sample usage of function 'interface_configuration'.\n",
      "\n",
      "Print the function's documentation then invoke the function and print the output.\n",
      "Apply the function to one interface on one device.\n",
      "The selected device must be connected.\n",
      "The selected interface is on the 'data plane' \n",
      "Interfaces on the 'control plane' are excluded.\n"
     ]
    }
   ],
   "source": [
    "print(getdoc(import_module('learning_lab.03_interface_configuration')))"
   ]
  },
  {
   "cell_type": "markdown",
   "metadata": {},
   "source": [
    "###[03_interface_configuration_update.py](03_interface_configuration_update.ipynb)"
   ]
  },
  {
   "cell_type": "code",
   "execution_count": 6,
   "metadata": {
    "collapsed": false
   },
   "outputs": [
    {
     "name": "stdout",
     "output_type": "stream",
     "text": [
      "Sample usage of function 'interface_configuration_update'.\n",
      "\n",
      "Print the function's documentation then invoke the function.\n",
      "Use any one interface on any one device that is connected.\n",
      "Verify that the configuration has changed.\n",
      "Restore the configuration.\n"
     ]
    }
   ],
   "source": [
    "print(getdoc(import_module('learning_lab.03_interface_configuration_update')))"
   ]
  },
  {
   "cell_type": "markdown",
   "metadata": {},
   "source": [
    "###[03_interface_shutdown.py](03_interface_shutdown.ipynb)"
   ]
  },
  {
   "cell_type": "code",
   "execution_count": 7,
   "metadata": {
    "collapsed": false
   },
   "outputs": [
    {
     "name": "stdout",
     "output_type": "stream",
     "text": [
      "Sample usage of function 'interface_configuration_update' to shutdown an interface.\n",
      "\n",
      "Print the function's documentation then invoke the function.\n",
      "Apply the function to one interface on one device.\n",
      "The device must be connected.\n",
      "The interface must be on the 'data plane', not the 'control plane'.\n",
      "The interface must be 'up'.\n"
     ]
    }
   ],
   "source": [
    "print(getdoc(import_module('learning_lab.03_interface_shutdown')))"
   ]
  },
  {
   "cell_type": "markdown",
   "metadata": {},
   "source": [
    "###[03_interface_startup.py](03_interface_startup.ipynb)"
   ]
  },
  {
   "cell_type": "code",
   "execution_count": 8,
   "metadata": {
    "collapsed": false
   },
   "outputs": [
    {
     "name": "stdout",
     "output_type": "stream",
     "text": [
      "Sample usage of function 'interface_configuration_update' to startup an interface.\n",
      "\n",
      "Print the function's documentation then invoke the function.\n",
      "Apply the function to one interface on one device.\n",
      "The device must be connected.\n",
      "The interface must be on the 'data plane', not the 'control plane'.\n",
      "The interface must be 'down' already.\n"
     ]
    }
   ],
   "source": [
    "print(getdoc(import_module('learning_lab.03_interface_startup')))"
   ]
  }
 ],
 "metadata": {
  "kernelspec": {
   "display_name": "Python 3",
   "language": "python",
   "name": "python3"
  },
  "language_info": {
   "codemirror_mode": {
    "name": "ipython",
    "version": 3
   },
   "file_extension": ".py",
   "mimetype": "text/x-python",
   "name": "python",
   "nbconvert_exporter": "python",
   "pygments_lexer": "ipython3",
   "version": "3.4.0"
  }
 },
 "nbformat": 4,
 "nbformat_minor": 0
}
