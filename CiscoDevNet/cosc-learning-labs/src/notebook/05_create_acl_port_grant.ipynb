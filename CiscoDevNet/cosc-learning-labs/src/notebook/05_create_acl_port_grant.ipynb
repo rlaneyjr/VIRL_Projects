{
 "cells": [
  {
   "cell_type": "markdown",
   "metadata": {},
   "source": [
    "#COSC Learning Lab"
   ]
  },
  {
   "cell_type": "markdown",
   "metadata": {},
   "source": [
    "##05_create_acl_port_grant.py"
   ]
  },
  {
   "cell_type": "markdown",
   "metadata": {},
   "source": [
    "Related Scripts:\n",
    "* [05_acl_list.py](05_acl_list.ipynb)"
   ]
  },
  {
   "cell_type": "markdown",
   "metadata": {},
   "source": [
    "###Table of Contents"
   ]
  },
  {
   "cell_type": "markdown",
   "metadata": {},
   "source": [
    "* [Table of Contents](#Table-of-Contents)\n",
    "* [Documentation](#Documentation)\n",
    "* [Implementation](#Implementation)\n",
    "* [Execution](#Execution)\n",
    "* [HTTP](#HTTP)"
   ]
  },
  {
   "cell_type": "markdown",
   "metadata": {},
   "source": [
    "###Documentation"
   ]
  },
  {
   "cell_type": "code",
   "execution_count": 1,
   "metadata": {
    "collapsed": false
   },
   "outputs": [
    {
     "name": "stdout",
     "output_type": "stream",
     "text": [
      "Help on module learning_lab.05_create_acl_port_grant in learning_lab:\n",
      "\n",
      "NAME\n",
      "    learning_lab.05_create_acl_port_grant - Sample usage of function 'create_acl_port_grant'.\n",
      "\n",
      "DESCRIPTION\n",
      "    Print the function's documentation.\n",
      "    Apply the function to a network device.\n",
      "    Print the list of ACLs.\n",
      "    If no ACL found then retry with a different network device.\n",
      "\n",
      "FUNCTIONS\n",
      "    demonstrate(device_name)\n",
      "        Apply function 'create_acl_port_grant' to the specified device.\n",
      "    \n",
      "    main()\n",
      "        Select a device and demonstrate.\n",
      "\n",
      "DATA\n",
      "    EX_OK = 0\n",
      "    EX_TEMPFAIL = 75\n",
      "\n",
      "FILE\n",
      "    /home/virl/git/cosc-learning-labs/src/learning_lab/05_create_acl_port_grant.py\n",
      "\n",
      "\n"
     ]
    }
   ],
   "source": [
    "help('learning_lab.05_create_acl_port_grant')"
   ]
  },
  {
   "cell_type": "markdown",
   "metadata": {},
   "source": [
    "###Implementation"
   ]
  },
  {
   "cell_type": "code",
   "execution_count": 2,
   "metadata": {
    "collapsed": false
   },
   "outputs": [
    {
     "name": "stdout",
     "output_type": "stream",
     "text": [
      "def main():\n",
      "    ''' Select a device and demonstrate.'''\n",
      "    print(plain(doc(create_acl_port_grant)))\n",
      "    mounted_list = inventory_mounted()\n",
      "    if not mounted_list:\n",
      "        print('There are no mounted devices to examine. Demonstration cancelled.')\n",
      "    else:\n",
      "        for device_name in mounted_list:\n",
      "            try:\n",
      "                demonstrate(device_name)\n",
      "                return EX_OK\n",
      "            except Exception as e:\n",
      "                print(e)\n",
      "                return EX_TEMPFAIL\n",
      "    return EX_TEMPFAIL\n",
      "\n"
     ]
    }
   ],
   "source": [
    "from importlib import import_module\n",
    "script = import_module('learning_lab.05_create_acl_port_grant')\n",
    "from inspect import getsource\n",
    "print(getsource(script.main))"
   ]
  },
  {
   "cell_type": "code",
   "execution_count": 3,
   "metadata": {
    "collapsed": false
   },
   "outputs": [
    {
     "name": "stdout",
     "output_type": "stream",
     "text": [
      "def demonstrate(device_name):\n",
      "    ''' Apply function 'create_acl_port_grant' to the specified device.'''\n",
      "    print('create_acl_port_grant(' + device_name, acl_globals.acl_name, acl_globals.port, acl_globals.grant, acl_globals.protocol, sep=', ', end=')\\n')\n",
      "    create_acl_port_grant(device_name, acl_globals.acl_name, acl_globals.port, acl_globals.grant, acl_globals.protocol)\n",
      "\n"
     ]
    }
   ],
   "source": [
    "print(getsource(script.demonstrate))"
   ]
  },
  {
   "cell_type": "markdown",
   "metadata": {},
   "source": [
    "###Execution"
   ]
  },
  {
   "cell_type": "code",
   "execution_count": 4,
   "metadata": {
    "collapsed": false
   },
   "outputs": [
    {
     "name": "stdout",
     "output_type": "stream",
     "text": [
      "Python Library Documentation: function create_acl_port_grant in module basics.acl\n",
      "\n",
      "create_acl_port_grant(device_name, acl_name, port, grant, protocol)\n",
      "\n",
      "create_acl_port_grant(xrvr-511-53U, portdenyechoudp, echo, deny, udp)\n",
      "Data already exists for path: /(http://cisco.com/ns/yang/Cisco-IOS-XR-ipv4-acl-cfg?revision=2013-07-22)ipv4-acl-and-prefix-list/accesses\n"
     ]
    },
    {
     "name": "stderr",
     "output_type": "stream",
     "text": [
      "exit code 75\n"
     ]
    }
   ],
   "source": [
    "run ../learning_lab/05_create_acl_port_grant.py"
   ]
  },
  {
   "cell_type": "markdown",
   "metadata": {},
   "source": [
    "###HTTP"
   ]
  },
  {
   "cell_type": "code",
   "execution_count": 5,
   "metadata": {
    "collapsed": false
   },
   "outputs": [
    {
     "data": {
      "text/html": [
       "<DIV>HTTP request/response: 1&nbsp;<A href=\"#http2\">2</A>&nbsp;<BR id=\"http1\"/><table>\n",
       "  <style>table {border: 1px solid black;}</style>\n",
       "  <style>tr:nth-of-type(even) {background-color:#eee;}</style>\n",
       "  <style>tr:nth-of-type(odd) {background-color:#fff;}</style>\n",
       "  <style>th {background-color:lightgray;}</style>\n",
       "  <thead>\n",
       "    <tr>\n",
       "      <th style=\"text-align:center\" colspan=\"2\">Request</th>\n",
       "    </tr>\n",
       "  </thead>\n",
       "  <tbody>\n",
       "    <tr>\n",
       "      <th>Method</th>\n",
       "      <td>GET</td>\n",
       "    </tr>\n",
       "    <tr>\n",
       "      <th>URL</th>\n",
       "      <td>http://127.0.0.1:8181/restconf/config/opendaylight-inventory:nodes</td>\n",
       "    </tr>\n",
       "    <tr>\n",
       "      <th>Headers</th>\n",
       "      <td><table>\n",
       "    <tr>\n",
       "        <td>\n",
       "            User-Agent\n",
       "        </td>\n",
       "        <td>\n",
       "            python-requests/2.2.1 CPython/3.4.0 Linux/3.13.0-45-generic\n",
       "        </td>\n",
       "    </tr>\n",
       "    <tr>\n",
       "        <td>\n",
       "            Accept\n",
       "        </td>\n",
       "        <td>\n",
       "            application/xml\n",
       "        </td>\n",
       "    </tr>\n",
       "    <tr>\n",
       "        <td>\n",
       "            Authorization\n",
       "        </td>\n",
       "        <td>\n",
       "            Basic YWRtaW46YWRtaW4=\n",
       "        </td>\n",
       "    </tr>\n",
       "    <tr>\n",
       "        <td>\n",
       "            Accept-Encoding\n",
       "        </td>\n",
       "        <td>\n",
       "            gzip, deflate, compress\n",
       "        </td>\n",
       "    </tr>\n",
       "\n",
       "</table>\n",
       "</td>\n",
       "    </tr>\n",
       "    <tr>\n",
       "      <th>Content</th>\n",
       "      <td></td>\n",
       "    </tr>\n",
       "  </tbody>\n",
       "  <thead>\n",
       "      <tr>\n",
       "        <th style=\"text-align:center;background-color:white\" colspan=\"2\"/>\n",
       "      </tr>\n",
       "      <tr>\n",
       "        <th style=\"text-align:center\" colspan=\"2\">Response</th>\n",
       "      </tr>\n",
       "  </thead>\n",
       "  <tbody>\n",
       "    <tr>\n",
       "      <th>Status Code</th>\n",
       "      <td>200</td>\n",
       "    </tr>\n",
       "    <tr>\n",
       "      <th>Headers</th>\n",
       "      <td><table>\n",
       "    <tr>\n",
       "        <td>\n",
       "            content-type\n",
       "        </td>\n",
       "        <td>\n",
       "            application/xml\n",
       "        </td>\n",
       "    </tr>\n",
       "    <tr>\n",
       "        <td>\n",
       "            server\n",
       "        </td>\n",
       "        <td>\n",
       "            Jetty(8.1.14.v20131031)\n",
       "        </td>\n",
       "    </tr>\n",
       "    <tr>\n",
       "        <td>\n",
       "            transfer-encoding\n",
       "        </td>\n",
       "        <td>\n",
       "            chunked\n",
       "        </td>\n",
       "    </tr>\n",
       "\n",
       "</table>\n",
       "</td>\n",
       "    </tr>\n",
       "    <tr>\n",
       "      <th>Content</th>\n",
       "      <td><pre>&lt;?xml version='1.0' encoding='ASCII'?&gt;\n",
       "&lt;nodes xmlns=\"urn:opendaylight:inventory\"&gt;\n",
       "  &lt;node&gt;\n",
       "    &lt;id&gt;xrvr-511-53U&lt;/id&gt;\n",
       "  &lt;/node&gt;\n",
       "  &lt;node&gt;\n",
       "    &lt;id&gt;controller-config&lt;/id&gt;\n",
       "  &lt;/node&gt;\n",
       "&lt;/nodes&gt;\n",
       "</pre></td>\n",
       "    </tr>\n",
       "  </tbody>\n",
       "</table>\n",
       "HTTP request/response: <A href=\"#http1\">1</A>&nbsp;2&nbsp;<BR id=\"http2\"/><table>\n",
       "  <style>table {border: 1px solid black;}</style>\n",
       "  <style>tr:nth-of-type(even) {background-color:#eee;}</style>\n",
       "  <style>tr:nth-of-type(odd) {background-color:#fff;}</style>\n",
       "  <style>th {background-color:lightgray;}</style>\n",
       "  <thead>\n",
       "    <tr>\n",
       "      <th style=\"text-align:center\" colspan=\"2\">Request</th>\n",
       "    </tr>\n",
       "  </thead>\n",
       "  <tbody>\n",
       "    <tr>\n",
       "      <th>Method</th>\n",
       "      <td>POST</td>\n",
       "    </tr>\n",
       "    <tr>\n",
       "      <th>URL</th>\n",
       "      <td>http://127.0.0.1:8181/restconf/config/opendaylight-inventory:nodes/node/xrvr-511-53U/yang-ext:mount/Cisco-IOS-XR-ipv4-acl-cfg:ipv4-acl-and-prefix-list</td>\n",
       "    </tr>\n",
       "    <tr>\n",
       "      <th>Headers</th>\n",
       "      <td><table>\n",
       "    <tr>\n",
       "        <td>\n",
       "            Accept\n",
       "        </td>\n",
       "        <td>\n",
       "            */*\n",
       "        </td>\n",
       "    </tr>\n",
       "    <tr>\n",
       "        <td>\n",
       "            Accept-Encoding\n",
       "        </td>\n",
       "        <td>\n",
       "            gzip, deflate, compress\n",
       "        </td>\n",
       "    </tr>\n",
       "    <tr>\n",
       "        <td>\n",
       "            User-Agent\n",
       "        </td>\n",
       "        <td>\n",
       "            python-requests/2.2.1 CPython/3.4.0 Linux/3.13.0-45-generic\n",
       "        </td>\n",
       "    </tr>\n",
       "    <tr>\n",
       "        <td>\n",
       "            Content-Type\n",
       "        </td>\n",
       "        <td>\n",
       "            application/json\n",
       "        </td>\n",
       "    </tr>\n",
       "    <tr>\n",
       "        <td>\n",
       "            Authorization\n",
       "        </td>\n",
       "        <td>\n",
       "            Basic YWRtaW46YWRtaW4=\n",
       "        </td>\n",
       "    </tr>\n",
       "    <tr>\n",
       "        <td>\n",
       "            Content-Length\n",
       "        </td>\n",
       "        <td>\n",
       "            321\n",
       "        </td>\n",
       "    </tr>\n",
       "\n",
       "</table>\n",
       "</td>\n",
       "    </tr>\n",
       "    <tr>\n",
       "      <th>Content</th>\n",
       "      <td><pre>{\n",
       "  \"Cisco-IOS-XR-ipv4-acl-cfg:accesses\": [\n",
       "    {\n",
       "      \"access\": [\n",
       "        {\n",
       "          \"access-list-name\": \"portdenyechoudp\",\n",
       "          \"access-list-entries\": {\n",
       "            \"access-list-entry\": [\n",
       "              {\n",
       "                \"sequence-number\": 20,\n",
       "                \"grant\": \"permit\"\n",
       "              },\n",
       "              {\n",
       "                \"destination-port\": {\n",
       "                  \"destination-operator\": \"equal\",\n",
       "                  \"first-destination-port\": \"echo\"\n",
       "                },\n",
       "                \"protocol\": \"udp\",\n",
       "                \"sequence-number\": 10,\n",
       "                \"grant\": \"deny\"\n",
       "              }\n",
       "            ]\n",
       "          }\n",
       "        }\n",
       "      ]\n",
       "    }\n",
       "  ]\n",
       "}</pre></td>\n",
       "    </tr>\n",
       "  </tbody>\n",
       "  <thead>\n",
       "      <tr>\n",
       "        <th style=\"text-align:center;background-color:white\" colspan=\"2\"/>\n",
       "      </tr>\n",
       "      <tr>\n",
       "        <th style=\"text-align:center\" colspan=\"2\">Response</th>\n",
       "      </tr>\n",
       "  </thead>\n",
       "  <tbody>\n",
       "    <tr>\n",
       "      <th>Status Code</th>\n",
       "      <td>409</td>\n",
       "    </tr>\n",
       "    <tr>\n",
       "      <th>Headers</th>\n",
       "      <td><table>\n",
       "    <tr>\n",
       "        <td>\n",
       "            content-type\n",
       "        </td>\n",
       "        <td>\n",
       "            application/json\n",
       "        </td>\n",
       "    </tr>\n",
       "    <tr>\n",
       "        <td>\n",
       "            server\n",
       "        </td>\n",
       "        <td>\n",
       "            Jetty(8.1.14.v20131031)\n",
       "        </td>\n",
       "    </tr>\n",
       "    <tr>\n",
       "        <td>\n",
       "            transfer-encoding\n",
       "        </td>\n",
       "        <td>\n",
       "            chunked\n",
       "        </td>\n",
       "    </tr>\n",
       "\n",
       "</table>\n",
       "</td>\n",
       "    </tr>\n",
       "    <tr>\n",
       "      <th>Content</th>\n",
       "      <td><pre>{\n",
       "  \"errors\": {\n",
       "    \"error\": [\n",
       "      {\n",
       "        \"error-tag\": \"data-exists\",\n",
       "        \"error-type\": \"protocol\",\n",
       "        \"error-message\": \"Data already exists for path: /(http://cisco.com/ns/yang/Cisco-IOS-XR-ipv4-acl-cfg?revision=2013-07-22)ipv4-acl-and-prefix-list/accesses\"\n",
       "      }\n",
       "    ]\n",
       "  }\n",
       "}</pre></td>\n",
       "    </tr>\n",
       "  </tbody>\n",
       "</table>\n",
       "</DIV>"
      ],
      "text/plain": [
       "<IPython.core.display.HTML object>"
      ]
     },
     "execution_count": 5,
     "metadata": {},
     "output_type": "execute_result"
    }
   ],
   "source": [
    "from basics.odl_http import http_history\n",
    "from basics.http import http_history_to_html\n",
    "from IPython.core.display import HTML\n",
    "HTML(http_history_to_html(http_history()))"
   ]
  },
  {
   "cell_type": "code",
   "execution_count": null,
   "metadata": {
    "collapsed": true
   },
   "outputs": [],
   "source": []
  }
 ],
 "metadata": {
  "kernelspec": {
   "display_name": "Python 3",
   "language": "python",
   "name": "python3"
  },
  "language_info": {
   "codemirror_mode": {
    "name": "ipython",
    "version": 3
   },
   "file_extension": ".py",
   "mimetype": "text/x-python",
   "name": "python",
   "nbconvert_exporter": "python",
   "pygments_lexer": "ipython3",
   "version": "3.4.0"
  }
 },
 "nbformat": 4,
 "nbformat_minor": 0
}
