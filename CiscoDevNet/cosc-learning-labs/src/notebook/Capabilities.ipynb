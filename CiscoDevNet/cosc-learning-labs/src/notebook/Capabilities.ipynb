{
 "metadata": {
  "name": "",
  "signature": "sha256:d4d7550d32ba0e9ea728ac82ede43a8328d557d270af998024f2ff5c38326067"
 },
 "nbformat": 3,
 "nbformat_minor": 0,
 "worksheets": [
  {
   "cells": [
    {
     "cell_type": "heading",
     "level": 1,
     "metadata": {},
     "source": [
      "COSC Learning Lab: Capabilities"
     ]
    },
    {
     "cell_type": "heading",
     "level": 2,
     "metadata": {},
     "source": [
      "Inventory of mount points"
     ]
    },
    {
     "cell_type": "code",
     "collapsed": false,
     "input": [
      "from basics.inventory import inventory\n",
      "inventory()"
     ],
     "language": "python",
     "metadata": {},
     "outputs": [
      {
       "metadata": {},
       "output_type": "pyout",
       "prompt_number": 1,
       "text": [
        "['openflow:1', 'xrvr-1', 'xrvr-2', 'unreachable', 'openflow:2', 'openflow:3']"
       ]
      }
     ],
     "prompt_number": 1
    },
    {
     "cell_type": "heading",
     "level": 2,
     "metadata": {},
     "source": [
      "Select a mount point"
     ]
    },
    {
     "cell_type": "code",
     "collapsed": false,
     "input": [
      "device_name='xrvr-1'"
     ],
     "language": "python",
     "metadata": {},
     "outputs": [],
     "prompt_number": 5
    },
    {
     "cell_type": "heading",
     "level": 2,
     "metadata": {},
     "source": [
      "Capabilities of the selected mount point"
     ]
    },
    {
     "cell_type": "code",
     "collapsed": false,
     "input": [
      "from basics.capability import capability\n",
      "capability(device_name)"
     ],
     "language": "python",
     "metadata": {},
     "outputs": [
      {
       "metadata": {},
       "output_type": "pyout",
       "prompt_number": 6,
       "text": [
        "['Cisco-IOS-XR-infra-statsd-cfg',\n",
        " 'Cisco-IOS-XR-snmp-ifmib-cfg',\n",
        " 'Cisco-IOS-XR-ip-ntp-oper',\n",
        " 'Cisco-IOS-XR-ip-bfd-cfg',\n",
        " 'Cisco-IOS-XR-ifmgr-oper',\n",
        " 'Cisco-IOS-XR-drivers-media-eth-cfg',\n",
        " 'Cisco-IOS-XR-shellutil-cfg',\n",
        " 'Cisco-IOS-XR-man-xml-ttyagent-cfg',\n",
        " 'Cisco-IOS-XR-ipv6-nd-cfg',\n",
        " 'Cisco-IOS-XR-ipv6-acl-datatypes',\n",
        " 'Cisco-IOS-XR-snmp-agent-oper',\n",
        " 'Cisco-IOS-XR-ip-iarm-datatypes',\n",
        " 'Cisco-IOS-XR-infra-alarm-logger-oper',\n",
        " 'Cisco-IOS-XR-l2-eth-infra-oper',\n",
        " 'Cisco-IOS-XR-snmp-entitymib-cfg',\n",
        " 'Cisco-IOS-XR-ethernet-link-oam-cfg',\n",
        " 'Cisco-IOS-XR-ipv4-arp-oper',\n",
        " 'Cisco-IOS-XR-infra-infra-cfg',\n",
        " 'Cisco-IOS-XR-aaa-locald-cfg',\n",
        " 'Cisco-IOS-XR-ip-bfd-oper',\n",
        " 'Cisco-IOS-XR-cdp-oper',\n",
        " 'Cisco-IOS-XR-ipv4-acl-datatypes',\n",
        " 'Cisco-IOS-XR-ethernet-cfm-oper',\n",
        " 'Cisco-IOS-XR-bundlemgr-oper',\n",
        " 'Cisco-IOS-XR-ipv6-acl-cfg',\n",
        " 'Cisco-IOS-XR-ip-tcp-cfg',\n",
        " 'Cisco-IOS-XR-ipv4-bgp-cfg',\n",
        " 'Cisco-IOS-XR-snmp-ifmib-oper',\n",
        " 'Cisco-IOS-XR-lpts-lib-cfg',\n",
        " 'Cisco-IOS-XR-shellutil-oper',\n",
        " 'Cisco-IOS-XR-infra-rsi-cfg',\n",
        " 'Cisco-IOS-XR-config-mibs-cfg',\n",
        " 'Cisco-IOS-XR-ipv4-igmp-cfg',\n",
        " 'Cisco-IOS-XR-infra-sla-oper',\n",
        " 'Cisco-IOS-XR-ipv4-mrib-oper',\n",
        " 'ietf-inet-types',\n",
        " 'Cisco-IOS-XR-infra-correlator-oper',\n",
        " 'Cisco-IOS-XR-ipv4-bgp-datatypes',\n",
        " 'Cisco-IOS-XR-tty-vty-cfg',\n",
        " 'Cisco-IOS-XR-ip-static-cfg',\n",
        " 'Cisco-IOS-XR-crypto-sam-cfg',\n",
        " 'Cisco-IOS-XR-ipv4-io-cfg',\n",
        " 'Cisco-IOS-XR-rgmgr-oper',\n",
        " 'Cisco-IOS-XR-drivers-media-eth-oper',\n",
        " 'Cisco-IOS-XR-clns-isis-datatypes',\n",
        " 'Cisco-IOS-XR-parser-cfg',\n",
        " 'Cisco-IOS-XR-l2vpn-cfg',\n",
        " 'Cisco-IOS-XR-policy-repository-oper',\n",
        " 'Cisco-IOS-XR-installmgr-admin-oper',\n",
        " 'Cisco-IOS-XR-bundlemgr-cfg',\n",
        " 'Cisco-IOS-XR-snmp-frucontrolmib-cfg',\n",
        " 'Cisco-IOS-XR-pfi-im-cmd-oper',\n",
        " 'Cisco-IOS-XR-ipv4-pim-cfg',\n",
        " 'Cisco-IOS-XR-tty-server-oper',\n",
        " 'Cisco-IOS-XR-infra-rsi-oper',\n",
        " 'Cisco-IOS-XR-lib-mpp-cfg',\n",
        " 'Cisco-IOS-XR-aaa-locald-oper',\n",
        " 'Cisco-IOS-XR-lib-keychain-oper',\n",
        " 'Cisco-IOS-XR-ipv4-mfwd-cfg',\n",
        " 'Cisco-IOS-XR-snmp-agent-cfg',\n",
        " 'Cisco-IOS-XR-tty-server-cfg',\n",
        " 'Cisco-IOS-XR-ha-eem-cfg',\n",
        " 'Cisco-IOS-XR-ipv6-nd-oper',\n",
        " 'Cisco-IOS-XR-man-netconf-cfg',\n",
        " 'Cisco-IOS-XR-infra-systemmib-cfg',\n",
        " 'Cisco-IOS-XR-crypto-sam-oper',\n",
        " 'Cisco-IOS-XR-infra-alarm-logger-datatypes',\n",
        " 'Cisco-IOS-XR-qos-ma-oper',\n",
        " 'Cisco-IOS-XR-ipv4-mfwd-oper',\n",
        " 'Cisco-IOS-XR-policy-repository-cfg',\n",
        " 'Cisco-IOS-XR-crypto-ssh-cfg',\n",
        " 'Cisco-IOS-XR-ifmgr-cfg',\n",
        " 'Cisco-IOS-XR-infra-sla-cfg',\n",
        " 'Cisco-IOS-XR-ha-eem-oper',\n",
        " 'Cisco-IOS-XR-man-xml-ttyagent-oper',\n",
        " 'Cisco-IOS-XR-snmp-entstatemib-cfg',\n",
        " 'Cisco-IOS-XR-rgmgr-cfg',\n",
        " 'Cisco-IOS-XR-ip-domain-oper',\n",
        " 'Cisco-IOS-XR-l2-eth-infra-cfg',\n",
        " 'Cisco-IOS-XR-infra-alarm-logger-cfg',\n",
        " 'Cisco-IOS-XR-infra-syslog-oper',\n",
        " 'Cisco-IOS-XR-ip-tcp-oper',\n",
        " 'Cisco-IOS-XR-crypto-ssh-oper',\n",
        " 'Cisco-IOS-XR-ipv4-bgp-oper',\n",
        " 'Cisco-IOS-XR-ipv6-ma-oper',\n",
        " 'Cisco-IOS-XR-ipv4-pim-oper',\n",
        " 'ietf-yang-types',\n",
        " 'Cisco-IOS-XR-aaa-locald-admin-cfg',\n",
        " 'Cisco-IOS-XR-icpe-infra-cfg',\n",
        " 'Cisco-IOS-XR-ipv4-igmp-oper',\n",
        " 'Cisco-IOS-XR-clns-isis-cfg',\n",
        " 'Cisco-IOS-XR-cdp-cfg',\n",
        " 'Cisco-IOS-XR-lib-mpp-oper',\n",
        " 'Cisco-IOS-XR-ipv6-ma-cfg',\n",
        " 'Cisco-IOS-XR-ethernet-cfm-cfg',\n",
        " 'Cisco-IOS-XR-config-mda-cfg',\n",
        " 'Cisco-IOS-XR-tty-management-oper',\n",
        " 'Cisco-IOS-XR-qos-ma-cfg',\n",
        " 'Cisco-IOS-XR-ipv6-acl-oper',\n",
        " 'Cisco-IOS-XR-ipv4-acl-oper',\n",
        " 'Cisco-IOS-XR-ipv4-arp-cfg',\n",
        " 'Cisco-IOS-XR-ip-rib-cfg',\n",
        " 'Cisco-IOS-XR-ipv4-ma-cfg',\n",
        " 'Cisco-IOS-XR-fib-common-oper',\n",
        " 'Cisco-IOS-XR-l2-eth-infra-datatypes',\n",
        " 'Cisco-IOS-XR-ip-ntp-cfg',\n",
        " 'Cisco-IOS-XR-ip-rib-ipv4-oper',\n",
        " 'Cisco-IOS-XR-infra-statsd-oper',\n",
        " 'Cisco-IOS-XR-ip-rib-ipv6-oper',\n",
        " 'Cisco-IOS-XR-plat-chas-invmgr-oper',\n",
        " 'Cisco-IOS-XR-ip-pfilter-cfg',\n",
        " 'Cisco-IOS-XR-infra-syslog-cfg',\n",
        " 'Cisco-IOS-XR-types',\n",
        " 'Cisco-IOS-XR-ipv4-io-oper',\n",
        " 'Cisco-IOS-XR-common-acl-datatypes',\n",
        " 'Cisco-IOS-XR-drivers-m6-eft-cfg',\n",
        " 'Cisco-IOS-XR-ethernet-cfm-datatypes',\n",
        " 'Cisco-IOS-XR-ipv4-acl-cfg',\n",
        " 'Cisco-IOS-XR-lib-keychain-cfg',\n",
        " 'Cisco-IOS-XR-infra-correlator-cfg',\n",
        " 'Cisco-IOS-XR-tty-management-cfg',\n",
        " 'Cisco-IOS-XR-lpts-pre-ifib-cfg',\n",
        " 'Cisco-IOS-XR-clns-isis-oper',\n",
        " 'Cisco-IOS-XR-icpe-infra-oper',\n",
        " 'Cisco-IOS-XR-l2vpn-oper',\n",
        " 'Cisco-IOS-XR-infra-sla-datatypes',\n",
        " 'Cisco-IOS-XR-infra-ceredundancymib-cfg',\n",
        " 'Cisco-IOS-XR-tty-management-datatypes',\n",
        " 'Cisco-IOS-XR-aaa-lib-cfg',\n",
        " 'Cisco-IOS-XR-ipv4-ma-oper',\n",
        " 'Cisco-IOS-XR-ip-domain-cfg']"
       ]
      }
     ],
     "prompt_number": 6
    }
   ],
   "metadata": {}
  }
 ]
}