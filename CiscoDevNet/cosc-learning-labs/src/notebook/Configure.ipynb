{
 "metadata": {
  "name": "",
  "signature": "sha256:56a372caa001b5fcbf1ad92ca9b2fe4df7b3a3b083256e2edfef2d0656d0775c"
 },
 "nbformat": 3,
 "nbformat_minor": 0,
 "worksheets": [
  {
   "cells": [
    {
     "cell_type": "markdown",
     "metadata": {},
     "source": [
      "#Configure an interface"
     ]
    },
    {
     "cell_type": "markdown",
     "metadata": {},
     "source": [
      "##Python Path"
     ]
    },
    {
     "cell_type": "code",
     "collapsed": false,
     "input": [
      "import sys\n",
      "sys.path.append(\"..\")"
     ],
     "language": "python",
     "metadata": {},
     "outputs": [],
     "prompt_number": 28
    },
    {
     "cell_type": "markdown",
     "metadata": {},
     "source": [
      "##Environment"
     ]
    },
    {
     "cell_type": "code",
     "collapsed": false,
     "input": [
      "from os import environ\n",
      "environ[\"NETWORK_PROFILE\"] = \"giles\""
     ],
     "language": "python",
     "metadata": {},
     "outputs": [],
     "prompt_number": 29
    },
    {
     "cell_type": "markdown",
     "metadata": {},
     "source": [
      "##Select Device\n",
      "\n",
      "The following code chooses one interface on device."
     ]
    },
    {
     "cell_type": "code",
     "collapsed": false,
     "input": [
      "from basics.sample import sample_interface\n",
      "\n",
      "(device_name, interface_name) = sample_interface()\n",
      "print 'Use', (device_name, interface_name)"
     ],
     "language": "python",
     "metadata": {},
     "outputs": [
      {
       "output_type": "stream",
       "stream": "stdout",
       "text": [
        "Use ('xrvr-b', 'GigabitEthernet0/0/0/3')\n"
       ]
      }
     ],
     "prompt_number": 30
    },
    {
     "cell_type": "markdown",
     "metadata": {},
     "source": [
      "##Obtain Configuration"
     ]
    },
    {
     "cell_type": "code",
     "collapsed": false,
     "input": [
      "from basics.interface_configuration import interface_configuration\n",
      "interface = interface_configuration(device_name, interface_name)"
     ],
     "language": "python",
     "metadata": {},
     "outputs": [],
     "prompt_number": 25
    },
    {
     "cell_type": "markdown",
     "metadata": {},
     "source": [
      "##Show initial configuration"
     ]
    },
    {
     "cell_type": "code",
     "collapsed": false,
     "input": [
      "table_md_template = '''\n",
      "    |Name|Description|Shutdown|Address|NetMask|\n",
      "    |:-|:-|:-:|:-|:-|\n",
      "    |%s|%s|%s|%s|%s|\n",
      "'''\n",
      "\n",
      "table_md = table_md_template % (\n",
      "        interface.name,\n",
      "        interface.description,\n",
      "        interface.shutdown,\n",
      "        interface.address,\n",
      "        interface.netmask)\n",
      "    \n",
      "# from basics.markdown import normtable\n",
      "# print normtable(table_md)\n",
      "print table_md"
     ],
     "language": "python",
     "metadata": {},
     "outputs": [
      {
       "output_type": "stream",
       "stream": "stdout",
       "text": [
        "\n",
        "    |Name|Description|Shutdown|Address|NetMask|\n",
        "    |:-|:-|:-:|:-|:-|\n",
        "    |GigabitEthernet0/0/0/3|hiya|False|101.101.101.101|255.255.0.0|\n",
        "\n"
       ]
      }
     ],
     "prompt_number": 26
    },
    {
     "cell_type": "markdown",
     "metadata": {},
     "source": [
      "##Change description, IP address and mask"
     ]
    },
    {
     "cell_type": "code",
     "collapsed": false,
     "input": [
      "from basics.interface_configuration import interface_configuration_update\n",
      "\n",
      "interface_configuration_update(device_name, interface_name, description='Formerly ' + interface.address,\n",
      "                                   address='101.101.101.101', netmask='255.255.0.0', shutdown=interface.shutdown)"
     ],
     "language": "python",
     "metadata": {},
     "outputs": [],
     "prompt_number": 27
    },
    {
     "cell_type": "markdown",
     "metadata": {},
     "source": [
      "##Show modified configuration"
     ]
    },
    {
     "cell_type": "code",
     "collapsed": false,
     "input": [
      "modified = interface_configuration(device_name, interface_name)\n",
      "table_md = table_md_template % (\n",
      "        modified.name,\n",
      "        modified.description,\n",
      "        modified.shutdown,\n",
      "        modified.address,\n",
      "        modified.netmask)\n",
      "    \n",
      "# from basics.markdown import normtable\n",
      "# print normtable(table_md)\n",
      "print table_md"
     ],
     "language": "python",
     "metadata": {},
     "outputs": [
      {
       "output_type": "stream",
       "stream": "stdout",
       "text": [
        "\n",
        "    |Name|Description|Shutdown|Address|NetMask|\n",
        "    |:-|:-|:-:|:-|:-|\n",
        "    |GigabitEthernet0/0/0/3|hiya|False|101.101.101.101|255.255.0.0|\n",
        "\n"
       ]
      }
     ],
     "prompt_number": 12
    },
    {
     "cell_type": "markdown",
     "metadata": {},
     "source": [
      "##Restore configuration"
     ]
    },
    {
     "cell_type": "code",
     "collapsed": false,
     "input": [
      "interface_configuration_update(device_name, interface_name, description=interface.description,\n",
      "                                   address=interface.address, netmask=interface.netmask, shutdown=interface.shutdown)"
     ],
     "language": "python",
     "metadata": {},
     "outputs": [],
     "prompt_number": 9
    },
    {
     "cell_type": "markdown",
     "metadata": {},
     "source": [
      "##Show restored configuration"
     ]
    },
    {
     "cell_type": "code",
     "collapsed": false,
     "input": [
      "restored = interface_configuration(device_name, interface_name)\n",
      "table_md = table_md_template % (\n",
      "        restored.name,\n",
      "        restored.description,\n",
      "        restored.shutdown,\n",
      "        restored.address,\n",
      "        restored.netmask)\n",
      "    \n",
      "# from basics.markdown import normtable\n",
      "# print normtable(table_md)\n",
      "print table_md"
     ],
     "language": "python",
     "metadata": {},
     "outputs": [
      {
       "output_type": "stream",
       "stream": "stdout",
       "text": [
        "\n",
        "    |Name|Description|Shutdown|Address|NetMask|\n",
        "    |:-|:-|:-:|:-|:-|\n",
        "    |GigabitEthernet0/0/0/3|hiya|False|101.101.101.101|255.255.0.0|\n",
        "\n"
       ]
      }
     ],
     "prompt_number": 14
    },
    {
     "cell_type": "markdown",
     "metadata": {},
     "source": [
      "##Shutdown interface"
     ]
    },
    {
     "cell_type": "code",
     "collapsed": false,
     "input": [
      "interface_configuration_update(device_name, interface_name, interface.description,\n",
      "                                   interface.address, interface.netmask, shutdown=True)"
     ],
     "language": "python",
     "metadata": {},
     "outputs": []
    },
    {
     "cell_type": "markdown",
     "metadata": {},
     "source": [
      "##Show shutdown configuration"
     ]
    },
    {
     "cell_type": "code",
     "collapsed": false,
     "input": [
      "shutdown = interface_configuration(device_name, interface_name)\n",
      "table_md = table_md_template % (\n",
      "        shutdown.name,\n",
      "        shutdown.description,\n",
      "        shutdown.shutdown,\n",
      "        shutdown.address,\n",
      "        shutdown.netmask)\n",
      "    \n",
      "# from basics.markdown import normtable\n",
      "# print normtable(table_md)\n",
      "print table_md"
     ],
     "language": "python",
     "metadata": {},
     "outputs": [
      {
       "output_type": "stream",
       "stream": "stdout",
       "text": [
        "\n",
        "    |Name|Description|Shutdown|Address|NetMask|\n",
        "    |:-|:-|:-:|:-|:-|\n",
        "    |GigabitEthernet0/0/0/3|hiya|False|101.101.101.101|255.255.0.0|\n",
        "\n"
       ]
      }
     ],
     "prompt_number": 16
    },
    {
     "cell_type": "markdown",
     "metadata": {},
     "source": [
      "##Start interface"
     ]
    },
    {
     "cell_type": "code",
     "collapsed": false,
     "input": [
      "interface_configuration_update(device_name, interface_name, interface.description,\n",
      "                                   interface.address, interface.netmask, shutdown=False)"
     ],
     "language": "python",
     "metadata": {},
     "outputs": [],
     "prompt_number": 17
    },
    {
     "cell_type": "markdown",
     "metadata": {},
     "source": [
      "##Show started configuration"
     ]
    },
    {
     "cell_type": "code",
     "collapsed": false,
     "input": [
      "startup = interface_configuration(device_name, interface_name)\n",
      "table_md = table_md_template % (\n",
      "        startup.name,\n",
      "        startup.description,\n",
      "        startup.shutdown,\n",
      "        startup.address,\n",
      "        startup.netmask)\n",
      "    \n",
      "# from basics.markdown import normtable\n",
      "# print normtable(table_md)\n",
      "print table_md"
     ],
     "language": "python",
     "metadata": {},
     "outputs": [
      {
       "output_type": "stream",
       "stream": "stdout",
       "text": [
        "\n",
        "    |Name|Description|Shutdown|Address|NetMask|\n",
        "    |:-|:-|:-:|:-|:-|\n",
        "    |GigabitEthernet0/0/0/3|hiya|False|101.101.101.101|255.255.0.0|\n",
        "\n"
       ]
      }
     ],
     "prompt_number": 18
    }
   ],
   "metadata": {}
  }
 ]
}