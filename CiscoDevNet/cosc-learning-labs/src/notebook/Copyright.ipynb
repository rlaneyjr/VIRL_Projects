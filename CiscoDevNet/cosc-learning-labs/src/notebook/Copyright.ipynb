{
 "metadata": {
  "name": "",
  "signature": "sha256:31eef608a27f934eb4d839f110872790a5163ff00f921ed8db0c38ae4c94640e"
 },
 "nbformat": 3,
 "nbformat_minor": 0,
 "worksheets": [
  {
   "cells": [
    {
     "cell_type": "markdown",
     "metadata": {},
     "source": [
      "Copyright 2015 Cisco Systems, Inc.\n",
      "\n",
      "Licensed under the Apache License, Version 2.0 (the \"License\"); you may not use this file except in compliance with\n",
      "the License. You may obtain a copy of the License at\n",
      "\n",
      "http://www.apache.org/licenses/LICENSE-2.0\n",
      "\n",
      "Unless required by applicable law or agreed to in writing, software distributed under the License is distributed on\n",
      "an \"AS IS\" BASIS, WITHOUT WARRANTIES OR CONDITIONS OF ANY KIND, either express or implied. See the License for the\n",
      "specific language governing permissions and limitations under the License.\n"
     ]
    }
   ],
   "metadata": {}
  }
 ]
}