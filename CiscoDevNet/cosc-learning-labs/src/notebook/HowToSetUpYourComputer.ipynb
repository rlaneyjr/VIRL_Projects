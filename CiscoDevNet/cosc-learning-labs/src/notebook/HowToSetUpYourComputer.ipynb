{
 "metadata": {
  "name": "",
  "signature": "sha256:265041ea0d0bddacc3866665ebb9058f2e41e77cd3000274d345778d59b5a1d0"
 },
 "nbformat": 3,
 "nbformat_minor": 0,
 "worksheets": [
  {
   "cells": [
    {
     "cell_type": "heading",
     "level": 1,
     "metadata": {},
     "source": [
      "Learning Lab: How to set up your computer"
     ]
    },
    {
     "cell_type": "heading",
     "level": 2,
     "metadata": {},
     "source": [
      "Git Repository"
     ]
    },
    {
     "cell_type": "markdown",
     "metadata": {},
     "source": [
      "The code is hosted in a Git Repository:\n",
      "  \n",
      "https://devhub.cisco.com/sf/projects/cosc_learning_labs/\n",
      "  \n",
      "(You will be re-directed to the login page if you are not already logged in to that website.)"
     ]
    },
    {
     "cell_type": "heading",
     "level": 2,
     "metadata": {},
     "source": [
      "Git Clone"
     ]
    },
    {
     "cell_type": "markdown",
     "metadata": {},
     "source": [
      "You need to perform a *git clone* of the code from the Git Repository. This can be done in a command shell, as shown below. Alternatively, there are other ways of achieving this. For example, an IDE, such as Eclipse, can do this for you."
     ]
    },
    {
     "cell_type": "heading",
     "level": 3,
     "metadata": {},
     "source": [
      "Command Line"
     ]
    },
    {
     "cell_type": "markdown",
     "metadata": {},
     "source": [
      "From the command line of a shell, the clone is performed by a single command:\n",
      "```\n",
      "git clone ssh://<you>@gerrit-open1.cisco.com:29418/cosc-learning-labs\n",
      "```\n",
      "where `<you>` is your username as registered with the website.\n",
      "This will create directory\n",
      "```\n",
      "cosc-learning-labs\n",
      "```\n",
      "in the current directory.\n",
      "    \n",
      "The convention is for the current directory to be named `git`, but that is your choice."
     ]
    },
    {
     "cell_type": "heading",
     "level": 4,
     "metadata": {},
     "source": [
      "Download Git"
     ]
    },
    {
     "cell_type": "markdown",
     "metadata": {},
     "source": [
      "If you need to download the `git` command, visit this website:\n",
      "  \n",
      "http://git-scm.com/downloads"
     ]
    },
    {
     "cell_type": "heading",
     "level": 2,
     "metadata": {},
     "source": [
      "Change Directory"
     ]
    },
    {
     "cell_type": "markdown",
     "metadata": {},
     "source": [
      "Change the current directory to the sub-directory:\n",
      "```\n",
      "cosc-learning-labs/src/learning_lab\n",
      "```\n",
      "The shell command is usually either:\n",
      "```\n",
      "cd cosc-learning-labs/src/learning_lab\n",
      "```\n",
      "or\n",
      "```\n",
      "cd cosc-learning-labs\\src\\learning_lab\n",
      "```"
     ]
    },
    {
     "cell_type": "heading",
     "level": 2,
     "metadata": {},
     "source": [
      "Python"
     ]
    },
    {
     "cell_type": "markdown",
     "metadata": {},
     "source": [
      "You need Python to be available. To download Python, visit website:\n",
      "* https://www.python.org/downloads/\n",
      "\n",
      "Due to the popularity of Python, many operating systems have pre-packaged it.  \n",
      "For Ubuntu, Python can be installed using [apt-get](http://en.wikipedia.org/wiki/Advanced_Packaging_Tool):\n",
      "```\n",
      "sudo apt-get install python\n",
      "```\n",
      "For OSX, visit website:\n",
      "* http://docs.python-guide.org/en/latest/starting/install/osx/"
     ]
    },
    {
     "cell_type": "heading",
     "level": 3,
     "metadata": {},
     "source": [
      "Python Version"
     ]
    },
    {
     "cell_type": "markdown",
     "metadata": {},
     "source": [
      "The Python website offers two major versions of Python: `3.x.x` and `2.x.x`. The version of Python employed by this Learning Lab is revealed by the following command:"
     ]
    },
    {
     "cell_type": "code",
     "collapsed": false,
     "input": [
      "import sys\n",
      "\n",
      "print(sys.version)"
     ],
     "language": "python",
     "metadata": {},
     "outputs": [
      {
       "output_type": "stream",
       "stream": "stdout",
       "text": [
        "2.7.6 (default, Mar 22 2014, 22:59:56) \n",
        "[GCC 4.8.2]\n"
       ]
      }
     ],
     "prompt_number": 6
    },
    {
     "cell_type": "markdown",
     "metadata": {},
     "source": [
      "The command above was run inside an [IPython Notebook](#Jupyter/IPython). In a command line shell use:\n",
      "```\n",
      "python --version\n",
      "```"
     ]
    },
    {
     "cell_type": "heading",
     "level": 3,
     "metadata": {},
     "source": [
      "3rd Party Libraries"
     ]
    },
    {
     "cell_type": "markdown",
     "metadata": {},
     "source": [
      "The following Python libraries are required:\n",
      "* lxml\n",
      "* requests\n",
      "  \n",
      "The command to install a Python library is usually:\n",
      "```\n",
      "pip install <library>\n",
      "```\n",
      "or\n",
      "```\n",
      "easy_install <library>\n",
      "```\n",
      "You will probably need to prefix these commands with `sudo` on a Linux OS. For example:\n",
      "```\n",
      "sudo pip install lxml\n",
      "```"
     ]
    },
    {
     "cell_type": "heading",
     "level": 2,
     "metadata": {},
     "source": [
      "Python Interactive Shell"
     ]
    },
    {
     "cell_type": "markdown",
     "metadata": {},
     "source": [
      "The conventional Python interactive shell is entered with the command:\n",
      "```\n",
      "python\n",
      "```\n",
      "The response will be something like:\n",
      "```\n",
      "Python 2.7.6 (default, Mar 22 2014, 22:59:56) \n",
      "[GCC 4.8.2] on linux2\n",
      "Type \"help\", \"copyright\", \"credits\" or \"license\" for more information.\n",
      ">>>\n",
      "```\n",
      "The\n",
      "```\n",
      ">>>\n",
      "```\n",
      "is the prompt to enter Python code, for example:\n",
      "```\n",
      ">>> print('Hello, World!')\n",
      "Hello, World!\n",
      ">>> \n",
      "```"
     ]
    },
    {
     "cell_type": "heading",
     "level": 3,
     "metadata": {},
     "source": [
      "Verify 3rd Party Libraries"
     ]
    },
    {
     "cell_type": "markdown",
     "metadata": {},
     "source": [
      "To verify that the 3rd party libraries are available, we import them into the Python Interactive Shell."
     ]
    },
    {
     "cell_type": "code",
     "collapsed": false,
     "input": [
      "import lxml\n",
      "import requests"
     ],
     "language": "python",
     "metadata": {},
     "outputs": [],
     "prompt_number": 7
    },
    {
     "cell_type": "markdown",
     "metadata": {},
     "source": [
      "Enter the name of an imported module to see a description of it..."
     ]
    },
    {
     "cell_type": "code",
     "collapsed": false,
     "input": [
      "lxml"
     ],
     "language": "python",
     "metadata": {},
     "outputs": [
      {
       "metadata": {},
       "output_type": "pyout",
       "prompt_number": 8,
       "text": [
        "<module 'lxml' from '/usr/lib/python2.7/dist-packages/lxml/__init__.pyc'>"
       ]
      }
     ],
     "prompt_number": 8
    },
    {
     "cell_type": "code",
     "collapsed": false,
     "input": [
      "requests"
     ],
     "language": "python",
     "metadata": {},
     "outputs": [
      {
       "metadata": {},
       "output_type": "pyout",
       "prompt_number": 9,
       "text": [
        "<module 'requests' from '/usr/lib/python2.7/dist-packages/requests/__init__.pyc'>"
       ]
      }
     ],
     "prompt_number": 9
    },
    {
     "cell_type": "heading",
     "level": 2,
     "metadata": {},
     "source": [
      "PyDev Eclipse Plugin"
     ]
    },
    {
     "cell_type": "markdown",
     "metadata": {},
     "source": [
      "There is a plug-in for Eclipse IDE, named PyDev, that offers a Python Interactive Shell in the Console view. You can this as an alternative to the [Python Interactive Shell](#Python-Interactive-Shell), described above.\n",
      "\n",
      "When the PyDev Console is opened, you will see something similar to:\n",
      "```\n",
      "Python 2.7.6 (default, Mar 22 2014, 22:59:56) \n",
      "Type \"copyright\", \"credits\" or \"license\" for more information.\n",
      "\n",
      "IPython 2.3.1 -- An enhanced Interactive Python.\n",
      "?         -> Introduction and overview of IPython's features.\n",
      "%quickref -> Quick reference.\n",
      "help      -> Python's own help system.\n",
      "object?   -> Details about 'object', use 'object??' for extra details.\n",
      "\n",
      "PyDev -- Python IDE for Eclipse\n",
      "For help on using PyDev's Console see http://pydev.org/manual_adv_interactive_console.html\n",
      "PyDev console: using IPython 2.3.1\n",
      ">>>\n",
      "/usr/bin/python 2.7.6 (default, Mar 22 2014, 22:59:56) \n",
      "[GCC 4.8.2]\n",
      ">>>\n",
      "```"
     ]
    },
    {
     "cell_type": "markdown",
     "metadata": {},
     "source": [
      "Note the familiar prompt where you can enter Python code.\n",
      "```\n",
      ">>>\n",
      "```"
     ]
    },
    {
     "cell_type": "markdown",
     "metadata": {},
     "source": [
      "The update site for PyDev is http://pydev.sf.net/updates/"
     ]
    },
    {
     "cell_type": "heading",
     "level": 2,
     "metadata": {},
     "source": [
      "Jupyter/IPython"
     ]
    },
    {
     "cell_type": "markdown",
     "metadata": {},
     "source": [
      "PyDev for Eclipse, as shown above, uses IPython. Jupyter is the new name for IPython. The installation web page is http://ipython.org/install.html.\n",
      "  \n",
      "All the web pages for this Learning Lab are available as IPython Notebooks.\n",
      "  \n",
      "Assuming that your current directory is:\n",
      "```\n",
      "learning_lab\n",
      "```\n",
      "as per the [instructions](#Change-Directory) above, you can list the IPython Notebooks:"
     ]
    },
    {
     "cell_type": "code",
     "collapsed": false,
     "input": [
      "ls *.ipynb"
     ],
     "language": "python",
     "metadata": {},
     "outputs": [
      {
       "output_type": "stream",
       "stream": "stdout",
       "text": [
        "01_device_connected.ipynb     Configure.ipynb\r\n",
        "01_device_dismount.ipynb      Copyright.ipynb\r\n",
        "01_device_mounted.ipynb       Dashboard.ipynb\r\n",
        "01_device_dismount.ipynb   HowToSetUpYourComputer.ipynb\r\n",
        "01_inventory.ipynb            Http.ipynb\r\n",
        "01_inventory_json.ipynb       Interface.ipynb\r\n",
        "01_inventory_mount.ipynb  Inventory.ipynb\r\n",
        "01_inventory_mounted.ipynb    Menu.ipynb\r\n",
        "01_inventory_mount.ipynb      Objectives.ipynb\r\n",
        "02_interface_names.ipynb      Properties.ipynb\r\n",
        "AccessControl.ipynb           QuickStartCurl.ipynb\r\n",
        "Capabilities.ipynb            Settings.ipynb\r\n"
       ]
      }
     ],
     "prompt_number": 10
    },
    {
     "cell_type": "markdown",
     "metadata": {},
     "source": [
      "To use these Notebooks, start IPython with the command:\n",
      "```\n",
      "ipython notebook\n",
      "```\n",
      "and it will open a web page that offers you a list of hyper-links to the Notebooks, including the document you are currently reading!\n",
      "  \n",
      "The advantage of IPython Notebooks is that they already contain the Python sample code, sparing you the chore of typing it yourself, or repetitive copy-and-paste."
     ]
    },
    {
     "cell_type": "heading",
     "level": 2,
     "metadata": {},
     "source": [
      "Import Learning Lab"
     ]
    },
    {
     "cell_type": "markdown",
     "metadata": {},
     "source": [
      "The final step is to import the Learning Lab module into your [Python Interactive Shell](#Python-Interactive-Shell)."
     ]
    },
    {
     "cell_type": "code",
     "collapsed": false,
     "input": [
      "import learning_lab"
     ],
     "language": "python",
     "metadata": {},
     "outputs": [],
     "prompt_number": 11
    },
    {
     "cell_type": "markdown",
     "metadata": {},
     "source": [
      "To confirm that the module is imported, use the 'help' command to describe the module:"
     ]
    },
    {
     "cell_type": "code",
     "collapsed": false,
     "input": [
      "help(learning_lab)"
     ],
     "language": "python",
     "metadata": {},
     "outputs": [
      {
       "output_type": "stream",
       "stream": "stdout",
       "text": [
        "Help on package learning_lab:\n",
        "\n",
        "NAME\n",
        "    learning_lab\n",
        "\n",
        "FILE\n",
        "    /home/virl/git/cosc-learning-labs/src/learning_lab/__init__.py\n",
        "\n",
        "PACKAGE CONTENTS\n",
        "    00_controller\n",
        "    00_devices\n",
        "    00_settings\n",
        "    01_device_connected\n",
        "    01_device_dismount\n",
        "    01_device_mounted\n",
        "    01_inventory\n",
        "    01_inventory_connected\n",
        "    01_device_dismount\n",
        "    01_inventory_integrity\n",
        "    01_inventory_json\n",
        "    01_inventory_mount\n",
        "    01_inventory_mount\n",
        "    01_inventory_mounted\n",
        "    01_inventory_not_connected\n",
        "    01_inventory_summary\n",
        "    01_inventory_summary_html\n",
        "    01_inventory_unmounted\n",
        "    01_inventory_unreachable\n",
        "    02_capability\n",
        "    02_interface_names\n",
        "    03_interface_configuration\n",
        "    03_interface_configuration_update\n",
        "    03_interface_properties\n",
        "    03_interface_shutdown\n",
        "    03_interface_startup\n",
        "    04_routes\n",
        "    04_topology\n",
        "    05_access_group_toggle\n",
        "    05_access_list_toggle\n",
        "    05_acl_delete\n",
        "    05_acl_detail\n",
        "    05_acl_list\n",
        "    05_port_deny\n",
        "    05_port_permit\n",
        "    05_unapply\n",
        "    giles\n",
        "\n",
        "FUNCTIONS\n",
        "    doc(script)\n",
        "    \n",
        "    main(script)\n",
        "\n",
        "\n"
       ]
      }
     ],
     "prompt_number": 12
    }
   ],
   "metadata": {}
  }
 ]
}