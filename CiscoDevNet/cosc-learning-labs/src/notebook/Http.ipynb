{
 "metadata": {
  "name": "",
  "signature": "sha256:ec7008f67cda1ab63cf1ed9fce559378bfbce55eb3b04500989424e1dd76a016"
 },
 "nbformat": 3,
 "nbformat_minor": 0,
 "worksheets": [
  {
   "cells": [
    {
     "cell_type": "heading",
     "level": 1,
     "metadata": {},
     "source": [
      "Learning Lab: Hypertext Transfer Protocol (HTTP)"
     ]
    },
    {
     "cell_type": "heading",
     "level": 2,
     "metadata": {},
     "source": [
      "Introduction"
     ]
    },
    {
     "cell_type": "markdown",
     "metadata": {},
     "source": [
      "One of the [objectives](Objectives.ipynb#Talk-to-the-Controller) of this Learning Lab is to demonstrate how to communicate directly with the Controller using [HTTP](http://en.wikipedia.org/wiki/Hypertext_Transfer_Protocol). In each [lesson](Menu.ipynb) of this Learning Lab, the sample code invokes functions in the Python library. The library functions communicate with the Controller by sending and receiving HTTP messages. Thus, the library is communicating with the Controller *directly* and the sample code is communicating with the library.\n",
      "\n",
      "The structure is thus:\n",
      "\n",
      "COSC Learning Lab -> lesson -> sample script in Python -> library layer in Python -> HTTP layer -> Controller\n",
      "\n",
      "The data flow through the HTTP layer is excluded from the lessons but links are provided to pages that contain HTTP Reference Tables. These examples of actual HTTP requests and responses can be used to fulfil the stated objective. Here is an [example](01_inventory_mounted.ipynb) of a HTTP Reference Table.\n",
      "\n",
      "The following demonstrations are provided of direct communication with the Controller by HTTP:\n",
      "1. using plain Python independently from this Learning Lab.\n",
      "1. using `curl` and `wget` from the command line"
     ]
    },
    {
     "cell_type": "heading",
     "level": 2,
     "metadata": {},
     "source": [
      "Table of Contents"
     ]
    },
    {
     "cell_type": "markdown",
     "metadata": {},
     "source": [
      "* [Introduction](#Introduction)\n",
      "* [Table of Contents](#Table-of-Contents)\n",
      "* [Prologue](#Prologue)\n",
      "* [HTTP Reference Table](#HTTP-Reference-Table)\n",
      "* [Reproduce HTTP request and response](#Reproduce-HTTP-request-and-response)\n",
      "    * [Prepare HTTP request using Python](#Prepare-HTTP-request-using-Python)\n",
      "    * [Send HTTP request using Python](#Send-HTTP-request-using-Python)\n",
      "    * [Receive HTTP response using Python](#Receive-HTTP-response-using-Python)\n",
      "    * [HTTP request and response using CLI](#HTTP-request-and-response-using-CLI)\n",
      "* [Conclusion](#Conclusion)"
     ]
    },
    {
     "cell_type": "heading",
     "level": 2,
     "metadata": {},
     "source": [
      "Prologue"
     ]
    },
    {
     "cell_type": "markdown",
     "metadata": {},
     "source": [
      "If the Learning Lab team have provided you with either:\n",
      "* a Python Interactive Shell, or\n",
      "* an IPython Notebook\n",
      "  \n",
      "then please proceed. Otherwise, please follow the instructions on web page: [How to set up your computer](HowToSetUpYourComputer.ipynb)\n",
      "\n",
      "Import the Python module named `learning_lab`. "
     ]
    },
    {
     "cell_type": "code",
     "collapsed": false,
     "input": [
      "import learning_lab\n",
      "from basics.odl_http import http_history, http_history_clear\n",
      "http_history_clear()\n",
      "from basics.http import http_history_to_html\n",
      "from IPython.core.display import HTML"
     ],
     "language": "python",
     "metadata": {},
     "outputs": [],
     "prompt_number": 1
    },
    {
     "cell_type": "heading",
     "level": 2,
     "metadata": {},
     "source": [
      "HTTP Reference Table"
     ]
    },
    {
     "cell_type": "markdown",
     "metadata": {},
     "source": [
      "Produce a *reference table* describing a HTTP request and response. This table is typical of the HTTP usage throughout this Learning Lab. This particular message was chosen because it is not too lengthy. \n",
      "\n",
      "See also:\n",
      "* Reference table of [Large](01_inventory.ipynb) HTTP response\n",
      "* Reference table of HTTP [POST](01_inventory_mount.ipynb#http2)\n",
      "* Reference table of HTTP [DELETE](01_device_dismount.ipynb#http2)\n",
      "\n",
      "Python code is used to produce the table. An explanation of this code is not relevant. The goal is just to produce the table."
     ]
    },
    {
     "cell_type": "code",
     "collapsed": false,
     "input": [
      "run 01_inventory_mounted"
     ],
     "language": "python",
     "metadata": {},
     "outputs": [
      {
       "output_type": "stream",
       "stream": "stdout",
       "text": [
        "Python Library Documentation: function inventory_mounted in module basics.inventory\n",
        "\n",
        "inventory_mounted()\n",
        "    List the names of network devices mounted on the Controller.\n",
        "\n",
        "['xrvr-1', 'xrvr-2', 'xrvr-999']"
       ]
      },
      {
       "output_type": "stream",
       "stream": "stdout",
       "text": [
        "\n"
       ]
      }
     ],
     "prompt_number": 2
    },
    {
     "cell_type": "code",
     "collapsed": false,
     "input": [
      "HTML(http_history_to_html(http_history()))"
     ],
     "language": "python",
     "metadata": {},
     "outputs": [
      {
       "html": [
        "<table>\n",
        "  <style>table {border: 1px solid black;}</style>\n",
        "  <style>tr:nth-of-type(even) {background-color:#eee;}</style>\n",
        "  <style>tr:nth-of-type(odd) {background-color:#fff;}</style>\n",
        "  <style>th {background-color:lightgray;}</style>\n",
        "  <thead>\n",
        "    <tr>\n",
        "      <th style=\"text-align:center\" colspan=\"2\">Request</th>\n",
        "    </tr>\n",
        "  </thead>\n",
        "  <tbody>\n",
        "    <tr>\n",
        "      <th>Method</th>\n",
        "      <td>GET</td>\n",
        "    </tr>\n",
        "    <tr>\n",
        "      <th>URL</th>\n",
        "      <td>http://127.0.0.1:8181/restconf/config/opendaylight-inventory:nodes</td>\n",
        "    </tr>\n",
        "    <tr>\n",
        "      <th>Headers</th>\n",
        "      <td><table>\n",
        "    <tr>\n",
        "        <td>\n",
        "            Authorization\n",
        "        </td>\n",
        "        <td>\n",
        "            Basic YWRtaW46YWRtaW4=\n",
        "        </td>\n",
        "    </tr>\n",
        "    <tr>\n",
        "        <td>\n",
        "            Accept-Encoding\n",
        "        </td>\n",
        "        <td>\n",
        "            gzip, deflate, compress\n",
        "        </td>\n",
        "    </tr>\n",
        "    <tr>\n",
        "        <td>\n",
        "            Accept\n",
        "        </td>\n",
        "        <td>\n",
        "            application/xml\n",
        "        </td>\n",
        "    </tr>\n",
        "    <tr>\n",
        "        <td>\n",
        "            User-Agent\n",
        "        </td>\n",
        "        <td>\n",
        "            python-requests/2.2.1 CPython/2.7.6 Linux/3.13.0-44-generic\n",
        "        </td>\n",
        "    </tr>\n",
        "\n",
        "</table>\n",
        "</td>\n",
        "    </tr>\n",
        "    <tr>\n",
        "      <th>Content</th>\n",
        "      <td></td>\n",
        "    </tr>\n",
        "  </tbody>\n",
        "  <thead>\n",
        "      <tr>\n",
        "        <th style=\"text-align:center;background-color:white\" colspan=\"2\"/>\n",
        "      </tr>\n",
        "      <tr>\n",
        "        <th style=\"text-align:center\" colspan=\"2\">Response</th>\n",
        "      </tr>\n",
        "  </thead>\n",
        "  <tbody>\n",
        "    <tr>\n",
        "      <th>Status Code</th>\n",
        "      <td>200</td>\n",
        "    </tr>\n",
        "    <tr>\n",
        "      <th>Headers</th>\n",
        "      <td><table>\n",
        "    <tr>\n",
        "        <td>\n",
        "            transfer-encoding\n",
        "        </td>\n",
        "        <td>\n",
        "            chunked\n",
        "        </td>\n",
        "    </tr>\n",
        "    <tr>\n",
        "        <td>\n",
        "            content-type\n",
        "        </td>\n",
        "        <td>\n",
        "            application/xml\n",
        "        </td>\n",
        "    </tr>\n",
        "    <tr>\n",
        "        <td>\n",
        "            server\n",
        "        </td>\n",
        "        <td>\n",
        "            Jetty(8.1.14.v20131031)\n",
        "        </td>\n",
        "    </tr>\n",
        "\n",
        "</table>\n",
        "</td>\n",
        "    </tr>\n",
        "    <tr>\n",
        "      <th>Content</th>\n",
        "      <td><pre>&lt;?xml version='1.0' encoding='ASCII'?&gt;\n",
        "&lt;nodes xmlns=\"urn:opendaylight:inventory\"&gt;\n",
        "  &lt;node&gt;\n",
        "    &lt;id&gt;xrvr-1&lt;/id&gt;\n",
        "  &lt;/node&gt;\n",
        "  &lt;node&gt;\n",
        "    &lt;id&gt;xrvr-2&lt;/id&gt;\n",
        "  &lt;/node&gt;\n",
        "  &lt;node&gt;\n",
        "    &lt;id&gt;controller-config&lt;/id&gt;\n",
        "  &lt;/node&gt;\n",
        "  &lt;node&gt;\n",
        "    &lt;id&gt;xrvr-999&lt;/id&gt;\n",
        "  &lt;/node&gt;\n",
        "&lt;/nodes&gt;\n",
        "</pre></td>\n",
        "    </tr>\n",
        "  </tbody>\n",
        "</table>\n"
       ],
       "metadata": {},
       "output_type": "pyout",
       "prompt_number": 3,
       "text": [
        "<IPython.core.display.HTML at 0x7f9ddf617590>"
       ]
      }
     ],
     "prompt_number": 3
    },
    {
     "cell_type": "markdown",
     "metadata": {},
     "source": [
      "In the HTML above there are _two_ tables. The first table is titled 'Request' and the second table is titled 'Response'. The column at the left contains the names of HTTP fields. To the right of each HTTP field name is the field value."
     ]
    },
    {
     "cell_type": "heading",
     "level": 2,
     "metadata": {},
     "source": [
      "Reproduce HTTP request and response"
     ]
    },
    {
     "cell_type": "markdown",
     "metadata": {},
     "source": [
      "Demonstrate how to use the information displayed in a *reference table* to reproduce a HTTP request and response."
     ]
    },
    {
     "cell_type": "heading",
     "level": 3,
     "metadata": {},
     "source": [
      "HTTP Client"
     ]
    },
    {
     "cell_type": "markdown",
     "metadata": {},
     "source": [
      "The Controller is a *HTTP server*. To communicate with a HTTP server requires a *HTTP Client*. Some HTTP Client tools are:\n",
      "* Web Browser - every URL you enter is a HTTP GET request.\n",
      "* Web Browser Plugin - for example: [Postman](http://blog.getpostman.com/)\n",
      "* Programming Language - for example: Python, Java, etc.\n",
      "* Command Line - for example: [cURL](http://en.wikipedia.org/wiki/CURL)\n",
      "  \n",
      "A demonstration will be given of the last two tools in the list."
     ]
    },
    {
     "cell_type": "heading",
     "level": 3,
     "metadata": {},
     "source": [
      "Prepare HTTP request using Python"
     ]
    },
    {
     "cell_type": "markdown",
     "metadata": {},
     "source": [
      "The field values of the HTTP request are assigned to variables."
     ]
    },
    {
     "cell_type": "code",
     "collapsed": false,
     "input": [
      "from settings import config\n",
      "address = config['odl_server']['address']\n",
      "port = config['odl_server']['port']\n",
      "url = 'http://%s:%s/restconf/config/opendaylight-inventory:nodes' % (address, port)\n",
      "method = 'GET'\n",
      "headers = {'Accept' : 'application/xml'}\n",
      "content = None"
     ],
     "language": "python",
     "metadata": {},
     "outputs": [],
     "prompt_number": 4
    },
    {
     "cell_type": "heading",
     "level": 3,
     "metadata": {},
     "source": [
      "Send HTTP request using Python"
     ]
    },
    {
     "cell_type": "markdown",
     "metadata": {},
     "source": [
      "A HTTP request is delivered, using the variables from the previous step."
     ]
    },
    {
     "cell_type": "code",
     "collapsed": false,
     "input": [
      "from requests import request\n",
      "\n",
      "response = request(method, url, headers=headers, data=content, auth=('admin', 'admin'))"
     ],
     "language": "python",
     "metadata": {},
     "outputs": [],
     "prompt_number": 5
    },
    {
     "cell_type": "heading",
     "level": 3,
     "metadata": {},
     "source": [
      "Receive HTTP response using Python"
     ]
    },
    {
     "cell_type": "markdown",
     "metadata": {},
     "source": [
      "The response has been received and can be examined. The value of each HTTP field matches the 'Response' table (above)."
     ]
    },
    {
     "cell_type": "code",
     "collapsed": false,
     "input": [
      "response.status_code"
     ],
     "language": "python",
     "metadata": {},
     "outputs": [
      {
       "metadata": {},
       "output_type": "pyout",
       "prompt_number": 6,
       "text": [
        "200"
       ]
      }
     ],
     "prompt_number": 6
    },
    {
     "cell_type": "code",
     "collapsed": false,
     "input": [
      "response.headers"
     ],
     "language": "python",
     "metadata": {},
     "outputs": [
      {
       "metadata": {},
       "output_type": "pyout",
       "prompt_number": 7,
       "text": [
        "CaseInsensitiveDict({'transfer-encoding': 'chunked', 'content-type': 'application/xml', 'server': 'Jetty(8.1.14.v20131031)'})"
       ]
      }
     ],
     "prompt_number": 7
    },
    {
     "cell_type": "code",
     "collapsed": false,
     "input": [
      "response.content"
     ],
     "language": "python",
     "metadata": {},
     "outputs": [
      {
       "metadata": {},
       "output_type": "pyout",
       "prompt_number": 8,
       "text": [
        "'<nodes xmlns=\"urn:opendaylight:inventory\"><node><id>xrvr-1</id></node><node><id>xrvr-2</id></node><node><id>controller-config</id></node><node><id>xrvr-999</id></node></nodes>'"
       ]
      }
     ],
     "prompt_number": 8
    },
    {
     "cell_type": "heading",
     "level": 3,
     "metadata": {},
     "source": [
      "HTTP request and response using CLI"
     ]
    },
    {
     "cell_type": "markdown",
     "metadata": {},
     "source": [
      "A *command line* alternative to Python using `curl`."
     ]
    },
    {
     "cell_type": "code",
     "collapsed": false,
     "input": [
      "!curl -i {url}"
     ],
     "language": "python",
     "metadata": {},
     "outputs": [
      {
       "output_type": "stream",
       "stream": "stdout",
       "text": [
        "HTTP/1.1 200 OK\r",
        "\r\n",
        "Content-Type: application/yang.data+json\r",
        "\r\n",
        "Transfer-Encoding: chunked\r",
        "\r\n",
        "Server: Jetty(8.1.14.v20131031)\r",
        "\r\n",
        "\r",
        "\r\n",
        "{\"nodes\":{\"node\":[{\"id\":\"xrvr-1\"},{\"id\":\"xrvr-2\"},{\"id\":\"controller-config\"},{\"id\":\"xrvr-999\"}]}}"
       ]
      }
     ],
     "prompt_number": 9
    },
    {
     "cell_type": "markdown",
     "metadata": {},
     "source": [
      "Notice that the HTTP response content (above) is JSON, not XML, because the 'Accept' header was not specified.\n",
      "\n",
      "The same URL is requested using `wget`. This time an 'Accept' header requests a XML response."
     ]
    },
    {
     "cell_type": "code",
     "collapsed": false,
     "input": [
      "!wget -O - --header='Accept: application/xml' --progress=dot {url}"
     ],
     "language": "python",
     "metadata": {},
     "outputs": [
      {
       "output_type": "stream",
       "stream": "stdout",
       "text": [
        "--2015-03-20 12:59:56--  http://127.0.0.1:8181/restconf/config/opendaylight-inventory:nodes\r\n",
        "Connecting to 127.0.0.1:8181... connected.\r\n",
        "HTTP request sent, awaiting response... 200 OK\r\n",
        "Length: unspecified [application/xml]\r\n",
        "Saving to: \u2018STDOUT\u2019\r\n",
        "<nodes xmlns=\"urn:opendaylight:inventory\"><node><id>xrvr-1</id></node><node><id>xrvr-2</id></node><node><id>controller-config</id></node><node><id>xrvr-999</id></node></nodes>\r\n",
        "     0K                                                        15.3M=0s\r\n",
        "\r\n",
        "2015-03-20 12:59:56 (15.3 MB/s) - written to stdout [175]\r\n",
        "\r\n"
       ]
      }
     ],
     "prompt_number": 10
    },
    {
     "cell_type": "heading",
     "level": 2,
     "metadata": {},
     "source": [
      "Conclusion"
     ]
    },
    {
     "cell_type": "markdown",
     "metadata": {},
     "source": [
      "Achievements:\n",
      "* Display reference table of one HTTP request and response.\n",
      "* Explain the reference table layout and contents.\n",
      "* Use Python to reproduce the HTTP request and response.\n",
      "* Use `curl` and `wget` to reproduce the HTTP request and reponse."
     ]
    }
   ],
   "metadata": {}
  }
 ]
}