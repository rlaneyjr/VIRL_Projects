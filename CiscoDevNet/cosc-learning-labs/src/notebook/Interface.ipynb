{
 "cells": [
  {
   "cell_type": "markdown",
   "metadata": {},
   "source": [
    "# Learning Lab: Interface"
   ]
  },
  {
   "cell_type": "markdown",
   "metadata": {},
   "source": [
    "This Learning Lab explores the network interfaces of a network device.\n",
    "\n",
    "Pre-requisite Learning Lab: [Inventory](Inventory.ipynb)"
   ]
  },
  {
   "cell_type": "markdown",
   "metadata": {},
   "source": [
    "|Keyword|Definition|\n",
    "|--|--|\n",
    "|Network Interface|Connector from one network device to a network interface on one or more other network devices.|\n",
    "|Network Device|Routers, switches, etc.|\n",
    "|Controller|Service that intermediates between client applications and network devices. E.g. ODL, COSC|\n",
    "|ODL|OpenDayLight|\n",
    "|COSC|Cisco Open Source Controller, enhanced ODL|"
   ]
  },
  {
   "cell_type": "markdown",
   "metadata": {},
   "source": [
    "## Table of Contents"
   ]
  },
  {
   "cell_type": "markdown",
   "metadata": {},
   "source": [
    "* [Table of Contents](#Table-of-Contents)\n",
    "* [Prologue](#Prologue)\n",
    "    * [Import Learning Lab](#Import-Learning-Lab)\n",
    "    * [Verify Controller](#Verify-Controller)\n",
    "    * [Sample Network Device](#Sample-Network-Device)\n",
    "* [Introduction](#Introduction)\n",
    "* [List of Network Interfaces](#List-of-Network-Interfaces)\n",
    "* [Management Interface](#Management-Interface)\n",
    "* [Interface Configuration](#Interface-Configuration)\n",
    "    * [XML](#Interface-Configuration:-XML)\n",
    "        * [For *all* network interfaces](#For-all-network-interfaces)\n",
    "        * [For *one* network interface](#For-one-network-interface)\n",
    "    * [JSON](#Interface-Configuration:-JSON)\n",
    "    * [Python type `InterfaceConfiguration`](#Python-type-InterfaceConfiguration)\n",
    "* [Interface Properties](#Interface-Properties)\n",
    "    * [XML](#Interface-Properties:-XML)\n",
    "    * [JSON](#Interface-Properties:-JSON)\n",
    "    * [Python type `InterfaceProperties`](#Python-type-InterfaceProperties)\n",
    "* [Conclusion](#Conclusion)\n",
    "* [HTTP Reference](#HTTP-Reference)\n",
    "    * [RPC `interface_configuration_xml(device)`](#RPC-interface_configuration_xml:-multiple)\n",
    "    * [RPC `interface_configuration_xml(device, interface)`](#RPC-interface_configuration_xml:-single)\n",
    "    * [RPC `interface_configuration_json(device)`](#RPC-interface_configuration_json:-multiple)\n",
    "    * [RPC `interface_configuration_json(device, interface)`](#RPC-interface_configuration_json:-single)\n",
    "    * [RPC `interface_properties_xml(device)`](#RPC-interface_properties_xml:-multiple)\n",
    "    * [RPC `interface_properties_xml(device, interface)`](#RPC-interface_properties_xml:-single)\n",
    "    * [RPC `interface_properties_json(device)`](#RPC-interface_properties_json:-multiple)\n",
    "    * [RPC `interface_properties_json(device, interface)`](#RPC-interface_properties_json:-single)"
   ]
  },
  {
   "cell_type": "markdown",
   "metadata": {},
   "source": [
    "## Prologue"
   ]
  },
  {
   "cell_type": "markdown",
   "metadata": {},
   "source": [
    "### Import Learning Lab"
   ]
  },
  {
   "cell_type": "markdown",
   "metadata": {},
   "source": [
    "If the Learning Lab team have provided you with either:\n",
    "* a Python Interactive Shell, or\n",
    "* an IPython Notebook\n",
    "  \n",
    "then please proceed. Otherwise, please follow the instructions on web page: [How to set up your computer](HowToSetUpYourComputer.ipynb)\n",
    "\n",
    "Import the Python module named `learning_lab`. "
   ]
  },
  {
   "cell_type": "code",
   "execution_count": 1,
   "metadata": {
    "collapsed": false
   },
   "outputs": [],
   "source": [
    "import learning_lab"
   ]
  },
  {
   "cell_type": "markdown",
   "metadata": {},
   "source": [
    "### Sample Network Device"
   ]
  },
  {
   "cell_type": "markdown",
   "metadata": {},
   "source": [
    "We need one network device to explore. Any network device is satisfactory, provided it is connected to the Controller and has multiple network interfaces.\n",
    "  \n",
    "The following code selects a suitable network device from the inventory using convenience function `sample_device()`. "
   ]
  },
  {
   "cell_type": "code",
   "execution_count": 2,
   "metadata": {
    "collapsed": false
   },
   "outputs": [
    {
     "name": "stdout",
     "output_type": "stream",
     "text": [
      "Python Library Documentation: function inventory_mount in module basics.inventory\n",
      "\n",
      "inventory_mount(device_name, device_address, device_port, device_username, device_password)\n",
      "    Add the specified network device to the inventory of the Controller.\n",
      "\n",
      "All configured devices are mounted.\n",
      "xrvr-1\n",
      "MgmtEth0/0/CPU0/0\n",
      "MgmtEth0/0/CPU0/0\n",
      "GigabitEthernet0/0/0/1\n"
     ]
    }
   ],
   "source": [
    "%run 01_inventory_mount\n",
    "from basics.sample import sample_device\n",
    "\n",
    "device_name = 'xrvr-1'"
   ]
  },
  {
   "cell_type": "markdown",
   "metadata": {},
   "source": [
    "Note that we only require the *name* of the sample network device. "
   ]
  },
  {
   "cell_type": "code",
   "execution_count": 3,
   "metadata": {
    "collapsed": false
   },
   "outputs": [
    {
     "data": {
      "text/plain": [
       "'xrvr-1'"
      ]
     },
     "execution_count": 3,
     "metadata": {},
     "output_type": "execute_result"
    }
   ],
   "source": [
    "device_name"
   ]
  },
  {
   "cell_type": "markdown",
   "metadata": {},
   "source": [
    "## Introduction"
   ]
  },
  {
   "cell_type": "markdown",
   "metadata": {},
   "source": [
    "In this lesson, we will:\n",
    "1. List the names of network interfaces on a single network device. \n",
    "2. Determine which network interface the Controller is using to manage the network device. \n",
    "3. For each network interface, obtain: \n",
    "    * configuration\n",
    "    * properties\n",
    "4. Configuration and properties will be obtained:\n",
    "    * in bulk - all network interfaces\n",
    "    * individually - a single network interface, specified by name\n",
    "5. The data formats will be:\n",
    "    * XML - demonstration of transformation to HTML using XSLT\n",
    "    * JSON - indexing deep into a complex document\n",
    "    * Python - types `InterfaceConfiguration` and `InterfaceProperties`    "
   ]
  },
  {
   "cell_type": "markdown",
   "metadata": {},
   "source": [
    "## List of Network Interfaces"
   ]
  },
  {
   "cell_type": "markdown",
   "metadata": {},
   "source": [
    "List the network interfaces of the selected network device, using function:\n",
    "* `interface_names(device_name)`."
   ]
  },
  {
   "cell_type": "code",
   "execution_count": 4,
   "metadata": {
    "collapsed": false
   },
   "outputs": [
    {
     "data": {
      "text/plain": [
       "['MgmtEth0/0/CPU0/0', 'GigabitEthernet0/0/0/1', 'GigabitEthernet0/0/0/0']"
      ]
     },
     "execution_count": 4,
     "metadata": {},
     "output_type": "execute_result"
    }
   ],
   "source": [
    "from basics.interface import interface_names\n",
    "\n",
    "interface_names(device_name)"
   ]
  },
  {
   "cell_type": "markdown",
   "metadata": {},
   "source": [
    "## Management Interface"
   ]
  },
  {
   "cell_type": "markdown",
   "metadata": {},
   "source": [
    "Determine which network interface the Controller is using to manage the network device, using function:\n",
    "* `management_interface(device_name)`"
   ]
  },
  {
   "cell_type": "code",
   "execution_count": 5,
   "metadata": {
    "collapsed": false
   },
   "outputs": [
    {
     "data": {
      "text/plain": [
       "'MgmtEth0/0/CPU0/0'"
      ]
     },
     "execution_count": 5,
     "metadata": {},
     "output_type": "execute_result"
    }
   ],
   "source": [
    "from basics.interface import management_interface\n",
    "\n",
    "management_interface(device_name)"
   ]
  },
  {
   "cell_type": "markdown",
   "metadata": {},
   "source": [
    "Each network interface belongs to one of the following two categories:\n",
    "* management interface\n",
    "* data interface\n",
    "  \n",
    "Normal network traffic flows between data interfaces. A management interface is for monitoring and modifying the data interfaces on the same network device. For example, you can shutdown/startup a data interface via a management interface.\n",
    "  \n",
    "Note: if you shutdown a management interface then the connection terminates and you will not be able to send it the startup command."
   ]
  },
  {
   "cell_type": "markdown",
   "metadata": {},
   "source": [
    "## Interface Configuration"
   ]
  },
  {
   "cell_type": "markdown",
   "metadata": {},
   "source": [
    "### Interface Configuration: XML"
   ]
  },
  {
   "cell_type": "markdown",
   "metadata": {},
   "source": [
    "#### For *all* network interfaces"
   ]
  },
  {
   "cell_type": "markdown",
   "metadata": {},
   "source": [
    "Obtain the configuration of all network interfaces on one network device, using function:\n",
    "* `interface_configuration_xml(device_name)`\n",
    "  \n",
    "The XML representation of data is popular in client applications. The Controller is capable of representing the configuration data in either XML or JSON format. The HTTP Reference shows the actual  [XML](#RPC-interface_configuration_xml:-multiple) and [JSON](#RPC-interface_configuration_json:-multiple) documents returned from the Controller."
   ]
  },
  {
   "cell_type": "code",
   "execution_count": 6,
   "metadata": {
    "collapsed": false
   },
   "outputs": [],
   "source": [
    "from basics.interface import interface_configuration_xml\n",
    "\n",
    "xml = interface_configuration_xml(device_name)"
   ]
  },
  {
   "cell_type": "markdown",
   "metadata": {},
   "source": [
    "Additional functions are used to transform the XML into a HTML table to make it pleasant for humans to read. The implementation uses XSLT."
   ]
  },
  {
   "cell_type": "code",
   "execution_count": 7,
   "metadata": {
    "collapsed": false
   },
   "outputs": [
    {
     "data": {
      "text/html": [
       "<table border=\"1\">\n",
       "<thead>\n",
       "<tr style=\"background-color:lightgray;\">\n",
       "<th style=\"text-align:left;\" rowspan=\"2\">Name</th>\n",
       "<th style=\"text-align:left;\" rowspan=\"2\">Description</th>\n",
       "<th style=\"text-align:center;\" rowspan=\"2\">Shutdown</th>\n",
       "<th style=\"text-align:left;\" rowspan=\"2\">Address</th>\n",
       "<th style=\"text-align:left;\" rowspan=\"2\">Netmask</th>\n",
       "<th style=\"text-align:center;\" colspan=\"2\">Packet Filter</th>\n",
       "</tr>\n",
       "<tr style=\"background-color:lightgray;\">\n",
       "<th style=\"text-align:center;\">In</th>\n",
       "<th style=\"text-align:center;\">Out</th>\n",
       "</tr>\n",
       "</thead>\n",
       "<tbody>\n",
       "<style>tr:nth-of-type(even) {background-color:#eee;}</style>\n",
       "<tr>\n",
       "<td style=\"text-align:left;\">GigabitEthernet0/0/0/0</td>\n",
       "<td style=\"text-align:left;\">to iosxrv-2</td>\n",
       "<td style=\"text-align:center;\">false</td>\n",
       "<td style=\"text-align:left;\">10.0.0.6</td>\n",
       "<td style=\"text-align:left;\">255.255.255.252</td>\n",
       "<td style=\"text-align:center;\"></td>\n",
       "<td style=\"text-align:center;\"></td>\n",
       "</tr>\n",
       "<tr>\n",
       "<td style=\"text-align:left;\">GigabitEthernet0/0/0/1</td>\n",
       "<td style=\"text-align:left;\">to iosxrv-3</td>\n",
       "<td style=\"text-align:center;\">false</td>\n",
       "<td style=\"text-align:left;\">10.0.128.1</td>\n",
       "<td style=\"text-align:left;\">255.255.255.252</td>\n",
       "<td style=\"text-align:center;\"></td>\n",
       "<td style=\"text-align:center;\"></td>\n",
       "</tr>\n",
       "<tr>\n",
       "<td style=\"text-align:left;\">Loopback0</td>\n",
       "<td style=\"text-align:left;\">Loopback</td>\n",
       "<td style=\"text-align:center;\">false</td>\n",
       "<td style=\"text-align:left;\">192.168.0.1</td>\n",
       "<td style=\"text-align:left;\">255.255.255.255</td>\n",
       "<td style=\"text-align:center;\"></td>\n",
       "<td style=\"text-align:center;\"></td>\n",
       "</tr>\n",
       "<tr>\n",
       "<td style=\"text-align:left;\">MgmtEth0/0/CPU0/0</td>\n",
       "<td style=\"text-align:left;\">OOB Management</td>\n",
       "<td style=\"text-align:center;\">false</td>\n",
       "<td style=\"text-align:left;\">172.16.1.88</td>\n",
       "<td style=\"text-align:left;\">255.255.255.0</td>\n",
       "<td style=\"text-align:center;\"></td>\n",
       "<td style=\"text-align:center;\"></td>\n",
       "</tr>\n",
       "</tbody>\n",
       "</table>\n"
      ],
      "text/plain": [
       "<IPython.core.display.HTML at 0x7f600005eb90>"
      ]
     },
     "execution_count": 7,
     "metadata": {},
     "output_type": "execute_result"
    }
   ],
   "source": [
    "from basics.interface import interface_configuration_to_html\n",
    "from IPython.core.display import HTML\n",
    "\n",
    "HTML(interface_configuration_to_html(xml))"
   ]
  },
  {
   "cell_type": "markdown",
   "metadata": {},
   "source": [
    "#### For *one* network interface"
   ]
  },
  {
   "cell_type": "markdown",
   "metadata": {},
   "source": [
    "A single network interface can be specified by name as the second parameter to function:\n",
    "* `interface_configuration_xml(device_name, interface_name)`\n",
    "  \n",
    "A single network interface is chosen, randomly, from the list of interface names."
   ]
  },
  {
   "cell_type": "code",
   "execution_count": 8,
   "metadata": {
    "collapsed": false
   },
   "outputs": [],
   "source": [
    "import random\n",
    "\n",
    "interface_name = random.choice(interface_names(device_name))"
   ]
  },
  {
   "cell_type": "markdown",
   "metadata": {},
   "source": [
    "The XML representation is obtained..."
   ]
  },
  {
   "cell_type": "code",
   "execution_count": 9,
   "metadata": {
    "collapsed": false
   },
   "outputs": [],
   "source": [
    "xml = interface_configuration_xml(device_name, interface_name)"
   ]
  },
  {
   "cell_type": "markdown",
   "metadata": {},
   "source": [
    "... and transformed to HTML. We expect the HTML table to contain exactly one row of data, identical to one row in the table above."
   ]
  },
  {
   "cell_type": "code",
   "execution_count": 10,
   "metadata": {
    "collapsed": false
   },
   "outputs": [
    {
     "data": {
      "text/html": [
       "<table border=\"1\">\n",
       "<thead>\n",
       "<tr style=\"background-color:lightgray;\">\n",
       "<th style=\"text-align:left;\" rowspan=\"2\">Name</th>\n",
       "<th style=\"text-align:left;\" rowspan=\"2\">Description</th>\n",
       "<th style=\"text-align:center;\" rowspan=\"2\">Shutdown</th>\n",
       "<th style=\"text-align:left;\" rowspan=\"2\">Address</th>\n",
       "<th style=\"text-align:left;\" rowspan=\"2\">Netmask</th>\n",
       "<th style=\"text-align:center;\" colspan=\"2\">Packet Filter</th>\n",
       "</tr>\n",
       "<tr style=\"background-color:lightgray;\">\n",
       "<th style=\"text-align:center;\">In</th>\n",
       "<th style=\"text-align:center;\">Out</th>\n",
       "</tr>\n",
       "</thead>\n",
       "<tbody>\n",
       "<style>tr:nth-of-type(even) {background-color:#eee;}</style>\n",
       "<tr>\n",
       "<td style=\"text-align:left;\">GigabitEthernet0/0/0/0</td>\n",
       "<td style=\"text-align:left;\">to iosxrv-2</td>\n",
       "<td style=\"text-align:center;\">false</td>\n",
       "<td style=\"text-align:left;\">10.0.0.6</td>\n",
       "<td style=\"text-align:left;\">255.255.255.252</td>\n",
       "<td style=\"text-align:center;\"></td>\n",
       "<td style=\"text-align:center;\"></td>\n",
       "</tr>\n",
       "</tbody>\n",
       "</table>\n"
      ],
      "text/plain": [
       "<IPython.core.display.HTML at 0x7f600005e610>"
      ]
     },
     "execution_count": 10,
     "metadata": {},
     "output_type": "execute_result"
    }
   ],
   "source": [
    "HTML(interface_configuration_to_html(xml))"
   ]
  },
  {
   "cell_type": "markdown",
   "metadata": {},
   "source": [
    "### Interface Configuration: JSON"
   ]
  },
  {
   "cell_type": "markdown",
   "metadata": {},
   "source": [
    "XML is ideal for transformation to another markup language, such as HTML, as shown above. JSON is an alternative to XML that is popular. Network interface configuration is available in JSON from functions:\n",
    "* `interface_configuration_json(device_name)`\n",
    "* `interface_configuration_json(device_name, interface_name)`"
   ]
  },
  {
   "cell_type": "code",
   "execution_count": 11,
   "metadata": {
    "collapsed": false
   },
   "outputs": [],
   "source": [
    "from basics.interface import interface_configuration_json\n",
    "\n",
    "json = interface_configuration_json(device_name, interface_name)"
   ]
  },
  {
   "cell_type": "markdown",
   "metadata": {},
   "source": [
    "The JSON for a single network interface is reasonably small."
   ]
  },
  {
   "cell_type": "code",
   "execution_count": 12,
   "metadata": {
    "collapsed": false
   },
   "outputs": [
    {
     "data": {
      "text/plain": [
       "{u'interface-configuration': [{u'Cisco-IOS-XR-ipv4-io-cfg:ipv4-network': {u'addresses': {u'primary': {u'address': u'10.0.0.6',\n",
       "      u'netmask': u'255.255.255.252'}}},\n",
       "   u'active': u'act',\n",
       "   u'description': u'to iosxrv-2',\n",
       "   u'interface-name': u'GigabitEthernet0/0/0/0'}]}"
      ]
     },
     "execution_count": 12,
     "metadata": {},
     "output_type": "execute_result"
    }
   ],
   "source": [
    "json"
   ]
  },
  {
   "cell_type": "markdown",
   "metadata": {},
   "source": [
    "The JSON for *all* network interfaces (of one network device)."
   ]
  },
  {
   "cell_type": "code",
   "execution_count": 13,
   "metadata": {
    "collapsed": false
   },
   "outputs": [],
   "source": [
    "json = interface_configuration_json(device_name)"
   ]
  },
  {
   "cell_type": "markdown",
   "metadata": {},
   "source": [
    "This JSON data structure is shown in the [HTTP Reference](#RPC-interface_configuration_json:-multiple) due to its complexity.\n",
    "\n",
    "Typically usage of JSON is to index into the data structure. This example accesses the interface name and description. "
   ]
  },
  {
   "cell_type": "code",
   "execution_count": 14,
   "metadata": {
    "collapsed": false
   },
   "outputs": [
    {
     "data": {
      "text/plain": [
       "[(u'GigabitEthernet0/0/0/0', u'to iosxrv-2'),\n",
       " (u'MgmtEth0/0/CPU0/0', u'OOB Management'),\n",
       " (u'Loopback0', u'Loopback'),\n",
       " (u'GigabitEthernet0/0/0/1', u'to iosxrv-3')]"
      ]
     },
     "execution_count": 14,
     "metadata": {},
     "output_type": "execute_result"
    }
   ],
   "source": [
    "[(\n",
    "    item[u'interface-name'], \n",
    "    item[u'description']\n",
    " ) \n",
    " for item in json\n",
    "     [u'interface-configurations']\n",
    "     [u'interface-configuration']]"
   ]
  },
  {
   "cell_type": "markdown",
   "metadata": {},
   "source": [
    "It is more difficult to access the IP address because the path depends on IPv4 versus IPv6. Note that in XML the IP address is accessed using a XPATH expression with a wildcard matching either IPv4 or IPv6."
   ]
  },
  {
   "cell_type": "code",
   "execution_count": 15,
   "metadata": {
    "collapsed": false
   },
   "outputs": [
    {
     "data": {
      "text/plain": [
       "'10.0.0.6'"
      ]
     },
     "execution_count": 15,
     "metadata": {},
     "output_type": "execute_result"
    }
   ],
   "source": [
    "xml.findtext('//{*}primary/{*}address')"
   ]
  },
  {
   "cell_type": "markdown",
   "metadata": {},
   "source": [
    "### Python type `InterfaceConfiguration`"
   ]
  },
  {
   "cell_type": "markdown",
   "metadata": {},
   "source": [
    "Configuration of network interfaces is available as a Python [`named tuple`](https://foo.cs.ucsb.edu/8wiki/index.php/Python:_Named_Tuples). The functions are:\n",
    "* `interface_configuration_tuple(device_name)` \n",
    "* `interface_configuration_tuple(device_name, interface_name)` "
   ]
  },
  {
   "cell_type": "code",
   "execution_count": 16,
   "metadata": {
    "collapsed": false
   },
   "outputs": [],
   "source": [
    "from basics.interface import interface_configuration_tuple\n",
    "\n",
    "tuple = interface_configuration_tuple(device_name, interface_name)"
   ]
  },
  {
   "cell_type": "markdown",
   "metadata": {},
   "source": [
    "The type of the named tuple is a class in Python."
   ]
  },
  {
   "cell_type": "code",
   "execution_count": 17,
   "metadata": {
    "collapsed": false
   },
   "outputs": [
    {
     "data": {
      "text/plain": [
       "basics.interface.InterfaceConfiguration"
      ]
     },
     "execution_count": 17,
     "metadata": {},
     "output_type": "execute_result"
    }
   ],
   "source": [
    "type(tuple)"
   ]
  },
  {
   "cell_type": "markdown",
   "metadata": {},
   "source": [
    "A tuple provides access to the fields in a language that is very natural. Several fields are accessed to demonstrate."
   ]
  },
  {
   "cell_type": "code",
   "execution_count": 18,
   "metadata": {
    "collapsed": false
   },
   "outputs": [
    {
     "data": {
      "text/plain": [
       "'GigabitEthernet0/0/0/0'"
      ]
     },
     "execution_count": 18,
     "metadata": {},
     "output_type": "execute_result"
    }
   ],
   "source": [
    "tuple.name"
   ]
  },
  {
   "cell_type": "code",
   "execution_count": 19,
   "metadata": {
    "collapsed": false
   },
   "outputs": [
    {
     "data": {
      "text/plain": [
       "'10.0.0.6'"
      ]
     },
     "execution_count": 19,
     "metadata": {},
     "output_type": "execute_result"
    }
   ],
   "source": [
    "tuple.address"
   ]
  },
  {
   "cell_type": "code",
   "execution_count": 20,
   "metadata": {
    "collapsed": false
   },
   "outputs": [
    {
     "data": {
      "text/plain": [
       "'255.255.255.252'"
      ]
     },
     "execution_count": 20,
     "metadata": {},
     "output_type": "execute_result"
    }
   ],
   "source": [
    "tuple.netmask"
   ]
  },
  {
   "cell_type": "code",
   "execution_count": 21,
   "metadata": {
    "collapsed": false
   },
   "outputs": [
    {
     "data": {
      "text/plain": [
       "False"
      ]
     },
     "execution_count": 21,
     "metadata": {},
     "output_type": "execute_result"
    }
   ],
   "source": [
    "tuple.shutdown"
   ]
  },
  {
   "cell_type": "markdown",
   "metadata": {},
   "source": [
    "The value of field `shutdown`, above, is implied by the existence or absence of a specific element in XML (or field in JSON). For this reason, the Python tuple is more convenient to use in a client application than a test for the presence of fields in XML and JSON."
   ]
  },
  {
   "cell_type": "code",
   "execution_count": 22,
   "metadata": {
    "collapsed": false
   },
   "outputs": [],
   "source": [
    "json = interface_configuration_json(device_name, interface_name)\n",
    "shutdown = 'shutdown' in json['interface-configuration'][0]\n",
    "assert shutdown == tuple.shutdown"
   ]
  },
  {
   "cell_type": "markdown",
   "metadata": {},
   "source": [
    "List all field names of the Python class."
   ]
  },
  {
   "cell_type": "code",
   "execution_count": 23,
   "metadata": {
    "collapsed": false
   },
   "outputs": [
    {
     "data": {
      "text/plain": [
       "['name',\n",
       " 'description',\n",
       " 'shutdown',\n",
       " 'address',\n",
       " 'netmask',\n",
       " 'packet_filter_outbound',\n",
       " 'packet_filter_inbound',\n",
       " 'active']"
      ]
     },
     "execution_count": 23,
     "metadata": {},
     "output_type": "execute_result"
    }
   ],
   "source": [
    "tuple.__dict__.keys()"
   ]
  },
  {
   "cell_type": "markdown",
   "metadata": {},
   "source": [
    "Note that the tuple field names are not strings, as they are in JSON. Here is the access of field `description` in JSON."
   ]
  },
  {
   "cell_type": "code",
   "execution_count": 24,
   "metadata": {
    "collapsed": false
   },
   "outputs": [
    {
     "data": {
      "text/plain": [
       "u'to iosxrv-2'"
      ]
     },
     "execution_count": 24,
     "metadata": {},
     "output_type": "execute_result"
    }
   ],
   "source": [
    "json['interface-configuration'][0]['description']"
   ]
  },
  {
   "cell_type": "markdown",
   "metadata": {},
   "source": [
    "The JSON field access, above, can only be verified at run-time, whereas the tuple field access, below, can be checked by the editor and can participate in *code completion*, because the field is pre-defined. This is another way the Python tuple adds value to the underlying XML or JSON (from which the tuple is built)."
   ]
  },
  {
   "cell_type": "code",
   "execution_count": 25,
   "metadata": {
    "collapsed": false
   },
   "outputs": [
    {
     "data": {
      "text/plain": [
       "'to iosxrv-2'"
      ]
     },
     "execution_count": 25,
     "metadata": {},
     "output_type": "execute_result"
    }
   ],
   "source": [
    "tuple.description"
   ]
  },
  {
   "cell_type": "markdown",
   "metadata": {},
   "source": [
    "All examples of the Python tuple, above, have been for a single network interface. The configuration of multiple network interfaces (of one network device) is available as a list of tuples."
   ]
  },
  {
   "cell_type": "code",
   "execution_count": 26,
   "metadata": {
    "collapsed": false
   },
   "outputs": [
    {
     "data": {
      "text/plain": [
       "[('GigabitEthernet0/0/0/0', '10.0.0.6'),\n",
       " ('MgmtEth0/0/CPU0/0', '172.16.1.88'),\n",
       " ('Loopback0', '192.168.0.1'),\n",
       " ('GigabitEthernet0/0/0/1', '10.0.128.1')]"
      ]
     },
     "execution_count": 26,
     "metadata": {},
     "output_type": "execute_result"
    }
   ],
   "source": [
    "bulk = interface_configuration_tuple(device_name)\n",
    "\n",
    "[(tuple.name, tuple.address) for tuple in bulk]"
   ]
  },
  {
   "cell_type": "markdown",
   "metadata": {},
   "source": [
    "## Interface Properties"
   ]
  },
  {
   "cell_type": "markdown",
   "metadata": {},
   "source": [
    "The Controller is capable of representing network interface properties in either XML or JSON format. The HTTP Reference shows the actual [XML](#RPC-interface_properties_xml:-multiple) and [JSON](#RPC-interface_properties_json:-multiple) documents returned from the Controller."
   ]
  },
  {
   "cell_type": "markdown",
   "metadata": {},
   "source": [
    "### Interface Properties: XML"
   ]
  },
  {
   "cell_type": "markdown",
   "metadata": {},
   "source": [
    "Obtain the properties of all network interfaces of one network device, using function:\n",
    "* `interface_properties_xml(device_name)`\n",
    "  "
   ]
  },
  {
   "cell_type": "code",
   "execution_count": 27,
   "metadata": {
    "collapsed": false
   },
   "outputs": [],
   "source": [
    "from basics.interface import interface_properties_xml\n",
    "\n",
    "xml = interface_properties_xml(device_name)"
   ]
  },
  {
   "cell_type": "markdown",
   "metadata": {},
   "source": [
    "Additional functions are employed to transform the XML into two HTML tables. The reason for *two* HTML tables is simply to fit all the properties into the width of this document. The XML is transformed to HTML using a XSLT stylesheet."
   ]
  },
  {
   "cell_type": "code",
   "execution_count": 28,
   "metadata": {
    "collapsed": false
   },
   "outputs": [
    {
     "data": {
      "text/html": [
       "<table border=\"1\">\n",
       "<thead><tr style=\"background-color:lightgray;\">\n",
       "<th style=\"text-align:left;\">Name</th>\n",
       "<th style=\"text-align:center;\">Type</th>\n",
       "<th style=\"text-align:right;\">Bandwidth</th>\n",
       "<th style=\"text-align:center;\" colspan=\"2\">Encapsulation</th>\n",
       "<th style=\"text-align:center;\">L2 Transport</th>\n",
       "</tr></thead>\n",
       "<tbody>\n",
       "<style>tr:nth-of-type(even) {background-color:#eee;}</style>\n",
       "<tr>\n",
       "<td style=\"text-align:left;\">FINT0/0/CPU0</td>\n",
       "<td style=\"text-align:left;\">IFT_FINT_INTF</td>\n",
       "<td style=\"text-align:center;\">0</td>\n",
       "<td style=\"text-align:center;\">fint_base</td>\n",
       "<td style=\"text-align:center;\">FINT_BASE_CAPS</td>\n",
       "<td style=\"text-align:center;\">false</td>\n",
       "</tr>\n",
       "<tr>\n",
       "<td style=\"text-align:left;\">GigabitEthernet0/0/0/0</td>\n",
       "<td style=\"text-align:left;\">IFT_GETHERNET</td>\n",
       "<td style=\"text-align:center;\">1000000</td>\n",
       "<td style=\"text-align:center;\">ether</td>\n",
       "<td style=\"text-align:center;\">ARPA</td>\n",
       "<td style=\"text-align:center;\">false</td>\n",
       "</tr>\n",
       "<tr>\n",
       "<td style=\"text-align:left;\">GigabitEthernet0/0/0/1</td>\n",
       "<td style=\"text-align:left;\">IFT_GETHERNET</td>\n",
       "<td style=\"text-align:center;\">1000000</td>\n",
       "<td style=\"text-align:center;\">ether</td>\n",
       "<td style=\"text-align:center;\">ARPA</td>\n",
       "<td style=\"text-align:center;\">false</td>\n",
       "</tr>\n",
       "<tr>\n",
       "<td style=\"text-align:left;\">Loopback0</td>\n",
       "<td style=\"text-align:left;\">IFT_LOOPBACK</td>\n",
       "<td style=\"text-align:center;\">0</td>\n",
       "<td style=\"text-align:center;\">loopback</td>\n",
       "<td style=\"text-align:center;\">Loopback</td>\n",
       "<td style=\"text-align:center;\">false</td>\n",
       "</tr>\n",
       "<tr>\n",
       "<td style=\"text-align:left;\">MgmtEth0/0/CPU0/0</td>\n",
       "<td style=\"text-align:left;\">IFT_ETHERNET</td>\n",
       "<td style=\"text-align:center;\">0</td>\n",
       "<td style=\"text-align:center;\">ether</td>\n",
       "<td style=\"text-align:center;\">ARPA</td>\n",
       "<td style=\"text-align:center;\">false</td>\n",
       "</tr>\n",
       "<tr>\n",
       "<td style=\"text-align:left;\">Null0</td>\n",
       "<td style=\"text-align:left;\">IFT_NULL</td>\n",
       "<td style=\"text-align:center;\">0</td>\n",
       "<td style=\"text-align:center;\">null</td>\n",
       "<td style=\"text-align:center;\">Null</td>\n",
       "<td style=\"text-align:center;\">false</td>\n",
       "</tr>\n",
       "<tr>\n",
       "<td style=\"text-align:left;\">nV-Loopback0</td>\n",
       "<td style=\"text-align:left;\">IFT_NV_LOOPBACK</td>\n",
       "<td style=\"text-align:center;\">0</td>\n",
       "<td style=\"text-align:center;\">nv_loopback</td>\n",
       "<td style=\"text-align:center;\">nV-Loopback</td>\n",
       "<td style=\"text-align:center;\">false</td>\n",
       "</tr>\n",
       "</tbody>\n",
       "</table><p></p><table border=\"1\">\n",
       "<thead><tr style=\"background-color:lightgray;\">\n",
       "<th style=\"text-align:left;\">Name</th>\n",
       "<th style=\"text-align:center;\">State</th>\n",
       "<th style=\"text-align:center;\">Line State</th>\n",
       "<th style=\"text-align:center;\">Actual State</th>\n",
       "<th style=\"text-align:center;\">Actual Line State</th>\n",
       "<th style=\"text-align:right;\">MTU</th>\n",
       "</tr></thead>\n",
       "<tbody>\n",
       "<style>tr:nth-of-type(even) {background-color:#eee;}</style>\n",
       "<tr>\n",
       "<td style=\"text-align:left;\">FINT0/0/CPU0</td>\n",
       "<td style=\"text-align:center;\">im-state-up</td>\n",
       "<td style=\"text-align:center;\">im-state-up</td>\n",
       "<td style=\"text-align:center;\">im-state-up</td>\n",
       "<td style=\"text-align:center;\">im-state-up</td>\n",
       "<td style=\"text-align:right;\">8000</td>\n",
       "</tr>\n",
       "<tr>\n",
       "<td style=\"text-align:left;\">GigabitEthernet0/0/0/0</td>\n",
       "<td style=\"text-align:center;\">im-state-up</td>\n",
       "<td style=\"text-align:center;\">im-state-up</td>\n",
       "<td style=\"text-align:center;\">im-state-up</td>\n",
       "<td style=\"text-align:center;\">im-state-up</td>\n",
       "<td style=\"text-align:right;\">1514</td>\n",
       "</tr>\n",
       "<tr>\n",
       "<td style=\"text-align:left;\">GigabitEthernet0/0/0/1</td>\n",
       "<td style=\"text-align:center;\">im-state-up</td>\n",
       "<td style=\"text-align:center;\">im-state-up</td>\n",
       "<td style=\"text-align:center;\">im-state-up</td>\n",
       "<td style=\"text-align:center;\">im-state-up</td>\n",
       "<td style=\"text-align:right;\">1514</td>\n",
       "</tr>\n",
       "<tr>\n",
       "<td style=\"text-align:left;\">Loopback0</td>\n",
       "<td style=\"text-align:center;\">im-state-up</td>\n",
       "<td style=\"text-align:center;\">im-state-up</td>\n",
       "<td style=\"text-align:center;\">im-state-up</td>\n",
       "<td style=\"text-align:center;\">im-state-up</td>\n",
       "<td style=\"text-align:right;\">1500</td>\n",
       "</tr>\n",
       "<tr>\n",
       "<td style=\"text-align:left;\">MgmtEth0/0/CPU0/0</td>\n",
       "<td style=\"text-align:center;\">im-state-up</td>\n",
       "<td style=\"text-align:center;\">im-state-up</td>\n",
       "<td style=\"text-align:center;\">im-state-up</td>\n",
       "<td style=\"text-align:center;\">im-state-up</td>\n",
       "<td style=\"text-align:right;\">1514</td>\n",
       "</tr>\n",
       "<tr>\n",
       "<td style=\"text-align:left;\">Null0</td>\n",
       "<td style=\"text-align:center;\">im-state-up</td>\n",
       "<td style=\"text-align:center;\">im-state-up</td>\n",
       "<td style=\"text-align:center;\">im-state-up</td>\n",
       "<td style=\"text-align:center;\">im-state-up</td>\n",
       "<td style=\"text-align:right;\">1500</td>\n",
       "</tr>\n",
       "<tr>\n",
       "<td style=\"text-align:left;\">nV-Loopback0</td>\n",
       "<td style=\"text-align:center;\">im-state-up</td>\n",
       "<td style=\"text-align:center;\">im-state-up</td>\n",
       "<td style=\"text-align:center;\">im-state-up</td>\n",
       "<td style=\"text-align:center;\">im-state-up</td>\n",
       "<td style=\"text-align:right;\">1500</td>\n",
       "</tr>\n",
       "</tbody>\n",
       "</table>\n"
      ],
      "text/plain": [
       "<IPython.core.display.HTML at 0x7f5feae9cc10>"
      ]
     },
     "execution_count": 28,
     "metadata": {},
     "output_type": "execute_result"
    }
   ],
   "source": [
    "from basics.interface import interface_properties_to_html\n",
    "\n",
    "HTML(interface_properties_to_html(xml))"
   ]
  },
  {
   "cell_type": "markdown",
   "metadata": {},
   "source": [
    "A single network interface can be specified by name as the second parameter to function:\n",
    "* `interface_properties_xml(device_name, interface_name)`\n",
    "  \n",
    "The specific interface was [chosen randomly](#For-one-network-interface). "
   ]
  },
  {
   "cell_type": "code",
   "execution_count": 29,
   "metadata": {
    "collapsed": false
   },
   "outputs": [],
   "source": [
    "xml = interface_properties_xml(device_name, interface_name)"
   ]
  },
  {
   "cell_type": "markdown",
   "metadata": {},
   "source": [
    "The XML document is displayed in the [HTTP Reference](#RPC-interface_properties_xml:-single). The same XSLT stylesheet used above can be applied to the XML to produce HTML tables. We expect the two HTML tables to contain exactly one row of data, identical to one row in each of the two tables above."
   ]
  },
  {
   "cell_type": "code",
   "execution_count": 30,
   "metadata": {
    "collapsed": false
   },
   "outputs": [
    {
     "data": {
      "text/html": [
       "<table border=\"1\">\n",
       "<thead><tr style=\"background-color:lightgray;\">\n",
       "<th style=\"text-align:left;\">Name</th>\n",
       "<th style=\"text-align:center;\">Type</th>\n",
       "<th style=\"text-align:right;\">Bandwidth</th>\n",
       "<th style=\"text-align:center;\" colspan=\"2\">Encapsulation</th>\n",
       "<th style=\"text-align:center;\">L2 Transport</th>\n",
       "</tr></thead>\n",
       "<tbody>\n",
       "<style>tr:nth-of-type(even) {background-color:#eee;}</style>\n",
       "<tr>\n",
       "<td style=\"text-align:left;\">GigabitEthernet0/0/0/0</td>\n",
       "<td style=\"text-align:left;\">IFT_GETHERNET</td>\n",
       "<td style=\"text-align:center;\">1000000</td>\n",
       "<td style=\"text-align:center;\">ether</td>\n",
       "<td style=\"text-align:center;\">ARPA</td>\n",
       "<td style=\"text-align:center;\">false</td>\n",
       "</tr>\n",
       "</tbody>\n",
       "</table><p></p><table border=\"1\">\n",
       "<thead><tr style=\"background-color:lightgray;\">\n",
       "<th style=\"text-align:left;\">Name</th>\n",
       "<th style=\"text-align:center;\">State</th>\n",
       "<th style=\"text-align:center;\">Line State</th>\n",
       "<th style=\"text-align:center;\">Actual State</th>\n",
       "<th style=\"text-align:center;\">Actual Line State</th>\n",
       "<th style=\"text-align:right;\">MTU</th>\n",
       "</tr></thead>\n",
       "<tbody>\n",
       "<style>tr:nth-of-type(even) {background-color:#eee;}</style>\n",
       "<tr>\n",
       "<td style=\"text-align:left;\">GigabitEthernet0/0/0/0</td>\n",
       "<td style=\"text-align:center;\">im-state-up</td>\n",
       "<td style=\"text-align:center;\">im-state-up</td>\n",
       "<td style=\"text-align:center;\">im-state-up</td>\n",
       "<td style=\"text-align:center;\">im-state-up</td>\n",
       "<td style=\"text-align:right;\">1514</td>\n",
       "</tr>\n",
       "</tbody>\n",
       "</table>\n"
      ],
      "text/plain": [
       "<IPython.core.display.HTML at 0x7f5feae9ce90>"
      ]
     },
     "execution_count": 30,
     "metadata": {},
     "output_type": "execute_result"
    }
   ],
   "source": [
    "HTML(interface_properties_to_html(xml))"
   ]
  },
  {
   "cell_type": "markdown",
   "metadata": {},
   "source": [
    "### Interface Properties: JSON"
   ]
  },
  {
   "cell_type": "markdown",
   "metadata": {},
   "source": [
    "The interface properties are returned in JSON representation from function:\n",
    "* `interface_properties_json(device_name)`\n",
    "\n",
    "The [HTTP Reference](#RPC-interface_properties_json:-multiple) shows the actual JSON document returned from the Controller.\n",
    "\n",
    "The sample code below extracts three of the many properties available for each network interface: \n",
    "* interface-name\n",
    "* type\n",
    "* encapsulation."
   ]
  },
  {
   "cell_type": "code",
   "execution_count": 31,
   "metadata": {
    "collapsed": false
   },
   "outputs": [
    {
     "data": {
      "text/plain": [
       "[(u'MgmtEth0/0/CPU0/0', u'IFT_ETHERNET', u'ether'),\n",
       " (u'Null0', u'IFT_NULL', u'null'),\n",
       " (u'FINT0/0/CPU0', u'IFT_FINT_INTF', u'fint_base'),\n",
       " (u'Loopback0', u'IFT_LOOPBACK', u'loopback'),\n",
       " (u'GigabitEthernet0/0/0/1', u'IFT_GETHERNET', u'ether'),\n",
       " (u'GigabitEthernet0/0/0/0', u'IFT_GETHERNET', u'ether'),\n",
       " (u'nV-Loopback0', u'IFT_NV_LOOPBACK', u'nv_loopback')]"
      ]
     },
     "execution_count": 31,
     "metadata": {},
     "output_type": "execute_result"
    }
   ],
   "source": [
    "\n",
    "from basics.interface import interface_properties_json\n",
    "\n",
    "[(\n",
    "    item[u'interface-name'], \n",
    "    item[u'type'], \n",
    "    item[u'encapsulation']\n",
    " ) \n",
    " for item in interface_properties_json(device_name)\n",
    "     [u'interface-properties']\n",
    "     [u'data-nodes']\n",
    "     [u'data-node']\n",
    "     [0]\n",
    "     [u'system-view']\n",
    "     [u'interfaces']\n",
    "     [u'interface']\n",
    "]"
   ]
  },
  {
   "cell_type": "code",
   "execution_count": 32,
   "metadata": {
    "collapsed": false
   },
   "outputs": [],
   "source": [
    "json = interface_properties_json(device_name, interface_name)"
   ]
  },
  {
   "cell_type": "markdown",
   "metadata": {},
   "source": [
    "The JSON document is displayed in the [HTTP Reference](#RPC-interface_properties_json:-single). \n",
    "  \n",
    "The property names and values can be accessed directly from the JSON structure."
   ]
  },
  {
   "cell_type": "code",
   "execution_count": 33,
   "metadata": {
    "collapsed": false
   },
   "outputs": [
    {
     "data": {
      "text/plain": [
       "[(u'encapsulation-type-string', u'ARPA'),\n",
       " (u'sub-interface-mtu-overhead', 0),\n",
       " (u'interface-name', u'GigabitEthernet0/0/0/0'),\n",
       " (u'state', u'im-state-up'),\n",
       " (u'actual-state', u'im-state-up'),\n",
       " (u'actual-line-state', u'im-state-up'),\n",
       " (u'l2-transport', False),\n",
       " (u'mtu', 1514),\n",
       " (u'line-state', u'im-state-up'),\n",
       " (u'bandwidth', 1000000),\n",
       " (u'interface', u'GigabitEthernet0/0/0/0'),\n",
       " (u'encapsulation', u'ether'),\n",
       " (u'type', u'IFT_GETHERNET')]"
      ]
     },
     "execution_count": 33,
     "metadata": {},
     "output_type": "execute_result"
    }
   ],
   "source": [
    "[(name, value) for (name,value) in json[u'interface'][0].iteritems()]"
   ]
  },
  {
   "cell_type": "markdown",
   "metadata": {},
   "source": [
    "### Python type `InterfaceProperties`"
   ]
  },
  {
   "cell_type": "markdown",
   "metadata": {},
   "source": [
    "The properties of a network interface are available as a Python [`named tuple`](https://foo.cs.ucsb.edu/8wiki/index.php/Python:_Named_Tuples). The functions are:\n",
    "* interface_properties_tuple(device_name)\n",
    "* interface_properties_tuple(device_name, interface_name)"
   ]
  },
  {
   "cell_type": "code",
   "execution_count": 34,
   "metadata": {
    "collapsed": false
   },
   "outputs": [],
   "source": [
    "from basics.interface import interface_properties_tuple\n",
    "\n",
    "tuple = interface_properties_tuple(device_name, interface_name)"
   ]
  },
  {
   "cell_type": "markdown",
   "metadata": {},
   "source": [
    "The type of the tuple is a class in Python."
   ]
  },
  {
   "cell_type": "code",
   "execution_count": 35,
   "metadata": {
    "collapsed": false
   },
   "outputs": [
    {
     "data": {
      "text/plain": [
       "basics.interface.InterfaceProperties"
      ]
     },
     "execution_count": 35,
     "metadata": {},
     "output_type": "execute_result"
    }
   ],
   "source": [
    "type(tuple)"
   ]
  },
  {
   "cell_type": "markdown",
   "metadata": {},
   "source": [
    "List all fields of the Python class."
   ]
  },
  {
   "cell_type": "code",
   "execution_count": 36,
   "metadata": {
    "collapsed": false
   },
   "outputs": [
    {
     "data": {
      "text/plain": [
       "['name',\n",
       " 'type',\n",
       " 'bandwidth',\n",
       " 'encapsulation',\n",
       " 'encapsulation_type',\n",
       " 'state',\n",
       " 'line_state',\n",
       " 'actual_state',\n",
       " 'actual_line_state',\n",
       " 'l2_transport',\n",
       " 'mtu',\n",
       " 'sub_interface_mtu_overhead']"
      ]
     },
     "execution_count": 36,
     "metadata": {},
     "output_type": "execute_result"
    }
   ],
   "source": [
    "tuple.__dict__.keys()"
   ]
  },
  {
   "cell_type": "markdown",
   "metadata": {},
   "source": [
    "A tuple provides access to the fields in a language that is very natural. Several fields are accessed to demonstrate. Note that the property values below have different types: string, boolean and integer."
   ]
  },
  {
   "cell_type": "code",
   "execution_count": 37,
   "metadata": {
    "collapsed": false
   },
   "outputs": [
    {
     "data": {
      "text/plain": [
       "u'GigabitEthernet0/0/0/0'"
      ]
     },
     "execution_count": 37,
     "metadata": {},
     "output_type": "execute_result"
    }
   ],
   "source": [
    "tuple.name"
   ]
  },
  {
   "cell_type": "code",
   "execution_count": 38,
   "metadata": {
    "collapsed": false
   },
   "outputs": [
    {
     "data": {
      "text/plain": [
       "False"
      ]
     },
     "execution_count": 38,
     "metadata": {},
     "output_type": "execute_result"
    }
   ],
   "source": [
    "tuple.l2_transport"
   ]
  },
  {
   "cell_type": "code",
   "execution_count": 39,
   "metadata": {
    "collapsed": false
   },
   "outputs": [
    {
     "data": {
      "text/plain": [
       "1514"
      ]
     },
     "execution_count": 39,
     "metadata": {},
     "output_type": "execute_result"
    }
   ],
   "source": [
    "tuple.mtu"
   ]
  },
  {
   "cell_type": "markdown",
   "metadata": {},
   "source": [
    "All examples of the Python tuple, above, have been for a single network interface. The properties of multiple network interfaces (of one network device) are available as a list of tuples."
   ]
  },
  {
   "cell_type": "code",
   "execution_count": 40,
   "metadata": {
    "collapsed": false
   },
   "outputs": [
    {
     "data": {
      "text/plain": [
       "[(u'MgmtEth0/0/CPU0/0', u'im-state-up'),\n",
       " (u'Null0', u'im-state-up'),\n",
       " (u'FINT0/0/CPU0', u'im-state-up'),\n",
       " (u'Loopback0', u'im-state-up'),\n",
       " (u'GigabitEthernet0/0/0/1', u'im-state-up'),\n",
       " (u'GigabitEthernet0/0/0/0', u'im-state-up'),\n",
       " (u'nV-Loopback0', u'im-state-up')]"
      ]
     },
     "execution_count": 40,
     "metadata": {},
     "output_type": "execute_result"
    }
   ],
   "source": [
    "bulk = interface_properties_tuple(device_name)\n",
    "\n",
    "[(tuple.name, tuple.state) for tuple in bulk]"
   ]
  },
  {
   "cell_type": "markdown",
   "metadata": {},
   "source": [
    "## Conclusion"
   ]
  },
  {
   "cell_type": "markdown",
   "metadata": {},
   "source": [
    "In this lesson we:\n",
    "1. Listed the names of network interfaces on a single network device. \n",
    "2. Determined which network interface the Controller is using to manage the network device. \n",
    "3. For each network interface we obtained: \n",
    "    * configuration\n",
    "    * properties\n",
    "4. The configuration and properties of network interfaces are available, per network device:\n",
    "    * in bulk - all network interfaces\n",
    "    * individually - a single network interface, specified by name\n",
    "5. The data formats used were:\n",
    "    * XML - demonstration of transformation to HTML using XSLT\n",
    "    * JSON - indexing deep into a complex document\n",
    "    * Python - types `InterfaceConfiguration` and `InterfaceProperties`"
   ]
  },
  {
   "cell_type": "markdown",
   "metadata": {},
   "source": [
    "## HTTP Reference"
   ]
  },
  {
   "cell_type": "markdown",
   "metadata": {},
   "source": [
    "The HTTP request and response are shown for each remote procedure call (RPC) to the Controller.\n",
    "  \n",
    "See the Learning Lab document [HTTP](Http.ipynb) for a demonstration of how to use the tables below."
   ]
  },
  {
   "cell_type": "markdown",
   "metadata": {},
   "source": [
    "### RPC interface_configuration_xml: multiple"
   ]
  },
  {
   "cell_type": "markdown",
   "metadata": {},
   "source": [
    "Function:\n",
    "* `interface_configuration_xml(device_name)`\n",
    "\n",
    "invokes function:\n",
    "* `interface_configuration_xml_http(device_name)`\n",
    "\n",
    "which returns the HTTP request and response, as shown in the table below.\n",
    "  \n",
    "The response from the Controller is very large because it describes multiple network interfaces. The next RPC is for a single network interface and is thus shorter. To help you navigate this document, here is a link to the [next section](#RPC-interface_configuration_xml:-single) and the [TOC](#Table-of-Contents)."
   ]
  },
  {
   "cell_type": "code",
   "execution_count": 41,
   "metadata": {
    "collapsed": false
   },
   "outputs": [
    {
     "data": {
      "text/html": [
       "<table>\n",
       "  <style>table {border: 1px solid black;}</style>\n",
       "  <style>tr:nth-of-type(even) {background-color:#eee;}</style>\n",
       "  <style>tr:nth-of-type(odd) {background-color:#fff;}</style>\n",
       "  <style>th {background-color:lightgray;}</style>\n",
       "  <thead>\n",
       "    <tr>\n",
       "      <th style=\"text-align:center\" colspan=\"2\">Request</th>\n",
       "    </tr>\n",
       "  </thead>\n",
       "  <tbody>\n",
       "    <tr>\n",
       "      <th>Method</th>\n",
       "      <td>GET</td>\n",
       "    </tr>\n",
       "    <tr>\n",
       "      <th>URL</th>\n",
       "      <td>http://127.0.0.1:8181/restconf/config/opendaylight-inventory:nodes/node/xrvr-1/yang-ext:mount/Cisco-IOS-XR-ifmgr-cfg:interface-configurations</td>\n",
       "    </tr>\n",
       "    <tr>\n",
       "      <th>Headers</th>\n",
       "      <td><table>\n",
       "    <tr>\n",
       "        <td>\n",
       "            Authorization\n",
       "        </td>\n",
       "        <td>\n",
       "            Basic YWRtaW46YWRtaW4=\n",
       "        </td>\n",
       "    </tr>\n",
       "    <tr>\n",
       "        <td>\n",
       "            Accept-Encoding\n",
       "        </td>\n",
       "        <td>\n",
       "            gzip, deflate, compress\n",
       "        </td>\n",
       "    </tr>\n",
       "    <tr>\n",
       "        <td>\n",
       "            Accept\n",
       "        </td>\n",
       "        <td>\n",
       "            application/xml\n",
       "        </td>\n",
       "    </tr>\n",
       "    <tr>\n",
       "        <td>\n",
       "            User-Agent\n",
       "        </td>\n",
       "        <td>\n",
       "            python-requests/2.2.1 CPython/2.7.6 Linux/3.13.0-44-generic\n",
       "        </td>\n",
       "    </tr>\n",
       "\n",
       "</table>\n",
       "</td>\n",
       "    </tr>\n",
       "    <tr>\n",
       "      <th>Content</th>\n",
       "      <td></td>\n",
       "    </tr>\n",
       "  </tbody>\n",
       "  <thead>\n",
       "      <tr>\n",
       "        <th style=\"text-align:center;background-color:white\" colspan=\"2\"/>\n",
       "      </tr>\n",
       "      <tr>\n",
       "        <th style=\"text-align:center\" colspan=\"2\">Response</th>\n",
       "      </tr>\n",
       "  </thead>\n",
       "  <tbody>\n",
       "    <tr>\n",
       "      <th>Status Code</th>\n",
       "      <td>200</td>\n",
       "    </tr>\n",
       "    <tr>\n",
       "      <th>Headers</th>\n",
       "      <td><table>\n",
       "    <tr>\n",
       "        <td>\n",
       "            transfer-encoding\n",
       "        </td>\n",
       "        <td>\n",
       "            chunked\n",
       "        </td>\n",
       "    </tr>\n",
       "    <tr>\n",
       "        <td>\n",
       "            content-type\n",
       "        </td>\n",
       "        <td>\n",
       "            application/xml\n",
       "        </td>\n",
       "    </tr>\n",
       "    <tr>\n",
       "        <td>\n",
       "            server\n",
       "        </td>\n",
       "        <td>\n",
       "            Jetty(8.1.14.v20131031)\n",
       "        </td>\n",
       "    </tr>\n",
       "\n",
       "</table>\n",
       "</td>\n",
       "    </tr>\n",
       "    <tr>\n",
       "      <th>Content</th>\n",
       "      <td><pre>&lt;?xml version='1.0' encoding='ASCII'?&gt;\n",
       "&lt;interface-configurations xmlns=\"http://cisco.com/ns/yang/Cisco-IOS-XR-ifmgr-cfg\"&gt;\n",
       "  &lt;interface-configuration&gt;\n",
       "    &lt;active&gt;act&lt;/active&gt;\n",
       "    &lt;interface-name&gt;GigabitEthernet0/0/0/0&lt;/interface-name&gt;\n",
       "    &lt;description&gt;to iosxrv-2&lt;/description&gt;\n",
       "    &lt;ipv4-network xmlns=\"http://cisco.com/ns/yang/Cisco-IOS-XR-ipv4-io-cfg\"&gt;\n",
       "      &lt;addresses&gt;\n",
       "        &lt;primary&gt;\n",
       "          &lt;netmask&gt;255.255.255.252&lt;/netmask&gt;\n",
       "          &lt;address&gt;10.0.0.6&lt;/address&gt;\n",
       "        &lt;/primary&gt;\n",
       "      &lt;/addresses&gt;\n",
       "    &lt;/ipv4-network&gt;\n",
       "  &lt;/interface-configuration&gt;\n",
       "  &lt;interface-configuration&gt;\n",
       "    &lt;active&gt;act&lt;/active&gt;\n",
       "    &lt;interface-name&gt;MgmtEth0/0/CPU0/0&lt;/interface-name&gt;\n",
       "    &lt;description&gt;OOB Management&lt;/description&gt;\n",
       "    &lt;ipv4-network xmlns=\"http://cisco.com/ns/yang/Cisco-IOS-XR-ipv4-io-cfg\"&gt;\n",
       "      &lt;addresses&gt;\n",
       "        &lt;primary&gt;\n",
       "          &lt;netmask&gt;255.255.255.0&lt;/netmask&gt;\n",
       "          &lt;address&gt;172.16.1.88&lt;/address&gt;\n",
       "        &lt;/primary&gt;\n",
       "      &lt;/addresses&gt;\n",
       "    &lt;/ipv4-network&gt;\n",
       "  &lt;/interface-configuration&gt;\n",
       "  &lt;interface-configuration&gt;\n",
       "    &lt;active&gt;act&lt;/active&gt;\n",
       "    &lt;interface-name&gt;Loopback0&lt;/interface-name&gt;\n",
       "    &lt;interface-virtual/&gt;\n",
       "    &lt;description&gt;Loopback&lt;/description&gt;\n",
       "    &lt;ipv4-network xmlns=\"http://cisco.com/ns/yang/Cisco-IOS-XR-ipv4-io-cfg\"&gt;\n",
       "      &lt;addresses&gt;\n",
       "        &lt;primary&gt;\n",
       "          &lt;netmask&gt;255.255.255.255&lt;/netmask&gt;\n",
       "          &lt;address&gt;192.168.0.1&lt;/address&gt;\n",
       "        &lt;/primary&gt;\n",
       "      &lt;/addresses&gt;\n",
       "    &lt;/ipv4-network&gt;\n",
       "  &lt;/interface-configuration&gt;\n",
       "  &lt;interface-configuration&gt;\n",
       "    &lt;active&gt;act&lt;/active&gt;\n",
       "    &lt;interface-name&gt;GigabitEthernet0/0/0/1&lt;/interface-name&gt;\n",
       "    &lt;description&gt;to iosxrv-3&lt;/description&gt;\n",
       "    &lt;ipv4-network xmlns=\"http://cisco.com/ns/yang/Cisco-IOS-XR-ipv4-io-cfg\"&gt;\n",
       "      &lt;addresses&gt;\n",
       "        &lt;primary&gt;\n",
       "          &lt;netmask&gt;255.255.255.252&lt;/netmask&gt;\n",
       "          &lt;address&gt;10.0.128.1&lt;/address&gt;\n",
       "        &lt;/primary&gt;\n",
       "      &lt;/addresses&gt;\n",
       "    &lt;/ipv4-network&gt;\n",
       "  &lt;/interface-configuration&gt;\n",
       "&lt;/interface-configurations&gt;\n",
       "</pre></td>\n",
       "    </tr>\n",
       "  </tbody>\n",
       "</table>\n"
      ],
      "text/plain": [
       "<IPython.core.display.HTML at 0x7f600be4d5d0>"
      ]
     },
     "execution_count": 41,
     "metadata": {},
     "output_type": "execute_result"
    }
   ],
   "source": [
    "from basics.interface import interface_configuration_xml_http\n",
    "from basics.http import http_to_html\n",
    "\n",
    "HTML(http_to_html(interface_configuration_xml_http(device_name)))"
   ]
  },
  {
   "cell_type": "markdown",
   "metadata": {},
   "source": [
    "### RPC interface_configuration_xml: single"
   ]
  },
  {
   "cell_type": "markdown",
   "metadata": {},
   "source": [
    "The function:\n",
    "* `interface_configuration_xml(device_name, interface_name)`\n",
    "\n",
    "invokes function:\n",
    "* `interface_configuration_xml_http(device_name, interface_name)`\n",
    "\n",
    "which returns the HTTP request and response, as shown in the table below. The specific interface was [chosen randomly](#For-one-network-interface). \n",
    "  \n",
    "To help you navigate around the large tables in this document, here are links to the [previous section](#RPC-interface_configuration_xml:-multiple), [next section](#RPC-interface_configuration_json:-multiple) and the [TOC](#Table-of-Contents)."
   ]
  },
  {
   "cell_type": "code",
   "execution_count": 42,
   "metadata": {
    "collapsed": false
   },
   "outputs": [
    {
     "data": {
      "text/html": [
       "<table>\n",
       "  <style>table {border: 1px solid black;}</style>\n",
       "  <style>tr:nth-of-type(even) {background-color:#eee;}</style>\n",
       "  <style>tr:nth-of-type(odd) {background-color:#fff;}</style>\n",
       "  <style>th {background-color:lightgray;}</style>\n",
       "  <thead>\n",
       "    <tr>\n",
       "      <th style=\"text-align:center\" colspan=\"2\">Request</th>\n",
       "    </tr>\n",
       "  </thead>\n",
       "  <tbody>\n",
       "    <tr>\n",
       "      <th>Method</th>\n",
       "      <td>GET</td>\n",
       "    </tr>\n",
       "    <tr>\n",
       "      <th>URL</th>\n",
       "      <td>http://127.0.0.1:8181/restconf/config/opendaylight-inventory:nodes/node/xrvr-1/yang-ext:mount/Cisco-IOS-XR-ifmgr-cfg:interface-configurations/interface-configuration/act/GigabitEthernet0%2F0%2F0%2F0</td>\n",
       "    </tr>\n",
       "    <tr>\n",
       "      <th>Headers</th>\n",
       "      <td><table>\n",
       "    <tr>\n",
       "        <td>\n",
       "            Authorization\n",
       "        </td>\n",
       "        <td>\n",
       "            Basic YWRtaW46YWRtaW4=\n",
       "        </td>\n",
       "    </tr>\n",
       "    <tr>\n",
       "        <td>\n",
       "            Accept-Encoding\n",
       "        </td>\n",
       "        <td>\n",
       "            gzip, deflate, compress\n",
       "        </td>\n",
       "    </tr>\n",
       "    <tr>\n",
       "        <td>\n",
       "            Accept\n",
       "        </td>\n",
       "        <td>\n",
       "            application/xml\n",
       "        </td>\n",
       "    </tr>\n",
       "    <tr>\n",
       "        <td>\n",
       "            User-Agent\n",
       "        </td>\n",
       "        <td>\n",
       "            python-requests/2.2.1 CPython/2.7.6 Linux/3.13.0-44-generic\n",
       "        </td>\n",
       "    </tr>\n",
       "\n",
       "</table>\n",
       "</td>\n",
       "    </tr>\n",
       "    <tr>\n",
       "      <th>Content</th>\n",
       "      <td></td>\n",
       "    </tr>\n",
       "  </tbody>\n",
       "  <thead>\n",
       "      <tr>\n",
       "        <th style=\"text-align:center;background-color:white\" colspan=\"2\"/>\n",
       "      </tr>\n",
       "      <tr>\n",
       "        <th style=\"text-align:center\" colspan=\"2\">Response</th>\n",
       "      </tr>\n",
       "  </thead>\n",
       "  <tbody>\n",
       "    <tr>\n",
       "      <th>Status Code</th>\n",
       "      <td>200</td>\n",
       "    </tr>\n",
       "    <tr>\n",
       "      <th>Headers</th>\n",
       "      <td><table>\n",
       "    <tr>\n",
       "        <td>\n",
       "            transfer-encoding\n",
       "        </td>\n",
       "        <td>\n",
       "            chunked\n",
       "        </td>\n",
       "    </tr>\n",
       "    <tr>\n",
       "        <td>\n",
       "            content-type\n",
       "        </td>\n",
       "        <td>\n",
       "            application/xml\n",
       "        </td>\n",
       "    </tr>\n",
       "    <tr>\n",
       "        <td>\n",
       "            server\n",
       "        </td>\n",
       "        <td>\n",
       "            Jetty(8.1.14.v20131031)\n",
       "        </td>\n",
       "    </tr>\n",
       "\n",
       "</table>\n",
       "</td>\n",
       "    </tr>\n",
       "    <tr>\n",
       "      <th>Content</th>\n",
       "      <td><pre>&lt;?xml version='1.0' encoding='ASCII'?&gt;\n",
       "&lt;interface-configuration xmlns=\"http://cisco.com/ns/yang/Cisco-IOS-XR-ifmgr-cfg\"&gt;\n",
       "  &lt;active&gt;act&lt;/active&gt;\n",
       "  &lt;interface-name&gt;GigabitEthernet0/0/0/0&lt;/interface-name&gt;\n",
       "  &lt;description&gt;to iosxrv-2&lt;/description&gt;\n",
       "  &lt;ipv4-network xmlns=\"http://cisco.com/ns/yang/Cisco-IOS-XR-ipv4-io-cfg\"&gt;\n",
       "    &lt;addresses&gt;\n",
       "      &lt;primary&gt;\n",
       "        &lt;netmask&gt;255.255.255.252&lt;/netmask&gt;\n",
       "        &lt;address&gt;10.0.0.6&lt;/address&gt;\n",
       "      &lt;/primary&gt;\n",
       "    &lt;/addresses&gt;\n",
       "  &lt;/ipv4-network&gt;\n",
       "&lt;/interface-configuration&gt;\n",
       "</pre></td>\n",
       "    </tr>\n",
       "  </tbody>\n",
       "</table>\n"
      ],
      "text/plain": [
       "<IPython.core.display.HTML at 0x7f6000057e50>"
      ]
     },
     "execution_count": 42,
     "metadata": {},
     "output_type": "execute_result"
    }
   ],
   "source": [
    "http = interface_configuration_xml_http(device_name, interface_name)\n",
    "HTML(http_to_html(http))"
   ]
  },
  {
   "cell_type": "markdown",
   "metadata": {},
   "source": [
    "### RPC interface_configuration_json: multiple"
   ]
  },
  {
   "cell_type": "markdown",
   "metadata": {},
   "source": [
    "Function:\n",
    "* `interface_configuration_json(device_name)`\n",
    "\n",
    "invokes function:\n",
    "* `interface_configuration_json_http(device_name)`\n",
    "\n",
    "which returns the HTTP request and response, as shown in the table below.\n",
    "  \n",
    "The response from the Controller is very large because it describes multiple network interfaces. The next RPC is for a single network interface and is thus shorter. To help you navigate this document, here is a link to the [previous section](#RPC-interface_configuration_xml:-single), [next section](#RPC-interface_configuration_json:-single) and the [TOC](#Table-of-Contents)."
   ]
  },
  {
   "cell_type": "code",
   "execution_count": 43,
   "metadata": {
    "collapsed": false
   },
   "outputs": [
    {
     "data": {
      "text/html": [
       "<table>\n",
       "  <style>table {border: 1px solid black;}</style>\n",
       "  <style>tr:nth-of-type(even) {background-color:#eee;}</style>\n",
       "  <style>tr:nth-of-type(odd) {background-color:#fff;}</style>\n",
       "  <style>th {background-color:lightgray;}</style>\n",
       "  <thead>\n",
       "    <tr>\n",
       "      <th style=\"text-align:center\" colspan=\"2\">Request</th>\n",
       "    </tr>\n",
       "  </thead>\n",
       "  <tbody>\n",
       "    <tr>\n",
       "      <th>Method</th>\n",
       "      <td>GET</td>\n",
       "    </tr>\n",
       "    <tr>\n",
       "      <th>URL</th>\n",
       "      <td>http://127.0.0.1:8181/restconf/config/opendaylight-inventory:nodes/node/xrvr-1/yang-ext:mount/Cisco-IOS-XR-ifmgr-cfg:interface-configurations</td>\n",
       "    </tr>\n",
       "    <tr>\n",
       "      <th>Headers</th>\n",
       "      <td><table>\n",
       "    <tr>\n",
       "        <td>\n",
       "            Authorization\n",
       "        </td>\n",
       "        <td>\n",
       "            Basic YWRtaW46YWRtaW4=\n",
       "        </td>\n",
       "    </tr>\n",
       "    <tr>\n",
       "        <td>\n",
       "            Accept-Encoding\n",
       "        </td>\n",
       "        <td>\n",
       "            gzip, deflate, compress\n",
       "        </td>\n",
       "    </tr>\n",
       "    <tr>\n",
       "        <td>\n",
       "            Accept\n",
       "        </td>\n",
       "        <td>\n",
       "            application/json\n",
       "        </td>\n",
       "    </tr>\n",
       "    <tr>\n",
       "        <td>\n",
       "            User-Agent\n",
       "        </td>\n",
       "        <td>\n",
       "            python-requests/2.2.1 CPython/2.7.6 Linux/3.13.0-44-generic\n",
       "        </td>\n",
       "    </tr>\n",
       "\n",
       "</table>\n",
       "</td>\n",
       "    </tr>\n",
       "    <tr>\n",
       "      <th>Content</th>\n",
       "      <td></td>\n",
       "    </tr>\n",
       "  </tbody>\n",
       "  <thead>\n",
       "      <tr>\n",
       "        <th style=\"text-align:center;background-color:white\" colspan=\"2\"/>\n",
       "      </tr>\n",
       "      <tr>\n",
       "        <th style=\"text-align:center\" colspan=\"2\">Response</th>\n",
       "      </tr>\n",
       "  </thead>\n",
       "  <tbody>\n",
       "    <tr>\n",
       "      <th>Status Code</th>\n",
       "      <td>200</td>\n",
       "    </tr>\n",
       "    <tr>\n",
       "      <th>Headers</th>\n",
       "      <td><table>\n",
       "    <tr>\n",
       "        <td>\n",
       "            transfer-encoding\n",
       "        </td>\n",
       "        <td>\n",
       "            chunked\n",
       "        </td>\n",
       "    </tr>\n",
       "    <tr>\n",
       "        <td>\n",
       "            content-type\n",
       "        </td>\n",
       "        <td>\n",
       "            application/json\n",
       "        </td>\n",
       "    </tr>\n",
       "    <tr>\n",
       "        <td>\n",
       "            server\n",
       "        </td>\n",
       "        <td>\n",
       "            Jetty(8.1.14.v20131031)\n",
       "        </td>\n",
       "    </tr>\n",
       "\n",
       "</table>\n",
       "</td>\n",
       "    </tr>\n",
       "    <tr>\n",
       "      <th>Content</th>\n",
       "      <td><pre>{\n",
       "  \"interface-configurations\": {\n",
       "    \"interface-configuration\": [\n",
       "      {\n",
       "        \"active\": \"act\",\n",
       "        \"Cisco-IOS-XR-ipv4-io-cfg:ipv4-network\": {\n",
       "          \"addresses\": {\n",
       "            \"primary\": {\n",
       "              \"netmask\": \"255.255.255.252\",\n",
       "              \"address\": \"10.0.0.6\"\n",
       "            }\n",
       "          }\n",
       "        },\n",
       "        \"interface-name\": \"GigabitEthernet0/0/0/0\",\n",
       "        \"description\": \"to iosxrv-2\"\n",
       "      },\n",
       "      {\n",
       "        \"active\": \"act\",\n",
       "        \"Cisco-IOS-XR-ipv4-io-cfg:ipv4-network\": {\n",
       "          \"addresses\": {\n",
       "            \"primary\": {\n",
       "              \"netmask\": \"255.255.255.0\",\n",
       "              \"address\": \"172.16.1.88\"\n",
       "            }\n",
       "          }\n",
       "        },\n",
       "        \"interface-name\": \"MgmtEth0/0/CPU0/0\",\n",
       "        \"description\": \"OOB Management\"\n",
       "      },\n",
       "      {\n",
       "        \"active\": \"act\",\n",
       "        \"interface-virtual\": \"\",\n",
       "        \"Cisco-IOS-XR-ipv4-io-cfg:ipv4-network\": {\n",
       "          \"addresses\": {\n",
       "            \"primary\": {\n",
       "              \"netmask\": \"255.255.255.255\",\n",
       "              \"address\": \"192.168.0.1\"\n",
       "            }\n",
       "          }\n",
       "        },\n",
       "        \"interface-name\": \"Loopback0\",\n",
       "        \"description\": \"Loopback\"\n",
       "      },\n",
       "      {\n",
       "        \"active\": \"act\",\n",
       "        \"Cisco-IOS-XR-ipv4-io-cfg:ipv4-network\": {\n",
       "          \"addresses\": {\n",
       "            \"primary\": {\n",
       "              \"netmask\": \"255.255.255.252\",\n",
       "              \"address\": \"10.0.128.1\"\n",
       "            }\n",
       "          }\n",
       "        },\n",
       "        \"interface-name\": \"GigabitEthernet0/0/0/1\",\n",
       "        \"description\": \"to iosxrv-3\"\n",
       "      }\n",
       "    ]\n",
       "  }\n",
       "}</pre></td>\n",
       "    </tr>\n",
       "  </tbody>\n",
       "</table>\n"
      ],
      "text/plain": [
       "<IPython.core.display.HTML at 0x7f5feae9c350>"
      ]
     },
     "execution_count": 43,
     "metadata": {},
     "output_type": "execute_result"
    }
   ],
   "source": [
    "from basics.interface import interface_configuration_json_http\n",
    "\n",
    "HTML(http_to_html(interface_configuration_json_http(device_name)))"
   ]
  },
  {
   "cell_type": "markdown",
   "metadata": {},
   "source": [
    "### RPC interface_configuration_json: single"
   ]
  },
  {
   "cell_type": "markdown",
   "metadata": {},
   "source": [
    "The function:\n",
    "* `interface_configuration_json(device_name, interface_name)`\n",
    "\n",
    "invokes function:\n",
    "* `interface_configuration_json_http(device_name, interface_name)`\n",
    "\n",
    "which returns the HTTP request and response, as shown in the table below. The specific interface was [chosen randomly](#For-one-network-interface). \n",
    "  \n",
    "To help you navigate around the large tables in this document, here are links to the [previous section](#RPC-interface_configuration_json:-multiple), [next section](#RPC-interface_properties_xml:-multiple) and the [TOC](#Table-of-Contents)."
   ]
  },
  {
   "cell_type": "code",
   "execution_count": 44,
   "metadata": {
    "collapsed": false
   },
   "outputs": [
    {
     "data": {
      "text/html": [
       "<table>\n",
       "  <style>table {border: 1px solid black;}</style>\n",
       "  <style>tr:nth-of-type(even) {background-color:#eee;}</style>\n",
       "  <style>tr:nth-of-type(odd) {background-color:#fff;}</style>\n",
       "  <style>th {background-color:lightgray;}</style>\n",
       "  <thead>\n",
       "    <tr>\n",
       "      <th style=\"text-align:center\" colspan=\"2\">Request</th>\n",
       "    </tr>\n",
       "  </thead>\n",
       "  <tbody>\n",
       "    <tr>\n",
       "      <th>Method</th>\n",
       "      <td>GET</td>\n",
       "    </tr>\n",
       "    <tr>\n",
       "      <th>URL</th>\n",
       "      <td>http://127.0.0.1:8181/restconf/config/opendaylight-inventory:nodes/node/xrvr-1/yang-ext:mount/Cisco-IOS-XR-ifmgr-cfg:interface-configurations/interface-configuration/act/GigabitEthernet0%2F0%2F0%2F0</td>\n",
       "    </tr>\n",
       "    <tr>\n",
       "      <th>Headers</th>\n",
       "      <td><table>\n",
       "    <tr>\n",
       "        <td>\n",
       "            Authorization\n",
       "        </td>\n",
       "        <td>\n",
       "            Basic YWRtaW46YWRtaW4=\n",
       "        </td>\n",
       "    </tr>\n",
       "    <tr>\n",
       "        <td>\n",
       "            Accept-Encoding\n",
       "        </td>\n",
       "        <td>\n",
       "            gzip, deflate, compress\n",
       "        </td>\n",
       "    </tr>\n",
       "    <tr>\n",
       "        <td>\n",
       "            Accept\n",
       "        </td>\n",
       "        <td>\n",
       "            application/json\n",
       "        </td>\n",
       "    </tr>\n",
       "    <tr>\n",
       "        <td>\n",
       "            User-Agent\n",
       "        </td>\n",
       "        <td>\n",
       "            python-requests/2.2.1 CPython/2.7.6 Linux/3.13.0-44-generic\n",
       "        </td>\n",
       "    </tr>\n",
       "\n",
       "</table>\n",
       "</td>\n",
       "    </tr>\n",
       "    <tr>\n",
       "      <th>Content</th>\n",
       "      <td></td>\n",
       "    </tr>\n",
       "  </tbody>\n",
       "  <thead>\n",
       "      <tr>\n",
       "        <th style=\"text-align:center;background-color:white\" colspan=\"2\"/>\n",
       "      </tr>\n",
       "      <tr>\n",
       "        <th style=\"text-align:center\" colspan=\"2\">Response</th>\n",
       "      </tr>\n",
       "  </thead>\n",
       "  <tbody>\n",
       "    <tr>\n",
       "      <th>Status Code</th>\n",
       "      <td>200</td>\n",
       "    </tr>\n",
       "    <tr>\n",
       "      <th>Headers</th>\n",
       "      <td><table>\n",
       "    <tr>\n",
       "        <td>\n",
       "            transfer-encoding\n",
       "        </td>\n",
       "        <td>\n",
       "            chunked\n",
       "        </td>\n",
       "    </tr>\n",
       "    <tr>\n",
       "        <td>\n",
       "            content-type\n",
       "        </td>\n",
       "        <td>\n",
       "            application/json\n",
       "        </td>\n",
       "    </tr>\n",
       "    <tr>\n",
       "        <td>\n",
       "            server\n",
       "        </td>\n",
       "        <td>\n",
       "            Jetty(8.1.14.v20131031)\n",
       "        </td>\n",
       "    </tr>\n",
       "\n",
       "</table>\n",
       "</td>\n",
       "    </tr>\n",
       "    <tr>\n",
       "      <th>Content</th>\n",
       "      <td><pre>{\n",
       "  \"interface-configuration\": [\n",
       "    {\n",
       "      \"active\": \"act\",\n",
       "      \"Cisco-IOS-XR-ipv4-io-cfg:ipv4-network\": {\n",
       "        \"addresses\": {\n",
       "          \"primary\": {\n",
       "            \"netmask\": \"255.255.255.252\",\n",
       "            \"address\": \"10.0.0.6\"\n",
       "          }\n",
       "        }\n",
       "      },\n",
       "      \"interface-name\": \"GigabitEthernet0/0/0/0\",\n",
       "      \"description\": \"to iosxrv-2\"\n",
       "    }\n",
       "  ]\n",
       "}</pre></td>\n",
       "    </tr>\n",
       "  </tbody>\n",
       "</table>\n"
      ],
      "text/plain": [
       "<IPython.core.display.HTML at 0x7f5feae9cc90>"
      ]
     },
     "execution_count": 44,
     "metadata": {},
     "output_type": "execute_result"
    }
   ],
   "source": [
    "HTML(http_to_html(interface_configuration_json_http(device_name, interface_name)))"
   ]
  },
  {
   "cell_type": "markdown",
   "metadata": {},
   "source": [
    "### RPC interface_properties_xml: multiple"
   ]
  },
  {
   "cell_type": "markdown",
   "metadata": {},
   "source": [
    "The function:\n",
    "* `interface_properties_xml(device_name)`\n",
    "\n",
    "invokes function:\n",
    "* `interface_properties_xml_http(device_name)`\n",
    "\n",
    "which returns the HTTP request and response, as shown in the table below.\n",
    "  \n",
    "To help you navigate around the large tables in this document, here are links to the [previous section](#RPC-interface_configuration_json:-single), [next section](#RPC-interface_properties_xml:-single) and the [TOC](#Table-of-Contents)."
   ]
  },
  {
   "cell_type": "code",
   "execution_count": 45,
   "metadata": {
    "collapsed": false
   },
   "outputs": [
    {
     "data": {
      "text/html": [
       "<table>\n",
       "  <style>table {border: 1px solid black;}</style>\n",
       "  <style>tr:nth-of-type(even) {background-color:#eee;}</style>\n",
       "  <style>tr:nth-of-type(odd) {background-color:#fff;}</style>\n",
       "  <style>th {background-color:lightgray;}</style>\n",
       "  <thead>\n",
       "    <tr>\n",
       "      <th style=\"text-align:center\" colspan=\"2\">Request</th>\n",
       "    </tr>\n",
       "  </thead>\n",
       "  <tbody>\n",
       "    <tr>\n",
       "      <th>Method</th>\n",
       "      <td>GET</td>\n",
       "    </tr>\n",
       "    <tr>\n",
       "      <th>URL</th>\n",
       "      <td>http://127.0.0.1:8181/restconf/operational/opendaylight-inventory:nodes/node/xrvr-1/yang-ext:mount/Cisco-IOS-XR-ifmgr-oper:interface-properties</td>\n",
       "    </tr>\n",
       "    <tr>\n",
       "      <th>Headers</th>\n",
       "      <td><table>\n",
       "    <tr>\n",
       "        <td>\n",
       "            Authorization\n",
       "        </td>\n",
       "        <td>\n",
       "            Basic YWRtaW46YWRtaW4=\n",
       "        </td>\n",
       "    </tr>\n",
       "    <tr>\n",
       "        <td>\n",
       "            Accept-Encoding\n",
       "        </td>\n",
       "        <td>\n",
       "            gzip, deflate, compress\n",
       "        </td>\n",
       "    </tr>\n",
       "    <tr>\n",
       "        <td>\n",
       "            Accept\n",
       "        </td>\n",
       "        <td>\n",
       "            application/xml\n",
       "        </td>\n",
       "    </tr>\n",
       "    <tr>\n",
       "        <td>\n",
       "            User-Agent\n",
       "        </td>\n",
       "        <td>\n",
       "            python-requests/2.2.1 CPython/2.7.6 Linux/3.13.0-44-generic\n",
       "        </td>\n",
       "    </tr>\n",
       "\n",
       "</table>\n",
       "</td>\n",
       "    </tr>\n",
       "    <tr>\n",
       "      <th>Content</th>\n",
       "      <td></td>\n",
       "    </tr>\n",
       "  </tbody>\n",
       "  <thead>\n",
       "      <tr>\n",
       "        <th style=\"text-align:center;background-color:white\" colspan=\"2\"/>\n",
       "      </tr>\n",
       "      <tr>\n",
       "        <th style=\"text-align:center\" colspan=\"2\">Response</th>\n",
       "      </tr>\n",
       "  </thead>\n",
       "  <tbody>\n",
       "    <tr>\n",
       "      <th>Status Code</th>\n",
       "      <td>200</td>\n",
       "    </tr>\n",
       "    <tr>\n",
       "      <th>Headers</th>\n",
       "      <td><table>\n",
       "    <tr>\n",
       "        <td>\n",
       "            transfer-encoding\n",
       "        </td>\n",
       "        <td>\n",
       "            chunked\n",
       "        </td>\n",
       "    </tr>\n",
       "    <tr>\n",
       "        <td>\n",
       "            content-type\n",
       "        </td>\n",
       "        <td>\n",
       "            application/xml\n",
       "        </td>\n",
       "    </tr>\n",
       "    <tr>\n",
       "        <td>\n",
       "            server\n",
       "        </td>\n",
       "        <td>\n",
       "            Jetty(8.1.14.v20131031)\n",
       "        </td>\n",
       "    </tr>\n",
       "\n",
       "</table>\n",
       "</td>\n",
       "    </tr>\n",
       "    <tr>\n",
       "      <th>Content</th>\n",
       "      <td><pre>&lt;?xml version='1.0' encoding='ASCII'?&gt;\n",
       "&lt;interface-properties xmlns=\"http://cisco.com/ns/yang/Cisco-IOS-XR-ifmgr-oper\"&gt;\n",
       "  &lt;data-nodes&gt;\n",
       "    &lt;data-node&gt;\n",
       "      &lt;data-node-name&gt;0/0/CPU0&lt;/data-node-name&gt;\n",
       "      &lt;system-view&gt;\n",
       "        &lt;interfaces&gt;\n",
       "          &lt;interface&gt;\n",
       "            &lt;interface-name&gt;MgmtEth0/0/CPU0/0&lt;/interface-name&gt;\n",
       "            &lt;encapsulation&gt;ether&lt;/encapsulation&gt;\n",
       "            &lt;bandwidth&gt;0&lt;/bandwidth&gt;\n",
       "            &lt;sub-interface-mtu-overhead&gt;0&lt;/sub-interface-mtu-overhead&gt;\n",
       "            &lt;l2-transport&gt;false&lt;/l2-transport&gt;\n",
       "            &lt;interface&gt;MgmtEth0/0/CPU0/0&lt;/interface&gt;\n",
       "            &lt;actual-line-state&gt;im-state-up&lt;/actual-line-state&gt;\n",
       "            &lt;type&gt;IFT_ETHERNET&lt;/type&gt;\n",
       "            &lt;actual-state&gt;im-state-up&lt;/actual-state&gt;\n",
       "            &lt;encapsulation-type-string&gt;ARPA&lt;/encapsulation-type-string&gt;\n",
       "            &lt;mtu&gt;1514&lt;/mtu&gt;\n",
       "            &lt;state&gt;im-state-up&lt;/state&gt;\n",
       "            &lt;line-state&gt;im-state-up&lt;/line-state&gt;\n",
       "          &lt;/interface&gt;\n",
       "          &lt;interface&gt;\n",
       "            &lt;interface-name&gt;Null0&lt;/interface-name&gt;\n",
       "            &lt;encapsulation&gt;null&lt;/encapsulation&gt;\n",
       "            &lt;bandwidth&gt;0&lt;/bandwidth&gt;\n",
       "            &lt;sub-interface-mtu-overhead&gt;0&lt;/sub-interface-mtu-overhead&gt;\n",
       "            &lt;l2-transport&gt;false&lt;/l2-transport&gt;\n",
       "            &lt;interface&gt;Null0&lt;/interface&gt;\n",
       "            &lt;actual-line-state&gt;im-state-up&lt;/actual-line-state&gt;\n",
       "            &lt;type&gt;IFT_NULL&lt;/type&gt;\n",
       "            &lt;actual-state&gt;im-state-up&lt;/actual-state&gt;\n",
       "            &lt;encapsulation-type-string&gt;Null&lt;/encapsulation-type-string&gt;\n",
       "            &lt;mtu&gt;1500&lt;/mtu&gt;\n",
       "            &lt;state&gt;im-state-up&lt;/state&gt;\n",
       "            &lt;line-state&gt;im-state-up&lt;/line-state&gt;\n",
       "          &lt;/interface&gt;\n",
       "          &lt;interface&gt;\n",
       "            &lt;interface-name&gt;FINT0/0/CPU0&lt;/interface-name&gt;\n",
       "            &lt;encapsulation&gt;fint_base&lt;/encapsulation&gt;\n",
       "            &lt;bandwidth&gt;0&lt;/bandwidth&gt;\n",
       "            &lt;sub-interface-mtu-overhead&gt;0&lt;/sub-interface-mtu-overhead&gt;\n",
       "            &lt;l2-transport&gt;false&lt;/l2-transport&gt;\n",
       "            &lt;interface&gt;FINT0/0/CPU0&lt;/interface&gt;\n",
       "            &lt;actual-line-state&gt;im-state-up&lt;/actual-line-state&gt;\n",
       "            &lt;type&gt;IFT_FINT_INTF&lt;/type&gt;\n",
       "            &lt;actual-state&gt;im-state-up&lt;/actual-state&gt;\n",
       "            &lt;encapsulation-type-string&gt;FINT_BASE_CAPS&lt;/encapsulation-type-string&gt;\n",
       "            &lt;mtu&gt;8000&lt;/mtu&gt;\n",
       "            &lt;state&gt;im-state-up&lt;/state&gt;\n",
       "            &lt;line-state&gt;im-state-up&lt;/line-state&gt;\n",
       "          &lt;/interface&gt;\n",
       "          &lt;interface&gt;\n",
       "            &lt;interface-name&gt;Loopback0&lt;/interface-name&gt;\n",
       "            &lt;encapsulation&gt;loopback&lt;/encapsulation&gt;\n",
       "            &lt;bandwidth&gt;0&lt;/bandwidth&gt;\n",
       "            &lt;sub-interface-mtu-overhead&gt;0&lt;/sub-interface-mtu-overhead&gt;\n",
       "            &lt;l2-transport&gt;false&lt;/l2-transport&gt;\n",
       "            &lt;interface&gt;Loopback0&lt;/interface&gt;\n",
       "            &lt;actual-line-state&gt;im-state-up&lt;/actual-line-state&gt;\n",
       "            &lt;type&gt;IFT_LOOPBACK&lt;/type&gt;\n",
       "            &lt;actual-state&gt;im-state-up&lt;/actual-state&gt;\n",
       "            &lt;encapsulation-type-string&gt;Loopback&lt;/encapsulation-type-string&gt;\n",
       "            &lt;mtu&gt;1500&lt;/mtu&gt;\n",
       "            &lt;state&gt;im-state-up&lt;/state&gt;\n",
       "            &lt;line-state&gt;im-state-up&lt;/line-state&gt;\n",
       "          &lt;/interface&gt;\n",
       "          &lt;interface&gt;\n",
       "            &lt;interface-name&gt;GigabitEthernet0/0/0/1&lt;/interface-name&gt;\n",
       "            &lt;encapsulation&gt;ether&lt;/encapsulation&gt;\n",
       "            &lt;bandwidth&gt;1000000&lt;/bandwidth&gt;\n",
       "            &lt;sub-interface-mtu-overhead&gt;0&lt;/sub-interface-mtu-overhead&gt;\n",
       "            &lt;l2-transport&gt;false&lt;/l2-transport&gt;\n",
       "            &lt;interface&gt;GigabitEthernet0/0/0/1&lt;/interface&gt;\n",
       "            &lt;actual-line-state&gt;im-state-up&lt;/actual-line-state&gt;\n",
       "            &lt;type&gt;IFT_GETHERNET&lt;/type&gt;\n",
       "            &lt;actual-state&gt;im-state-up&lt;/actual-state&gt;\n",
       "            &lt;encapsulation-type-string&gt;ARPA&lt;/encapsulation-type-string&gt;\n",
       "            &lt;mtu&gt;1514&lt;/mtu&gt;\n",
       "            &lt;state&gt;im-state-up&lt;/state&gt;\n",
       "            &lt;line-state&gt;im-state-up&lt;/line-state&gt;\n",
       "          &lt;/interface&gt;\n",
       "          &lt;interface&gt;\n",
       "            &lt;interface-name&gt;GigabitEthernet0/0/0/0&lt;/interface-name&gt;\n",
       "            &lt;encapsulation&gt;ether&lt;/encapsulation&gt;\n",
       "            &lt;bandwidth&gt;1000000&lt;/bandwidth&gt;\n",
       "            &lt;sub-interface-mtu-overhead&gt;0&lt;/sub-interface-mtu-overhead&gt;\n",
       "            &lt;l2-transport&gt;false&lt;/l2-transport&gt;\n",
       "            &lt;interface&gt;GigabitEthernet0/0/0/0&lt;/interface&gt;\n",
       "            &lt;actual-line-state&gt;im-state-up&lt;/actual-line-state&gt;\n",
       "            &lt;type&gt;IFT_GETHERNET&lt;/type&gt;\n",
       "            &lt;actual-state&gt;im-state-up&lt;/actual-state&gt;\n",
       "            &lt;encapsulation-type-string&gt;ARPA&lt;/encapsulation-type-string&gt;\n",
       "            &lt;mtu&gt;1514&lt;/mtu&gt;\n",
       "            &lt;state&gt;im-state-up&lt;/state&gt;\n",
       "            &lt;line-state&gt;im-state-up&lt;/line-state&gt;\n",
       "          &lt;/interface&gt;\n",
       "          &lt;interface&gt;\n",
       "            &lt;interface-name&gt;nV-Loopback0&lt;/interface-name&gt;\n",
       "            &lt;encapsulation&gt;nv_loopback&lt;/encapsulation&gt;\n",
       "            &lt;bandwidth&gt;0&lt;/bandwidth&gt;\n",
       "            &lt;sub-interface-mtu-overhead&gt;0&lt;/sub-interface-mtu-overhead&gt;\n",
       "            &lt;l2-transport&gt;false&lt;/l2-transport&gt;\n",
       "            &lt;interface&gt;nV-Loopback0&lt;/interface&gt;\n",
       "            &lt;actual-line-state&gt;im-state-up&lt;/actual-line-state&gt;\n",
       "            &lt;type&gt;IFT_NV_LOOPBACK&lt;/type&gt;\n",
       "            &lt;actual-state&gt;im-state-up&lt;/actual-state&gt;\n",
       "            &lt;encapsulation-type-string&gt;nV-Loopback&lt;/encapsulation-type-string&gt;\n",
       "            &lt;mtu&gt;1500&lt;/mtu&gt;\n",
       "            &lt;state&gt;im-state-up&lt;/state&gt;\n",
       "            &lt;line-state&gt;im-state-up&lt;/line-state&gt;\n",
       "          &lt;/interface&gt;\n",
       "        &lt;/interfaces&gt;\n",
       "      &lt;/system-view&gt;\n",
       "      &lt;locationviews&gt;\n",
       "        &lt;locationview&gt;\n",
       "          &lt;locationview-name&gt;0/0/CPU0&lt;/locationview-name&gt;\n",
       "          &lt;interfaces&gt;\n",
       "            &lt;interface&gt;\n",
       "              &lt;interface-name&gt;MgmtEth0/0/CPU0/0&lt;/interface-name&gt;\n",
       "              &lt;encapsulation&gt;ether&lt;/encapsulation&gt;\n",
       "              &lt;bandwidth&gt;0&lt;/bandwidth&gt;\n",
       "              &lt;sub-interface-mtu-overhead&gt;0&lt;/sub-interface-mtu-overhead&gt;\n",
       "              &lt;l2-transport&gt;false&lt;/l2-transport&gt;\n",
       "              &lt;interface&gt;MgmtEth0/0/CPU0/0&lt;/interface&gt;\n",
       "              &lt;actual-line-state&gt;im-state-up&lt;/actual-line-state&gt;\n",
       "              &lt;type&gt;IFT_ETHERNET&lt;/type&gt;\n",
       "              &lt;actual-state&gt;im-state-up&lt;/actual-state&gt;\n",
       "              &lt;encapsulation-type-string&gt;ARPA&lt;/encapsulation-type-string&gt;\n",
       "              &lt;mtu&gt;1514&lt;/mtu&gt;\n",
       "              &lt;state&gt;im-state-up&lt;/state&gt;\n",
       "              &lt;line-state&gt;im-state-up&lt;/line-state&gt;\n",
       "            &lt;/interface&gt;\n",
       "            &lt;interface&gt;\n",
       "              &lt;interface-name&gt;Null0&lt;/interface-name&gt;\n",
       "              &lt;encapsulation&gt;null&lt;/encapsulation&gt;\n",
       "              &lt;bandwidth&gt;0&lt;/bandwidth&gt;\n",
       "              &lt;sub-interface-mtu-overhead&gt;0&lt;/sub-interface-mtu-overhead&gt;\n",
       "              &lt;l2-transport&gt;false&lt;/l2-transport&gt;\n",
       "              &lt;interface&gt;Null0&lt;/interface&gt;\n",
       "              &lt;actual-line-state&gt;im-state-up&lt;/actual-line-state&gt;\n",
       "              &lt;type&gt;IFT_NULL&lt;/type&gt;\n",
       "              &lt;actual-state&gt;im-state-up&lt;/actual-state&gt;\n",
       "              &lt;encapsulation-type-string&gt;Null&lt;/encapsulation-type-string&gt;\n",
       "              &lt;mtu&gt;1500&lt;/mtu&gt;\n",
       "              &lt;state&gt;im-state-up&lt;/state&gt;\n",
       "              &lt;line-state&gt;im-state-up&lt;/line-state&gt;\n",
       "            &lt;/interface&gt;\n",
       "            &lt;interface&gt;\n",
       "              &lt;interface-name&gt;FINT0/0/CPU0&lt;/interface-name&gt;\n",
       "              &lt;encapsulation&gt;fint_base&lt;/encapsulation&gt;\n",
       "              &lt;bandwidth&gt;0&lt;/bandwidth&gt;\n",
       "              &lt;sub-interface-mtu-overhead&gt;0&lt;/sub-interface-mtu-overhead&gt;\n",
       "              &lt;l2-transport&gt;false&lt;/l2-transport&gt;\n",
       "              &lt;interface&gt;FINT0/0/CPU0&lt;/interface&gt;\n",
       "              &lt;actual-line-state&gt;im-state-up&lt;/actual-line-state&gt;\n",
       "              &lt;type&gt;IFT_FINT_INTF&lt;/type&gt;\n",
       "              &lt;actual-state&gt;im-state-up&lt;/actual-state&gt;\n",
       "              &lt;encapsulation-type-string&gt;FINT_BASE_CAPS&lt;/encapsulation-type-string&gt;\n",
       "              &lt;mtu&gt;8000&lt;/mtu&gt;\n",
       "              &lt;state&gt;im-state-up&lt;/state&gt;\n",
       "              &lt;line-state&gt;im-state-up&lt;/line-state&gt;\n",
       "            &lt;/interface&gt;\n",
       "            &lt;interface&gt;\n",
       "              &lt;interface-name&gt;Loopback0&lt;/interface-name&gt;\n",
       "              &lt;encapsulation&gt;loopback&lt;/encapsulation&gt;\n",
       "              &lt;bandwidth&gt;0&lt;/bandwidth&gt;\n",
       "              &lt;sub-interface-mtu-overhead&gt;0&lt;/sub-interface-mtu-overhead&gt;\n",
       "              &lt;l2-transport&gt;false&lt;/l2-transport&gt;\n",
       "              &lt;interface&gt;Loopback0&lt;/interface&gt;\n",
       "              &lt;actual-line-state&gt;im-state-up&lt;/actual-line-state&gt;\n",
       "              &lt;type&gt;IFT_LOOPBACK&lt;/type&gt;\n",
       "              &lt;actual-state&gt;im-state-up&lt;/actual-state&gt;\n",
       "              &lt;encapsulation-type-string&gt;Loopback&lt;/encapsulation-type-string&gt;\n",
       "              &lt;mtu&gt;1500&lt;/mtu&gt;\n",
       "              &lt;state&gt;im-state-up&lt;/state&gt;\n",
       "              &lt;line-state&gt;im-state-up&lt;/line-state&gt;\n",
       "            &lt;/interface&gt;\n",
       "            &lt;interface&gt;\n",
       "              &lt;interface-name&gt;GigabitEthernet0/0/0/1&lt;/interface-name&gt;\n",
       "              &lt;encapsulation&gt;ether&lt;/encapsulation&gt;\n",
       "              &lt;bandwidth&gt;1000000&lt;/bandwidth&gt;\n",
       "              &lt;sub-interface-mtu-overhead&gt;0&lt;/sub-interface-mtu-overhead&gt;\n",
       "              &lt;l2-transport&gt;false&lt;/l2-transport&gt;\n",
       "              &lt;interface&gt;GigabitEthernet0/0/0/1&lt;/interface&gt;\n",
       "              &lt;actual-line-state&gt;im-state-up&lt;/actual-line-state&gt;\n",
       "              &lt;type&gt;IFT_GETHERNET&lt;/type&gt;\n",
       "              &lt;actual-state&gt;im-state-up&lt;/actual-state&gt;\n",
       "              &lt;encapsulation-type-string&gt;ARPA&lt;/encapsulation-type-string&gt;\n",
       "              &lt;mtu&gt;1514&lt;/mtu&gt;\n",
       "              &lt;state&gt;im-state-up&lt;/state&gt;\n",
       "              &lt;line-state&gt;im-state-up&lt;/line-state&gt;\n",
       "            &lt;/interface&gt;\n",
       "            &lt;interface&gt;\n",
       "              &lt;interface-name&gt;GigabitEthernet0/0/0/0&lt;/interface-name&gt;\n",
       "              &lt;encapsulation&gt;ether&lt;/encapsulation&gt;\n",
       "              &lt;bandwidth&gt;1000000&lt;/bandwidth&gt;\n",
       "              &lt;sub-interface-mtu-overhead&gt;0&lt;/sub-interface-mtu-overhead&gt;\n",
       "              &lt;l2-transport&gt;false&lt;/l2-transport&gt;\n",
       "              &lt;interface&gt;GigabitEthernet0/0/0/0&lt;/interface&gt;\n",
       "              &lt;actual-line-state&gt;im-state-up&lt;/actual-line-state&gt;\n",
       "              &lt;type&gt;IFT_GETHERNET&lt;/type&gt;\n",
       "              &lt;actual-state&gt;im-state-up&lt;/actual-state&gt;\n",
       "              &lt;encapsulation-type-string&gt;ARPA&lt;/encapsulation-type-string&gt;\n",
       "              &lt;mtu&gt;1514&lt;/mtu&gt;\n",
       "              &lt;state&gt;im-state-up&lt;/state&gt;\n",
       "              &lt;line-state&gt;im-state-up&lt;/line-state&gt;\n",
       "            &lt;/interface&gt;\n",
       "            &lt;interface&gt;\n",
       "              &lt;interface-name&gt;nV-Loopback0&lt;/interface-name&gt;\n",
       "              &lt;encapsulation&gt;nv_loopback&lt;/encapsulation&gt;\n",
       "              &lt;bandwidth&gt;0&lt;/bandwidth&gt;\n",
       "              &lt;sub-interface-mtu-overhead&gt;0&lt;/sub-interface-mtu-overhead&gt;\n",
       "              &lt;l2-transport&gt;false&lt;/l2-transport&gt;\n",
       "              &lt;interface&gt;nV-Loopback0&lt;/interface&gt;\n",
       "              &lt;actual-line-state&gt;im-state-up&lt;/actual-line-state&gt;\n",
       "              &lt;type&gt;IFT_NV_LOOPBACK&lt;/type&gt;\n",
       "              &lt;actual-state&gt;im-state-up&lt;/actual-state&gt;\n",
       "              &lt;encapsulation-type-string&gt;nV-Loopback&lt;/encapsulation-type-string&gt;\n",
       "              &lt;mtu&gt;1500&lt;/mtu&gt;\n",
       "              &lt;state&gt;im-state-up&lt;/state&gt;\n",
       "              &lt;line-state&gt;im-state-up&lt;/line-state&gt;\n",
       "            &lt;/interface&gt;\n",
       "          &lt;/interfaces&gt;\n",
       "        &lt;/locationview&gt;\n",
       "      &lt;/locationviews&gt;\n",
       "    &lt;/data-node&gt;\n",
       "  &lt;/data-nodes&gt;\n",
       "&lt;/interface-properties&gt;\n",
       "</pre></td>\n",
       "    </tr>\n",
       "  </tbody>\n",
       "</table>\n"
      ],
      "text/plain": [
       "<IPython.core.display.HTML at 0x7f600118a1d0>"
      ]
     },
     "execution_count": 45,
     "metadata": {},
     "output_type": "execute_result"
    }
   ],
   "source": [
    "from basics.interface import interface_properties_xml_http\n",
    "\n",
    "HTML(http_to_html(interface_properties_xml_http(device_name)))"
   ]
  },
  {
   "cell_type": "markdown",
   "metadata": {},
   "source": [
    "### RPC interface_properties_xml: single"
   ]
  },
  {
   "cell_type": "markdown",
   "metadata": {},
   "source": [
    "The function:\n",
    "* `interface_properties_json(device_name, interface_name)`\n",
    "\n",
    "invokes function:\n",
    "* `interface_properties_json_http(device_name, interface_name)`\n",
    "\n",
    "which returns the HTTP request and response, as shown in the table below. The specific interface was [chosen randomly](#For-one-network-interface). \n",
    "  \n",
    "To help you navigate around the large tables in this document, here are links to the [previous section](#RPC-interface_properties_xml:-multiple), [next section](#RPC-interface_properties_json:-multiple) and the [TOC](#Table-of-Contents)."
   ]
  },
  {
   "cell_type": "code",
   "execution_count": 46,
   "metadata": {
    "collapsed": false
   },
   "outputs": [
    {
     "data": {
      "text/html": [
       "<table>\n",
       "  <style>table {border: 1px solid black;}</style>\n",
       "  <style>tr:nth-of-type(even) {background-color:#eee;}</style>\n",
       "  <style>tr:nth-of-type(odd) {background-color:#fff;}</style>\n",
       "  <style>th {background-color:lightgray;}</style>\n",
       "  <thead>\n",
       "    <tr>\n",
       "      <th style=\"text-align:center\" colspan=\"2\">Request</th>\n",
       "    </tr>\n",
       "  </thead>\n",
       "  <tbody>\n",
       "    <tr>\n",
       "      <th>Method</th>\n",
       "      <td>GET</td>\n",
       "    </tr>\n",
       "    <tr>\n",
       "      <th>URL</th>\n",
       "      <td>http://127.0.0.1:8181/restconf/operational/opendaylight-inventory:nodes/node/xrvr-1/yang-ext:mount/Cisco-IOS-XR-ifmgr-oper:interface-properties/data-nodes/data-node/0%2F0%2FCPU0/system-view/interfaces/interface/GigabitEthernet0%2F0%2F0%2F0</td>\n",
       "    </tr>\n",
       "    <tr>\n",
       "      <th>Headers</th>\n",
       "      <td><table>\n",
       "    <tr>\n",
       "        <td>\n",
       "            Authorization\n",
       "        </td>\n",
       "        <td>\n",
       "            Basic YWRtaW46YWRtaW4=\n",
       "        </td>\n",
       "    </tr>\n",
       "    <tr>\n",
       "        <td>\n",
       "            Accept-Encoding\n",
       "        </td>\n",
       "        <td>\n",
       "            gzip, deflate, compress\n",
       "        </td>\n",
       "    </tr>\n",
       "    <tr>\n",
       "        <td>\n",
       "            Accept\n",
       "        </td>\n",
       "        <td>\n",
       "            application/xml\n",
       "        </td>\n",
       "    </tr>\n",
       "    <tr>\n",
       "        <td>\n",
       "            User-Agent\n",
       "        </td>\n",
       "        <td>\n",
       "            python-requests/2.2.1 CPython/2.7.6 Linux/3.13.0-44-generic\n",
       "        </td>\n",
       "    </tr>\n",
       "\n",
       "</table>\n",
       "</td>\n",
       "    </tr>\n",
       "    <tr>\n",
       "      <th>Content</th>\n",
       "      <td></td>\n",
       "    </tr>\n",
       "  </tbody>\n",
       "  <thead>\n",
       "      <tr>\n",
       "        <th style=\"text-align:center;background-color:white\" colspan=\"2\"/>\n",
       "      </tr>\n",
       "      <tr>\n",
       "        <th style=\"text-align:center\" colspan=\"2\">Response</th>\n",
       "      </tr>\n",
       "  </thead>\n",
       "  <tbody>\n",
       "    <tr>\n",
       "      <th>Status Code</th>\n",
       "      <td>200</td>\n",
       "    </tr>\n",
       "    <tr>\n",
       "      <th>Headers</th>\n",
       "      <td><table>\n",
       "    <tr>\n",
       "        <td>\n",
       "            transfer-encoding\n",
       "        </td>\n",
       "        <td>\n",
       "            chunked\n",
       "        </td>\n",
       "    </tr>\n",
       "    <tr>\n",
       "        <td>\n",
       "            content-type\n",
       "        </td>\n",
       "        <td>\n",
       "            application/xml\n",
       "        </td>\n",
       "    </tr>\n",
       "    <tr>\n",
       "        <td>\n",
       "            server\n",
       "        </td>\n",
       "        <td>\n",
       "            Jetty(8.1.14.v20131031)\n",
       "        </td>\n",
       "    </tr>\n",
       "\n",
       "</table>\n",
       "</td>\n",
       "    </tr>\n",
       "    <tr>\n",
       "      <th>Content</th>\n",
       "      <td><pre>&lt;?xml version='1.0' encoding='ASCII'?&gt;\n",
       "&lt;interface xmlns=\"http://cisco.com/ns/yang/Cisco-IOS-XR-ifmgr-oper\"&gt;\n",
       "  &lt;interface-name&gt;GigabitEthernet0/0/0/0&lt;/interface-name&gt;\n",
       "  &lt;encapsulation&gt;ether&lt;/encapsulation&gt;\n",
       "  &lt;bandwidth&gt;1000000&lt;/bandwidth&gt;\n",
       "  &lt;sub-interface-mtu-overhead&gt;0&lt;/sub-interface-mtu-overhead&gt;\n",
       "  &lt;l2-transport&gt;false&lt;/l2-transport&gt;\n",
       "  &lt;interface&gt;GigabitEthernet0/0/0/0&lt;/interface&gt;\n",
       "  &lt;actual-line-state&gt;im-state-up&lt;/actual-line-state&gt;\n",
       "  &lt;type&gt;IFT_GETHERNET&lt;/type&gt;\n",
       "  &lt;actual-state&gt;im-state-up&lt;/actual-state&gt;\n",
       "  &lt;encapsulation-type-string&gt;ARPA&lt;/encapsulation-type-string&gt;\n",
       "  &lt;mtu&gt;1514&lt;/mtu&gt;\n",
       "  &lt;state&gt;im-state-up&lt;/state&gt;\n",
       "  &lt;line-state&gt;im-state-up&lt;/line-state&gt;\n",
       "&lt;/interface&gt;\n",
       "</pre></td>\n",
       "    </tr>\n",
       "  </tbody>\n",
       "</table>\n"
      ],
      "text/plain": [
       "<IPython.core.display.HTML at 0x7f600118a390>"
      ]
     },
     "execution_count": 46,
     "metadata": {},
     "output_type": "execute_result"
    }
   ],
   "source": [
    "HTML(http_to_html(interface_properties_xml_http(device_name, interface_name)))"
   ]
  },
  {
   "cell_type": "markdown",
   "metadata": {},
   "source": [
    "### RPC interface_properties_json: multiple"
   ]
  },
  {
   "cell_type": "markdown",
   "metadata": {},
   "source": [
    "The function:\n",
    "* `interface_properties_json(device_name)`\n",
    "\n",
    "invokes function:\n",
    "* `interface_properties_json_http(device_name)`\n",
    "\n",
    "which returns the HTTP request and response, as shown in the table below.\n",
    "  \n",
    "To help you navigate around the large tables in this document, here are links to the [previous section](#RPC-interface_properties_xml:-single), [next section](#RPC-interface_properties_json:-single) and the [TOC](#Table-of-Contents)."
   ]
  },
  {
   "cell_type": "code",
   "execution_count": 47,
   "metadata": {
    "collapsed": false
   },
   "outputs": [
    {
     "data": {
      "text/html": [
       "<table>\n",
       "  <style>table {border: 1px solid black;}</style>\n",
       "  <style>tr:nth-of-type(even) {background-color:#eee;}</style>\n",
       "  <style>tr:nth-of-type(odd) {background-color:#fff;}</style>\n",
       "  <style>th {background-color:lightgray;}</style>\n",
       "  <thead>\n",
       "    <tr>\n",
       "      <th style=\"text-align:center\" colspan=\"2\">Request</th>\n",
       "    </tr>\n",
       "  </thead>\n",
       "  <tbody>\n",
       "    <tr>\n",
       "      <th>Method</th>\n",
       "      <td>GET</td>\n",
       "    </tr>\n",
       "    <tr>\n",
       "      <th>URL</th>\n",
       "      <td>http://127.0.0.1:8181/restconf/operational/opendaylight-inventory:nodes/node/xrvr-1/yang-ext:mount/Cisco-IOS-XR-ifmgr-oper:interface-properties</td>\n",
       "    </tr>\n",
       "    <tr>\n",
       "      <th>Headers</th>\n",
       "      <td><table>\n",
       "    <tr>\n",
       "        <td>\n",
       "            Authorization\n",
       "        </td>\n",
       "        <td>\n",
       "            Basic YWRtaW46YWRtaW4=\n",
       "        </td>\n",
       "    </tr>\n",
       "    <tr>\n",
       "        <td>\n",
       "            Accept-Encoding\n",
       "        </td>\n",
       "        <td>\n",
       "            gzip, deflate, compress\n",
       "        </td>\n",
       "    </tr>\n",
       "    <tr>\n",
       "        <td>\n",
       "            Accept\n",
       "        </td>\n",
       "        <td>\n",
       "            application/json\n",
       "        </td>\n",
       "    </tr>\n",
       "    <tr>\n",
       "        <td>\n",
       "            User-Agent\n",
       "        </td>\n",
       "        <td>\n",
       "            python-requests/2.2.1 CPython/2.7.6 Linux/3.13.0-44-generic\n",
       "        </td>\n",
       "    </tr>\n",
       "\n",
       "</table>\n",
       "</td>\n",
       "    </tr>\n",
       "    <tr>\n",
       "      <th>Content</th>\n",
       "      <td></td>\n",
       "    </tr>\n",
       "  </tbody>\n",
       "  <thead>\n",
       "      <tr>\n",
       "        <th style=\"text-align:center;background-color:white\" colspan=\"2\"/>\n",
       "      </tr>\n",
       "      <tr>\n",
       "        <th style=\"text-align:center\" colspan=\"2\">Response</th>\n",
       "      </tr>\n",
       "  </thead>\n",
       "  <tbody>\n",
       "    <tr>\n",
       "      <th>Status Code</th>\n",
       "      <td>200</td>\n",
       "    </tr>\n",
       "    <tr>\n",
       "      <th>Headers</th>\n",
       "      <td><table>\n",
       "    <tr>\n",
       "        <td>\n",
       "            transfer-encoding\n",
       "        </td>\n",
       "        <td>\n",
       "            chunked\n",
       "        </td>\n",
       "    </tr>\n",
       "    <tr>\n",
       "        <td>\n",
       "            content-type\n",
       "        </td>\n",
       "        <td>\n",
       "            application/json\n",
       "        </td>\n",
       "    </tr>\n",
       "    <tr>\n",
       "        <td>\n",
       "            server\n",
       "        </td>\n",
       "        <td>\n",
       "            Jetty(8.1.14.v20131031)\n",
       "        </td>\n",
       "    </tr>\n",
       "\n",
       "</table>\n",
       "</td>\n",
       "    </tr>\n",
       "    <tr>\n",
       "      <th>Content</th>\n",
       "      <td><pre>{\n",
       "  \"interface-properties\": {\n",
       "    \"data-nodes\": {\n",
       "      \"data-node\": [\n",
       "        {\n",
       "          \"data-node-name\": \"0/0/CPU0\",\n",
       "          \"system-view\": {\n",
       "            \"interfaces\": {\n",
       "              \"interface\": [\n",
       "                {\n",
       "                  \"encapsulation-type-string\": \"ARPA\",\n",
       "                  \"sub-interface-mtu-overhead\": 0,\n",
       "                  \"interface-name\": \"MgmtEth0/0/CPU0/0\",\n",
       "                  \"state\": \"im-state-up\",\n",
       "                  \"actual-state\": \"im-state-up\",\n",
       "                  \"actual-line-state\": \"im-state-up\",\n",
       "                  \"l2-transport\": false,\n",
       "                  \"mtu\": 1514,\n",
       "                  \"line-state\": \"im-state-up\",\n",
       "                  \"bandwidth\": 0,\n",
       "                  \"interface\": \"MgmtEth0/0/CPU0/0\",\n",
       "                  \"encapsulation\": \"ether\",\n",
       "                  \"type\": \"IFT_ETHERNET\"\n",
       "                },\n",
       "                {\n",
       "                  \"encapsulation-type-string\": \"Null\",\n",
       "                  \"sub-interface-mtu-overhead\": 0,\n",
       "                  \"interface-name\": \"Null0\",\n",
       "                  \"state\": \"im-state-up\",\n",
       "                  \"actual-state\": \"im-state-up\",\n",
       "                  \"actual-line-state\": \"im-state-up\",\n",
       "                  \"l2-transport\": false,\n",
       "                  \"mtu\": 1500,\n",
       "                  \"line-state\": \"im-state-up\",\n",
       "                  \"bandwidth\": 0,\n",
       "                  \"interface\": \"Null0\",\n",
       "                  \"encapsulation\": \"null\",\n",
       "                  \"type\": \"IFT_NULL\"\n",
       "                },\n",
       "                {\n",
       "                  \"encapsulation-type-string\": \"FINT_BASE_CAPS\",\n",
       "                  \"sub-interface-mtu-overhead\": 0,\n",
       "                  \"interface-name\": \"FINT0/0/CPU0\",\n",
       "                  \"state\": \"im-state-up\",\n",
       "                  \"actual-state\": \"im-state-up\",\n",
       "                  \"actual-line-state\": \"im-state-up\",\n",
       "                  \"l2-transport\": false,\n",
       "                  \"mtu\": 8000,\n",
       "                  \"line-state\": \"im-state-up\",\n",
       "                  \"bandwidth\": 0,\n",
       "                  \"interface\": \"FINT0/0/CPU0\",\n",
       "                  \"encapsulation\": \"fint_base\",\n",
       "                  \"type\": \"IFT_FINT_INTF\"\n",
       "                },\n",
       "                {\n",
       "                  \"encapsulation-type-string\": \"Loopback\",\n",
       "                  \"sub-interface-mtu-overhead\": 0,\n",
       "                  \"interface-name\": \"Loopback0\",\n",
       "                  \"state\": \"im-state-up\",\n",
       "                  \"actual-state\": \"im-state-up\",\n",
       "                  \"actual-line-state\": \"im-state-up\",\n",
       "                  \"l2-transport\": false,\n",
       "                  \"mtu\": 1500,\n",
       "                  \"line-state\": \"im-state-up\",\n",
       "                  \"bandwidth\": 0,\n",
       "                  \"interface\": \"Loopback0\",\n",
       "                  \"encapsulation\": \"loopback\",\n",
       "                  \"type\": \"IFT_LOOPBACK\"\n",
       "                },\n",
       "                {\n",
       "                  \"encapsulation-type-string\": \"ARPA\",\n",
       "                  \"sub-interface-mtu-overhead\": 0,\n",
       "                  \"interface-name\": \"GigabitEthernet0/0/0/1\",\n",
       "                  \"state\": \"im-state-up\",\n",
       "                  \"actual-state\": \"im-state-up\",\n",
       "                  \"actual-line-state\": \"im-state-up\",\n",
       "                  \"l2-transport\": false,\n",
       "                  \"mtu\": 1514,\n",
       "                  \"line-state\": \"im-state-up\",\n",
       "                  \"bandwidth\": 1000000,\n",
       "                  \"interface\": \"GigabitEthernet0/0/0/1\",\n",
       "                  \"encapsulation\": \"ether\",\n",
       "                  \"type\": \"IFT_GETHERNET\"\n",
       "                },\n",
       "                {\n",
       "                  \"encapsulation-type-string\": \"ARPA\",\n",
       "                  \"sub-interface-mtu-overhead\": 0,\n",
       "                  \"interface-name\": \"GigabitEthernet0/0/0/0\",\n",
       "                  \"state\": \"im-state-up\",\n",
       "                  \"actual-state\": \"im-state-up\",\n",
       "                  \"actual-line-state\": \"im-state-up\",\n",
       "                  \"l2-transport\": false,\n",
       "                  \"mtu\": 1514,\n",
       "                  \"line-state\": \"im-state-up\",\n",
       "                  \"bandwidth\": 1000000,\n",
       "                  \"interface\": \"GigabitEthernet0/0/0/0\",\n",
       "                  \"encapsulation\": \"ether\",\n",
       "                  \"type\": \"IFT_GETHERNET\"\n",
       "                },\n",
       "                {\n",
       "                  \"encapsulation-type-string\": \"nV-Loopback\",\n",
       "                  \"sub-interface-mtu-overhead\": 0,\n",
       "                  \"interface-name\": \"nV-Loopback0\",\n",
       "                  \"state\": \"im-state-up\",\n",
       "                  \"actual-state\": \"im-state-up\",\n",
       "                  \"actual-line-state\": \"im-state-up\",\n",
       "                  \"l2-transport\": false,\n",
       "                  \"mtu\": 1500,\n",
       "                  \"line-state\": \"im-state-up\",\n",
       "                  \"bandwidth\": 0,\n",
       "                  \"interface\": \"nV-Loopback0\",\n",
       "                  \"encapsulation\": \"nv_loopback\",\n",
       "                  \"type\": \"IFT_NV_LOOPBACK\"\n",
       "                }\n",
       "              ]\n",
       "            }\n",
       "          },\n",
       "          \"locationviews\": {\n",
       "            \"locationview\": [\n",
       "              {\n",
       "                \"interfaces\": {\n",
       "                  \"interface\": [\n",
       "                    {\n",
       "                      \"encapsulation-type-string\": \"ARPA\",\n",
       "                      \"sub-interface-mtu-overhead\": 0,\n",
       "                      \"interface-name\": \"MgmtEth0/0/CPU0/0\",\n",
       "                      \"state\": \"im-state-up\",\n",
       "                      \"actual-state\": \"im-state-up\",\n",
       "                      \"actual-line-state\": \"im-state-up\",\n",
       "                      \"l2-transport\": false,\n",
       "                      \"mtu\": 1514,\n",
       "                      \"line-state\": \"im-state-up\",\n",
       "                      \"bandwidth\": 0,\n",
       "                      \"interface\": \"MgmtEth0/0/CPU0/0\",\n",
       "                      \"encapsulation\": \"ether\",\n",
       "                      \"type\": \"IFT_ETHERNET\"\n",
       "                    },\n",
       "                    {\n",
       "                      \"encapsulation-type-string\": \"Null\",\n",
       "                      \"sub-interface-mtu-overhead\": 0,\n",
       "                      \"interface-name\": \"Null0\",\n",
       "                      \"state\": \"im-state-up\",\n",
       "                      \"actual-state\": \"im-state-up\",\n",
       "                      \"actual-line-state\": \"im-state-up\",\n",
       "                      \"l2-transport\": false,\n",
       "                      \"mtu\": 1500,\n",
       "                      \"line-state\": \"im-state-up\",\n",
       "                      \"bandwidth\": 0,\n",
       "                      \"interface\": \"Null0\",\n",
       "                      \"encapsulation\": \"null\",\n",
       "                      \"type\": \"IFT_NULL\"\n",
       "                    },\n",
       "                    {\n",
       "                      \"encapsulation-type-string\": \"FINT_BASE_CAPS\",\n",
       "                      \"sub-interface-mtu-overhead\": 0,\n",
       "                      \"interface-name\": \"FINT0/0/CPU0\",\n",
       "                      \"state\": \"im-state-up\",\n",
       "                      \"actual-state\": \"im-state-up\",\n",
       "                      \"actual-line-state\": \"im-state-up\",\n",
       "                      \"l2-transport\": false,\n",
       "                      \"mtu\": 8000,\n",
       "                      \"line-state\": \"im-state-up\",\n",
       "                      \"bandwidth\": 0,\n",
       "                      \"interface\": \"FINT0/0/CPU0\",\n",
       "                      \"encapsulation\": \"fint_base\",\n",
       "                      \"type\": \"IFT_FINT_INTF\"\n",
       "                    },\n",
       "                    {\n",
       "                      \"encapsulation-type-string\": \"Loopback\",\n",
       "                      \"sub-interface-mtu-overhead\": 0,\n",
       "                      \"interface-name\": \"Loopback0\",\n",
       "                      \"state\": \"im-state-up\",\n",
       "                      \"actual-state\": \"im-state-up\",\n",
       "                      \"actual-line-state\": \"im-state-up\",\n",
       "                      \"l2-transport\": false,\n",
       "                      \"mtu\": 1500,\n",
       "                      \"line-state\": \"im-state-up\",\n",
       "                      \"bandwidth\": 0,\n",
       "                      \"interface\": \"Loopback0\",\n",
       "                      \"encapsulation\": \"loopback\",\n",
       "                      \"type\": \"IFT_LOOPBACK\"\n",
       "                    },\n",
       "                    {\n",
       "                      \"encapsulation-type-string\": \"ARPA\",\n",
       "                      \"sub-interface-mtu-overhead\": 0,\n",
       "                      \"interface-name\": \"GigabitEthernet0/0/0/1\",\n",
       "                      \"state\": \"im-state-up\",\n",
       "                      \"actual-state\": \"im-state-up\",\n",
       "                      \"actual-line-state\": \"im-state-up\",\n",
       "                      \"l2-transport\": false,\n",
       "                      \"mtu\": 1514,\n",
       "                      \"line-state\": \"im-state-up\",\n",
       "                      \"bandwidth\": 1000000,\n",
       "                      \"interface\": \"GigabitEthernet0/0/0/1\",\n",
       "                      \"encapsulation\": \"ether\",\n",
       "                      \"type\": \"IFT_GETHERNET\"\n",
       "                    },\n",
       "                    {\n",
       "                      \"encapsulation-type-string\": \"ARPA\",\n",
       "                      \"sub-interface-mtu-overhead\": 0,\n",
       "                      \"interface-name\": \"GigabitEthernet0/0/0/0\",\n",
       "                      \"state\": \"im-state-up\",\n",
       "                      \"actual-state\": \"im-state-up\",\n",
       "                      \"actual-line-state\": \"im-state-up\",\n",
       "                      \"l2-transport\": false,\n",
       "                      \"mtu\": 1514,\n",
       "                      \"line-state\": \"im-state-up\",\n",
       "                      \"bandwidth\": 1000000,\n",
       "                      \"interface\": \"GigabitEthernet0/0/0/0\",\n",
       "                      \"encapsulation\": \"ether\",\n",
       "                      \"type\": \"IFT_GETHERNET\"\n",
       "                    },\n",
       "                    {\n",
       "                      \"encapsulation-type-string\": \"nV-Loopback\",\n",
       "                      \"sub-interface-mtu-overhead\": 0,\n",
       "                      \"interface-name\": \"nV-Loopback0\",\n",
       "                      \"state\": \"im-state-up\",\n",
       "                      \"actual-state\": \"im-state-up\",\n",
       "                      \"actual-line-state\": \"im-state-up\",\n",
       "                      \"l2-transport\": false,\n",
       "                      \"mtu\": 1500,\n",
       "                      \"line-state\": \"im-state-up\",\n",
       "                      \"bandwidth\": 0,\n",
       "                      \"interface\": \"nV-Loopback0\",\n",
       "                      \"encapsulation\": \"nv_loopback\",\n",
       "                      \"type\": \"IFT_NV_LOOPBACK\"\n",
       "                    }\n",
       "                  ]\n",
       "                },\n",
       "                \"locationview-name\": \"0/0/CPU0\"\n",
       "              }\n",
       "            ]\n",
       "          }\n",
       "        }\n",
       "      ]\n",
       "    }\n",
       "  }\n",
       "}</pre></td>\n",
       "    </tr>\n",
       "  </tbody>\n",
       "</table>\n"
      ],
      "text/plain": [
       "<IPython.core.display.HTML at 0x7f5feadf2b90>"
      ]
     },
     "execution_count": 47,
     "metadata": {},
     "output_type": "execute_result"
    }
   ],
   "source": [
    "from basics.interface import interface_properties_json_http\n",
    "\n",
    "HTML(http_to_html(interface_properties_json_http(device_name)))"
   ]
  },
  {
   "cell_type": "markdown",
   "metadata": {},
   "source": [
    "### RPC interface_properties_json: single"
   ]
  },
  {
   "cell_type": "markdown",
   "metadata": {},
   "source": [
    "The function:\n",
    "* `interface_properties_json(device_name, interface_name)`\n",
    "\n",
    "invokes function:\n",
    "* `interface_properties_json_http(device_name, interface_name)`\n",
    "\n",
    "which returns the HTTP request and response, as shown in the table below. The specific interface was [chosen randomly](#For-one-network-interface). \n",
    "  \n",
    "To help you navigate around the large tables in this document, here are links to the [previous section](#RPC-interface_properties_json:-multiple) and the [TOC](#Table-of-Contents)."
   ]
  },
  {
   "cell_type": "code",
   "execution_count": 48,
   "metadata": {
    "collapsed": false
   },
   "outputs": [
    {
     "data": {
      "text/html": [
       "<table>\n",
       "  <style>table {border: 1px solid black;}</style>\n",
       "  <style>tr:nth-of-type(even) {background-color:#eee;}</style>\n",
       "  <style>tr:nth-of-type(odd) {background-color:#fff;}</style>\n",
       "  <style>th {background-color:lightgray;}</style>\n",
       "  <thead>\n",
       "    <tr>\n",
       "      <th style=\"text-align:center\" colspan=\"2\">Request</th>\n",
       "    </tr>\n",
       "  </thead>\n",
       "  <tbody>\n",
       "    <tr>\n",
       "      <th>Method</th>\n",
       "      <td>GET</td>\n",
       "    </tr>\n",
       "    <tr>\n",
       "      <th>URL</th>\n",
       "      <td>http://127.0.0.1:8181/restconf/operational/opendaylight-inventory:nodes/node/xrvr-1/yang-ext:mount/Cisco-IOS-XR-ifmgr-oper:interface-properties/data-nodes/data-node/0%2F0%2FCPU0/system-view/interfaces/interface/GigabitEthernet0%2F0%2F0%2F0</td>\n",
       "    </tr>\n",
       "    <tr>\n",
       "      <th>Headers</th>\n",
       "      <td><table>\n",
       "    <tr>\n",
       "        <td>\n",
       "            Authorization\n",
       "        </td>\n",
       "        <td>\n",
       "            Basic YWRtaW46YWRtaW4=\n",
       "        </td>\n",
       "    </tr>\n",
       "    <tr>\n",
       "        <td>\n",
       "            Accept-Encoding\n",
       "        </td>\n",
       "        <td>\n",
       "            gzip, deflate, compress\n",
       "        </td>\n",
       "    </tr>\n",
       "    <tr>\n",
       "        <td>\n",
       "            Accept\n",
       "        </td>\n",
       "        <td>\n",
       "            application/json\n",
       "        </td>\n",
       "    </tr>\n",
       "    <tr>\n",
       "        <td>\n",
       "            User-Agent\n",
       "        </td>\n",
       "        <td>\n",
       "            python-requests/2.2.1 CPython/2.7.6 Linux/3.13.0-44-generic\n",
       "        </td>\n",
       "    </tr>\n",
       "\n",
       "</table>\n",
       "</td>\n",
       "    </tr>\n",
       "    <tr>\n",
       "      <th>Content</th>\n",
       "      <td></td>\n",
       "    </tr>\n",
       "  </tbody>\n",
       "  <thead>\n",
       "      <tr>\n",
       "        <th style=\"text-align:center;background-color:white\" colspan=\"2\"/>\n",
       "      </tr>\n",
       "      <tr>\n",
       "        <th style=\"text-align:center\" colspan=\"2\">Response</th>\n",
       "      </tr>\n",
       "  </thead>\n",
       "  <tbody>\n",
       "    <tr>\n",
       "      <th>Status Code</th>\n",
       "      <td>200</td>\n",
       "    </tr>\n",
       "    <tr>\n",
       "      <th>Headers</th>\n",
       "      <td><table>\n",
       "    <tr>\n",
       "        <td>\n",
       "            transfer-encoding\n",
       "        </td>\n",
       "        <td>\n",
       "            chunked\n",
       "        </td>\n",
       "    </tr>\n",
       "    <tr>\n",
       "        <td>\n",
       "            content-type\n",
       "        </td>\n",
       "        <td>\n",
       "            application/json\n",
       "        </td>\n",
       "    </tr>\n",
       "    <tr>\n",
       "        <td>\n",
       "            server\n",
       "        </td>\n",
       "        <td>\n",
       "            Jetty(8.1.14.v20131031)\n",
       "        </td>\n",
       "    </tr>\n",
       "\n",
       "</table>\n",
       "</td>\n",
       "    </tr>\n",
       "    <tr>\n",
       "      <th>Content</th>\n",
       "      <td><pre>{\n",
       "  \"interface\": [\n",
       "    {\n",
       "      \"encapsulation-type-string\": \"ARPA\",\n",
       "      \"sub-interface-mtu-overhead\": 0,\n",
       "      \"interface-name\": \"GigabitEthernet0/0/0/0\",\n",
       "      \"state\": \"im-state-up\",\n",
       "      \"actual-state\": \"im-state-up\",\n",
       "      \"actual-line-state\": \"im-state-up\",\n",
       "      \"l2-transport\": false,\n",
       "      \"mtu\": 1514,\n",
       "      \"line-state\": \"im-state-up\",\n",
       "      \"bandwidth\": 1000000,\n",
       "      \"interface\": \"GigabitEthernet0/0/0/0\",\n",
       "      \"encapsulation\": \"ether\",\n",
       "      \"type\": \"IFT_GETHERNET\"\n",
       "    }\n",
       "  ]\n",
       "}</pre></td>\n",
       "    </tr>\n",
       "  </tbody>\n",
       "</table>\n"
      ],
      "text/plain": [
       "<IPython.core.display.HTML at 0x7f5feae89190>"
      ]
     },
     "execution_count": 48,
     "metadata": {},
     "output_type": "execute_result"
    }
   ],
   "source": [
    "HTML(http_to_html(interface_properties_json_http(device_name, interface_name)))"
   ]
  }
 ],
 "metadata": {
  "kernelspec": {
   "display_name": "Python 3",
   "language": "python",
   "name": "python3"
  },
  "language_info": {
   "codemirror_mode": {
    "name": "ipython",
    "version": 3
   },
   "file_extension": ".py",
   "mimetype": "text/x-python",
   "name": "python",
   "nbconvert_exporter": "python",
   "pygments_lexer": "ipython3",
   "version": "3.4.0"
  }
 },
 "nbformat": 4,
 "nbformat_minor": 0
}
