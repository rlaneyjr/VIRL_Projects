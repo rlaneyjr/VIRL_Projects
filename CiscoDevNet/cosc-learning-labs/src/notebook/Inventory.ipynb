{
 "metadata": {
  "name": "",
  "signature": "sha256:6b9c7f0ab77d39eef4b0e09d1c2201ea2eda28d7e32525e7d6818e57ec994ec3"
 },
 "nbformat": 3,
 "nbformat_minor": 0,
 "worksheets": [
  {
   "cells": [
    {
     "cell_type": "heading",
     "level": 1,
     "metadata": {},
     "source": [
      "COSC Learning Lab: Inventory"
     ]
    },
    {
     "cell_type": "markdown",
     "metadata": {},
     "source": [
      "<table><tbody><style>tr:nth-of-type(even) {background-color:#eee;}</style></tbody></table>"
     ]
    },
    {
     "cell_type": "markdown",
     "metadata": {},
     "source": [
      "|Keyword|Definition|\n",
      "|--|--|\n",
      "|Inventory|List of network devices that the Controller has access to.|\n",
      "|Network Device|Routers, switches, etc.|\n",
      "|Controller|Service that intermediates between client applications and network devices. E.g. ODL, COSC|\n",
      "|ODL|Open Day Light|\n",
      "|COSC|Cisco Open Source Controller, enhanced ODL|\n",
      "|Mount|Introduce a Network Device to a Controller.|\n",
      "|Capability|A feature of a network device that is dynamically discovered.|"
     ]
    },
    {
     "cell_type": "heading",
     "level": 2,
     "metadata": {},
     "source": [
      "Introduction"
     ]
    },
    {
     "cell_type": "markdown",
     "metadata": {},
     "source": [
      "This page explores the connection from a Controller to multiple network devices. The topics are:\n",
      "* Mount network devices on the Controller.\n",
      "* Obtain the inventory from the Controller.\n",
      "* Dis-mount network devices from the Controller.\n",
      "* Verify that mounted network devices are present in the inventory.\n",
      "* Obtain the connection status of inventory items.\n",
      "* Count the capabilities of inventory items.\n",
      "* Obtain data for *individual* network devices\n",
      "* Process Controller response of type JSON and XML.\n",
      "* HTTP Reference table for every HTTP request and response."
     ]
    },
    {
     "cell_type": "heading",
     "level": 2,
     "metadata": {},
     "source": [
      "Table of Contents"
     ]
    },
    {
     "cell_type": "markdown",
     "metadata": {},
     "source": [
      "* Keywords\n",
      "* [Introduction](#Introduction)\n",
      "* [Table of Contents](#Table-of-Contents)\n",
      "* [Prologue](#Prologue)\n",
      "* [Sample Scripts](#Sample-Scripts)\n",
      "    * [01_inventory_mount.py](#01_inventory_mount.py)\n",
      "    * [01_inventory.py](#01_inventory.py)\n",
      "    * [01_device_dismount.py](#01_device_dismount.py)\n",
      "    * [01_inventory_unmounted.py](#01_inventory_unmounted.py)\n",
      "    * [01_inventory_mounted.py](#01_inventory_mounted.py)\n",
      "    * [01_inventory_mount.py](#01_inventory_mount.py)\n",
      "    * [01_inventory_summary.py](#01_inventory_summary.py)\n",
      "    * [01_inventory_summary_html.py](#01_inventory_summary_html.py)\n",
      "    * [01_inventory_json.py](#01_inventory_json.py)\n",
      "    * [01_inventory_connected.py](#01_inventory_connected.py)\n",
      "    * [01_inventory_unreachable.py](#01_inventory_unreachable.py)\n",
      "    * [01_inventory_not_connected.py](#01_inventory_not_connected.py)\n",
      "    * [01_inventory_integrity.py](#01_inventory_integrity.py)\n",
      "    * [01_device_mounted.py](#01_device_mounted.py)\n",
      "    * [01_device_connected.py](#01_device_connected.py)\n",
      "* [Conclusion](#Conclusion)"
     ]
    },
    {
     "cell_type": "heading",
     "level": 2,
     "metadata": {},
     "source": [
      "Prologue"
     ]
    },
    {
     "cell_type": "markdown",
     "metadata": {},
     "source": [
      "If the Learning Lab team have provided you with either:\n",
      "* a Python Interactive Shell, or\n",
      "* an IPython Notebook\n",
      "  \n",
      "then please proceed. Otherwise, please follow the instructions on web page: [How to set up your computer](HowToSetUpYourComputer.ipynb)\n",
      "\n",
      "Import the Python module named `learning_lab`. "
     ]
    },
    {
     "cell_type": "code",
     "collapsed": false,
     "input": [
      "import learning_lab\n",
      "from inspect import getsource\n",
      "from importlib import import_module"
     ],
     "language": "python",
     "metadata": {},
     "outputs": [],
     "prompt_number": 1
    },
    {
     "cell_type": "heading",
     "level": 2,
     "metadata": {},
     "source": [
      "Sample Scripts"
     ]
    },
    {
     "cell_type": "heading",
     "level": 3,
     "metadata": {},
     "source": [
      "01_inventory_mount.py"
     ]
    },
    {
     "cell_type": "heading",
     "level": 4,
     "metadata": {},
     "source": [
      "Import"
     ]
    },
    {
     "cell_type": "code",
     "collapsed": false,
     "input": [
      "script = import_module('01_inventory_mount', 'learning_lab')"
     ],
     "language": "python",
     "metadata": {},
     "outputs": [],
     "prompt_number": 2
    },
    {
     "cell_type": "heading",
     "level": 4,
     "metadata": {},
     "source": [
      "Documentation"
     ]
    },
    {
     "cell_type": "code",
     "collapsed": false,
     "input": [
      "help(script)"
     ],
     "language": "python",
     "metadata": {},
     "outputs": [
      {
       "output_type": "stream",
       "stream": "stdout",
       "text": [
        "Help on module 01_inventory_mount:\n",
        "\n",
        "NAME\n",
        "    01_inventory_mount - Sample usage of function 'inventory_mount'.\n",
        "\n",
        "FILE\n",
        "    /home/virl/git/cosc-learning-labs/src/learning_lab/01_inventory_mount.py\n",
        "\n",
        "DESCRIPTION\n",
        "    Print the function's documentation then apply the function to every device that is configured and not mounted.\n",
        "\n",
        "FUNCTIONS\n",
        "    main()\n",
        "\n",
        "\n"
       ]
      }
     ],
     "prompt_number": 3
    },
    {
     "cell_type": "heading",
     "level": 4,
     "metadata": {},
     "source": [
      "Code"
     ]
    },
    {
     "cell_type": "code",
     "collapsed": false,
     "input": [
      "print(getsource(script.main))"
     ],
     "language": "python",
     "metadata": {},
     "outputs": [
      {
       "output_type": "stream",
       "stream": "stdout",
       "text": [
        "def main():\n",
        "    print(plain(doc(inventory_mount)))\n",
        "    unmounted_list = inventory_unmounted()\n",
        "    if not unmounted_list:\n",
        "        print('There are no (configured) devices unmounted.')\n",
        "    else:\n",
        "        configured = settings.config['network_device']\n",
        "        for device_name in unmounted_list:\n",
        "            device_config = configured[device_name]\n",
        "            print('inventory_mount(' + device_name, *device_config.values(), sep=', ', end=')\\n')\n",
        "            inventory_mount(\n",
        "                device_name,\n",
        "                device_config['address'],\n",
        "                device_config['port'],\n",
        "                device_config['username'],\n",
        "                device_config['password'])\n",
        "\n"
       ]
      }
     ],
     "prompt_number": 4
    },
    {
     "cell_type": "heading",
     "level": 4,
     "metadata": {},
     "source": [
      "Run"
     ]
    },
    {
     "cell_type": "code",
     "collapsed": false,
     "input": [
      "script.main()"
     ],
     "language": "python",
     "metadata": {},
     "outputs": [
      {
       "output_type": "stream",
       "stream": "stdout",
       "text": [
        "Python Library Documentation: function inventory_mount in module basics.inventory\n",
        "\n",
        "inventory_mount(device_name, device_address, device_port, device_username, device_password)\n",
        "    Add the specified network device to the inventory of the Controller.\n",
        "\n",
        "There are no (configured) devices unmounted.\n"
       ]
      }
     ],
     "prompt_number": 5
    },
    {
     "cell_type": "heading",
     "level": 4,
     "metadata": {},
     "source": [
      "HTTP"
     ]
    },
    {
     "cell_type": "markdown",
     "metadata": {},
     "source": [
      "The HTTP requests for this script can be examined [here](01_inventory_mount.ipynb)\n",
      "\n",
      "The HTTP requests for this script are the same as for:\n",
      "* [01_inventory.py](01_inventory.ipynb)\n",
      "* [01_inventory_mounted.py](01_inventory_mounted.ipynb)\n",
      "* [01_inventory_mount.py](01_inventory_mount.ipynb)\n",
      "* [01_device_dismount.py](01_device_dismount.ipynb)"
     ]
    },
    {
     "cell_type": "heading",
     "level": 3,
     "metadata": {},
     "source": [
      "01_inventory.py"
     ]
    },
    {
     "cell_type": "heading",
     "level": 4,
     "metadata": {},
     "source": [
      "Import"
     ]
    },
    {
     "cell_type": "code",
     "collapsed": false,
     "input": [
      "script = import_module('01_inventory', 'learning_lab')"
     ],
     "language": "python",
     "metadata": {},
     "outputs": [],
     "prompt_number": 6
    },
    {
     "cell_type": "heading",
     "level": 4,
     "metadata": {},
     "source": [
      "Documentation"
     ]
    },
    {
     "cell_type": "code",
     "collapsed": false,
     "input": [
      "help(script)"
     ],
     "language": "python",
     "metadata": {},
     "outputs": [
      {
       "output_type": "stream",
       "stream": "stdout",
       "text": [
        "Help on module 01_inventory:\n",
        "\n",
        "NAME\n",
        "    01_inventory - Sample usage of function 'inventory'.\n",
        "\n",
        "FILE\n",
        "    /home/virl/git/cosc-learning-labs/src/learning_lab/01_inventory.py\n",
        "\n",
        "DESCRIPTION\n",
        "    Print the function's documentation then invoke the function and print the output.\n",
        "\n",
        "FUNCTIONS\n",
        "    main()\n",
        "\n",
        "\n"
       ]
      }
     ],
     "prompt_number": 7
    },
    {
     "cell_type": "heading",
     "level": 4,
     "metadata": {},
     "source": [
      "Code"
     ]
    },
    {
     "cell_type": "code",
     "collapsed": false,
     "input": [
      "print(getsource(script.main))"
     ],
     "language": "python",
     "metadata": {},
     "outputs": [
      {
       "output_type": "stream",
       "stream": "stdout",
       "text": [
        "def main():\n",
        "    print(plain(doc(inventory)))\n",
        "    print(inventory())\n",
        "\n"
       ]
      }
     ],
     "prompt_number": 8
    },
    {
     "cell_type": "heading",
     "level": 4,
     "metadata": {},
     "source": [
      "Run"
     ]
    },
    {
     "cell_type": "code",
     "collapsed": false,
     "input": [
      "script.main()"
     ],
     "language": "python",
     "metadata": {},
     "outputs": [
      {
       "output_type": "stream",
       "stream": "stdout",
       "text": [
        "Python Library Documentation: function inventory in module basics.inventory\n",
        "\n",
        "inventory()\n",
        "    Names of network devices known to the Controller.\n",
        "    \n",
        "    The inventory includes all mounted devices.\n",
        "    The inventory excludes all unmounted devices.\n",
        "    The inventory can contain devices that are neither mounted nor unmounted.\n",
        "    The inventory includes all connected devices.\n",
        "    The inventory can contain unconnected devices.\n",
        "    Returns a list.\n",
        "\n",
        "['openflow:1', 'xrvr-1', 'xrvr-2', 'openflow:2', 'openflow:3']\n"
       ]
      }
     ],
     "prompt_number": 9
    },
    {
     "cell_type": "heading",
     "level": 4,
     "metadata": {},
     "source": [
      "HTTP"
     ]
    },
    {
     "cell_type": "markdown",
     "metadata": {},
     "source": [
      "The HTTP requests for this script can be examined [here](01_inventory.ipynb)"
     ]
    },
    {
     "cell_type": "heading",
     "level": 3,
     "metadata": {},
     "source": [
      "01_device_dismount.py"
     ]
    },
    {
     "cell_type": "heading",
     "level": 4,
     "metadata": {},
     "source": [
      "Import"
     ]
    },
    {
     "cell_type": "code",
     "collapsed": false,
     "input": [
      "script = import_module('01_device_dismount', 'learning_lab')"
     ],
     "language": "python",
     "metadata": {},
     "outputs": [],
     "prompt_number": 10
    },
    {
     "cell_type": "heading",
     "level": 4,
     "metadata": {},
     "source": [
      "Documentation"
     ]
    },
    {
     "cell_type": "code",
     "collapsed": false,
     "input": [
      "help(script)"
     ],
     "language": "python",
     "metadata": {},
     "outputs": [
      {
       "output_type": "stream",
       "stream": "stdout",
       "text": [
        "Help on module 01_device_dismount:\n",
        "\n",
        "NAME\n",
        "    01_device_dismount - Sample usage of function 'device_dismount'.\n",
        "\n",
        "FILE\n",
        "    /home/virl/git/cosc-learning-labs/src/learning_lab/01_device_dismount.py\n",
        "\n",
        "DESCRIPTION\n",
        "    Print the function's documentation then apply the function to any one device that is mounted.\n",
        "\n",
        "FUNCTIONS\n",
        "    main()\n",
        "\n",
        "\n"
       ]
      }
     ],
     "prompt_number": 11
    },
    {
     "cell_type": "heading",
     "level": 4,
     "metadata": {},
     "source": [
      "Code"
     ]
    },
    {
     "cell_type": "code",
     "collapsed": false,
     "input": [
      "print(getsource(script.main))"
     ],
     "language": "python",
     "metadata": {},
     "outputs": [
      {
       "output_type": "stream",
       "stream": "stdout",
       "text": [
        "def main():\n",
        "    print(plain(doc(device_dismount)))\n",
        "    mounted_list = inventory_mounted()\n",
        "    if not mounted_list:\n",
        "        print('There are no mounted devices to dismount.')\n",
        "    else:\n",
        "        device_name = mounted_list[0]\n",
        "        print('device_dismount(' + device_name, end=')\\n')\n",
        "        device_dismount(device_name)\n",
        "\n"
       ]
      }
     ],
     "prompt_number": 12
    },
    {
     "cell_type": "heading",
     "level": 4,
     "metadata": {},
     "source": [
      "Run"
     ]
    },
    {
     "cell_type": "code",
     "collapsed": false,
     "input": [
      "script.main()"
     ],
     "language": "python",
     "metadata": {},
     "outputs": [
      {
       "output_type": "stream",
       "stream": "stdout",
       "text": [
        "Python Library Documentation: function device_dismount in module basics.inventory\n",
        "\n",
        "device_dismount(device_name)\n",
        "    Remove one network device from the inventory of the Controller.\n",
        "    \n",
        "    It is the responsibility of the caller to ensure that the specified device is mounted.\n",
        "\n",
        "device_dismount(xrvr-1)\n"
       ]
      }
     ],
     "prompt_number": 13
    },
    {
     "cell_type": "heading",
     "level": 4,
     "metadata": {},
     "source": [
      "HTTP"
     ]
    },
    {
     "cell_type": "markdown",
     "metadata": {},
     "source": [
      "The HTTP requests for this script can be examined [here](01_device_dismount.ipynb)."
     ]
    },
    {
     "cell_type": "heading",
     "level": 3,
     "metadata": {},
     "source": [
      "01_inventory_unmounted.py"
     ]
    },
    {
     "cell_type": "heading",
     "level": 4,
     "metadata": {},
     "source": [
      "Import"
     ]
    },
    {
     "cell_type": "code",
     "collapsed": false,
     "input": [
      "script = import_module('01_inventory_unmounted', 'learning_lab')"
     ],
     "language": "python",
     "metadata": {},
     "outputs": [],
     "prompt_number": 14
    },
    {
     "cell_type": "heading",
     "level": 4,
     "metadata": {},
     "source": [
      "Documentation"
     ]
    },
    {
     "cell_type": "code",
     "collapsed": false,
     "input": [
      "help(script)"
     ],
     "language": "python",
     "metadata": {},
     "outputs": [
      {
       "output_type": "stream",
       "stream": "stdout",
       "text": [
        "Help on module 01_inventory_unmounted:\n",
        "\n",
        "NAME\n",
        "    01_inventory_unmounted - Sample usage of function 'inventory_unmounted'.\n",
        "\n",
        "FILE\n",
        "    /home/virl/git/cosc-learning-labs/src/learning_lab/01_inventory_unmounted.py\n",
        "\n",
        "DESCRIPTION\n",
        "    Print the function's documentation then invoke the function and print the output.\n",
        "\n",
        "FUNCTIONS\n",
        "    main()\n",
        "\n",
        "\n"
       ]
      }
     ],
     "prompt_number": 15
    },
    {
     "cell_type": "heading",
     "level": 4,
     "metadata": {},
     "source": [
      "Code"
     ]
    },
    {
     "cell_type": "code",
     "collapsed": false,
     "input": [
      "print(getsource(script.main))"
     ],
     "language": "python",
     "metadata": {},
     "outputs": [
      {
       "output_type": "stream",
       "stream": "stdout",
       "text": [
        "def main():\n",
        "    print(plain(doc(inventory_unmounted)))\n",
        "    print(inventory_unmounted())\n",
        "\n"
       ]
      }
     ],
     "prompt_number": 16
    },
    {
     "cell_type": "heading",
     "level": 4,
     "metadata": {},
     "source": [
      "Run"
     ]
    },
    {
     "cell_type": "code",
     "collapsed": false,
     "input": [
      "script.main()"
     ],
     "language": "python",
     "metadata": {},
     "outputs": [
      {
       "output_type": "stream",
       "stream": "stdout",
       "text": [
        "Python Library Documentation: function inventory_unmounted in module basics.inventory\n",
        "\n",
        "inventory_unmounted()\n",
        "    Names of network devices not mounted on the Controller.\n",
        "    \n",
        "    Returns a list.\n",
        "\n",
        "[]\n"
       ]
      }
     ],
     "prompt_number": 17
    },
    {
     "cell_type": "heading",
     "level": 4,
     "metadata": {},
     "source": [
      "HTTP"
     ]
    },
    {
     "cell_type": "markdown",
     "metadata": {},
     "source": [
      "The HTTP request for this script is the same as [01_inventory_mounted.py](01_inventory_mounted.ipynb)."
     ]
    },
    {
     "cell_type": "heading",
     "level": 3,
     "metadata": {},
     "source": [
      "01_inventory_mounted.py"
     ]
    },
    {
     "cell_type": "heading",
     "level": 4,
     "metadata": {},
     "source": [
      "Import"
     ]
    },
    {
     "cell_type": "code",
     "collapsed": false,
     "input": [
      "script = import_module('01_inventory_mounted', 'learning_lab')"
     ],
     "language": "python",
     "metadata": {},
     "outputs": [],
     "prompt_number": 18
    },
    {
     "cell_type": "heading",
     "level": 4,
     "metadata": {},
     "source": [
      "Documentation"
     ]
    },
    {
     "cell_type": "code",
     "collapsed": false,
     "input": [
      "help(script)"
     ],
     "language": "python",
     "metadata": {},
     "outputs": [
      {
       "output_type": "stream",
       "stream": "stdout",
       "text": [
        "Help on module 01_inventory_mounted:\n",
        "\n",
        "NAME\n",
        "    01_inventory_mounted - Sample usage of function 'inventory_mounted'.\n",
        "\n",
        "FILE\n",
        "    /home/virl/git/cosc-learning-labs/src/learning_lab/01_inventory_mounted.py\n",
        "\n",
        "DESCRIPTION\n",
        "    Print the function's documentation then invoke the function and print the output.\n",
        "\n",
        "FUNCTIONS\n",
        "    main()\n",
        "\n",
        "\n"
       ]
      }
     ],
     "prompt_number": 19
    },
    {
     "cell_type": "heading",
     "level": 4,
     "metadata": {},
     "source": [
      "Code"
     ]
    },
    {
     "cell_type": "code",
     "collapsed": false,
     "input": [
      "print(getsource(script.main))"
     ],
     "language": "python",
     "metadata": {},
     "outputs": [
      {
       "output_type": "stream",
       "stream": "stdout",
       "text": [
        "def main():\n",
        "    print(plain(doc(inventory_mounted)))\n",
        "    print(inventory_mounted())\n",
        "\n"
       ]
      }
     ],
     "prompt_number": 20
    },
    {
     "cell_type": "heading",
     "level": 4,
     "metadata": {},
     "source": [
      "Run"
     ]
    },
    {
     "cell_type": "code",
     "collapsed": false,
     "input": [
      "script.main()"
     ],
     "language": "python",
     "metadata": {},
     "outputs": [
      {
       "output_type": "stream",
       "stream": "stdout",
       "text": [
        "Python Library Documentation: function inventory_mounted in module basics.inventory\n",
        "\n",
        "inventory_mounted()\n",
        "    Names of network devices mounted on the Controller.\n",
        "    \n",
        "    Output a list of names.\n",
        "    Mounted devices are a subset of the inventory.\n",
        "    Mounted devices can be connected or not.\n",
        "\n",
        "['xrvr-1', 'xrvr-2']\n"
       ]
      }
     ],
     "prompt_number": 21
    },
    {
     "cell_type": "heading",
     "level": 4,
     "metadata": {},
     "source": [
      "HTTP"
     ]
    },
    {
     "cell_type": "markdown",
     "metadata": {},
     "source": [
      "The HTTP requests for this script can be examined [here](01_inventory_mounted.ipynb)."
     ]
    },
    {
     "cell_type": "heading",
     "level": 3,
     "metadata": {},
     "source": [
      "01_inventory_mount.py"
     ]
    },
    {
     "cell_type": "heading",
     "level": 4,
     "metadata": {},
     "source": [
      "Import"
     ]
    },
    {
     "cell_type": "code",
     "collapsed": false,
     "input": [
      "script = import_module('01_inventory_mount', 'learning_lab')"
     ],
     "language": "python",
     "metadata": {},
     "outputs": [],
     "prompt_number": 22
    },
    {
     "cell_type": "heading",
     "level": 4,
     "metadata": {},
     "source": [
      "Documentation"
     ]
    },
    {
     "cell_type": "code",
     "collapsed": false,
     "input": [
      "help(script)"
     ],
     "language": "python",
     "metadata": {},
     "outputs": [
      {
       "output_type": "stream",
       "stream": "stdout",
       "text": [
        "Help on module 01_inventory_mount:\n",
        "\n",
        "NAME\n",
        "    01_inventory_mount - Sample usage of function 'inventory_mount'.\n",
        "\n",
        "FILE\n",
        "    /home/virl/git/cosc-learning-labs/src/learning_lab/01_inventory_mount.py\n",
        "\n",
        "DESCRIPTION\n",
        "    Print the function's documentation then apply the function to any one device that is configured and not mounted.\n",
        "\n",
        "FUNCTIONS\n",
        "    main()\n",
        "\n",
        "\n"
       ]
      }
     ],
     "prompt_number": 23
    },
    {
     "cell_type": "heading",
     "level": 4,
     "metadata": {},
     "source": [
      "Code"
     ]
    },
    {
     "cell_type": "code",
     "collapsed": false,
     "input": [
      "print(getsource(script.main))"
     ],
     "language": "python",
     "metadata": {},
     "outputs": [
      {
       "output_type": "stream",
       "stream": "stdout",
       "text": [
        "def main():\n",
        "    print(plain(doc(inventory_mount)))\n",
        "    configs = settings.config['network_device']\n",
        "    if not configs:\n",
        "        print('There are no devices configured in the settings.')\n",
        "    else:\n",
        "        configured = configs.keys()\n",
        "        mounted_list = inventory_mounted()\n",
        "        unmounted_list = list(set(configured) - set(mounted_list)) if mounted_list else configured\n",
        "        if not unmounted_list:\n",
        "            print('All configured devices are mounted.')\n",
        "        else:\n",
        "            device_name = unmounted_list[0]\n",
        "            device_config = configs[device_name]\n",
        "            print('inventory_mount(' + device_name, *device_config.values(), sep=', ', end=')\\n')\n",
        "            inventory_mount(\n",
        "                device_name,\n",
        "                device_config['address'],\n",
        "                device_config['port'],\n",
        "                device_config['username'],\n",
        "                device_config['password'])\n",
        "\n"
       ]
      }
     ],
     "prompt_number": 24
    },
    {
     "cell_type": "heading",
     "level": 4,
     "metadata": {},
     "source": [
      "Run"
     ]
    },
    {
     "cell_type": "code",
     "collapsed": false,
     "input": [
      "script.main()"
     ],
     "language": "python",
     "metadata": {},
     "outputs": [
      {
       "output_type": "stream",
       "stream": "stdout",
       "text": [
        "Python Library Documentation: function inventory_mount in module basics.inventory\n",
        "\n",
        "inventory_mount(device_name, device_address, device_port, device_username, device_password)\n",
        "    Add the specified network device to the inventory of the Controller.\n",
        "\n",
        "All configured devices are mounted.\n"
       ]
      }
     ],
     "prompt_number": 25
    },
    {
     "cell_type": "heading",
     "level": 4,
     "metadata": {},
     "source": [
      "HTTP"
     ]
    },
    {
     "cell_type": "markdown",
     "metadata": {},
     "source": [
      "The HTTP requests for this script can be examined [here](01_inventory_mount.ipynb)."
     ]
    },
    {
     "cell_type": "heading",
     "level": 3,
     "metadata": {},
     "source": [
      "01_inventory_summary.py"
     ]
    },
    {
     "cell_type": "heading",
     "level": 4,
     "metadata": {},
     "source": [
      "Import"
     ]
    },
    {
     "cell_type": "code",
     "collapsed": false,
     "input": [
      "script = import_module('01_inventory_summary', 'learning_lab')"
     ],
     "language": "python",
     "metadata": {},
     "outputs": [],
     "prompt_number": 26
    },
    {
     "cell_type": "heading",
     "level": 4,
     "metadata": {},
     "source": [
      "Documentation"
     ]
    },
    {
     "cell_type": "code",
     "collapsed": false,
     "input": [
      "help(script)"
     ],
     "language": "python",
     "metadata": {},
     "outputs": [
      {
       "output_type": "stream",
       "stream": "stdout",
       "text": [
        "Help on module 01_inventory_summary:\n",
        "\n",
        "NAME\n",
        "    01_inventory_summary - Sample usage of function 'inventory_summary'.\n",
        "\n",
        "FILE\n",
        "    /home/virl/git/cosc-learning-labs/src/learning_lab/01_inventory_summary.py\n",
        "\n",
        "DESCRIPTION\n",
        "    Print the function's documentation then invoke the function and print the output.\n",
        "    \n",
        "    The related function `inventory()` returns just the name of each network device. \n",
        "    To see more than just the name of the device use function `inventory_summary()`.\n",
        "\n",
        "FUNCTIONS\n",
        "    main()\n",
        "\n",
        "\n"
       ]
      }
     ],
     "prompt_number": 27
    },
    {
     "cell_type": "heading",
     "level": 4,
     "metadata": {},
     "source": [
      "Code"
     ]
    },
    {
     "cell_type": "code",
     "collapsed": false,
     "input": [
      "print(getsource(script.main))"
     ],
     "language": "python",
     "metadata": {},
     "outputs": [
      {
       "output_type": "stream",
       "stream": "stdout",
       "text": [
        "def main():\n",
        "    print(plain(doc(inventory_summary)))\n",
        "    print('InventorySummary fields:', *InventorySummary._fields, sep='\\n\\t', end='\\n\\n')\n",
        "    print(*inventory_summary(), sep='\\n')\n",
        "\n"
       ]
      }
     ],
     "prompt_number": 28
    },
    {
     "cell_type": "heading",
     "level": 4,
     "metadata": {},
     "source": [
      "Run"
     ]
    },
    {
     "cell_type": "code",
     "collapsed": false,
     "input": [
      "script.main()"
     ],
     "language": "python",
     "metadata": {},
     "outputs": [
      {
       "output_type": "stream",
       "stream": "stdout",
       "text": [
        "Python Library Documentation: function inventory_summary in module basics.inventory\n",
        "\n",
        "inventory_summary()\n",
        "    'Return a list containing one instance of InventorySummary per inventory item.\n",
        "\n",
        "InventorySummary fields:\n",
        "\tname\n",
        "\tconnected\n",
        "\tcapabilities\n",
        "\n",
        "InventorySummary(name='openflow:1', connected=False, capabilities=5)\n",
        "InventorySummary(name='xrvr-1', connected=True, capabilities=131)\n",
        "InventorySummary(name='xrvr-2', connected=True, capabilities=131)\n",
        "InventorySummary(name='controller-config', connected=True, capabilities=182)\n",
        "InventorySummary(name='openflow:2', connected=False, capabilities=5)\n",
        "InventorySummary(name='openflow:3', connected=False, capabilities=5)\n"
       ]
      }
     ],
     "prompt_number": 29
    },
    {
     "cell_type": "heading",
     "level": 4,
     "metadata": {},
     "source": [
      "HTTP"
     ]
    },
    {
     "cell_type": "markdown",
     "metadata": {},
     "source": [
      "The HTTP request for this script is the same as [01_inventory.py](01_inventory.ipynb)."
     ]
    },
    {
     "cell_type": "heading",
     "level": 3,
     "metadata": {},
     "source": [
      "01_inventory_summary_html.py"
     ]
    },
    {
     "cell_type": "heading",
     "level": 4,
     "metadata": {},
     "source": [
      "Import"
     ]
    },
    {
     "cell_type": "code",
     "collapsed": false,
     "input": [
      "script = import_module('01_inventory_summary_html', 'learning_lab')"
     ],
     "language": "python",
     "metadata": {},
     "outputs": [],
     "prompt_number": 30
    },
    {
     "cell_type": "heading",
     "level": 4,
     "metadata": {},
     "source": [
      "Documentation"
     ]
    },
    {
     "cell_type": "code",
     "collapsed": false,
     "input": [
      "help(script)"
     ],
     "language": "python",
     "metadata": {},
     "outputs": [
      {
       "output_type": "stream",
       "stream": "stdout",
       "text": [
        "Help on module 01_inventory_summary_html:\n",
        "\n",
        "NAME\n",
        "    01_inventory_summary_html - Sample usage of function 'inventory_summary'.\n",
        "\n",
        "FILE\n",
        "    /home/virl/git/cosc-learning-labs/src/learning_lab/01_inventory_summary_html.py\n",
        "\n",
        "DESCRIPTION\n",
        "    Invoke the function and convert the output to HTML.\n",
        "    See also: 01_inventory_summary.py\n",
        "\n",
        "FUNCTIONS\n",
        "    main()\n",
        "\n",
        "\n"
       ]
      }
     ],
     "prompt_number": 31
    },
    {
     "cell_type": "heading",
     "level": 4,
     "metadata": {},
     "source": [
      "Code"
     ]
    },
    {
     "cell_type": "code",
     "collapsed": false,
     "input": [
      "print(getsource(script.main))"
     ],
     "language": "python",
     "metadata": {},
     "outputs": [
      {
       "output_type": "stream",
       "stream": "stdout",
       "text": [
        "def main():\n",
        "    rows = ''\n",
        "    for summary in inventory_summary():\n",
        "        rows += _row_template % summary\n",
        "    print(_table_template % ''.join(rows))\n",
        "\n"
       ]
      }
     ],
     "prompt_number": 32
    },
    {
     "cell_type": "heading",
     "level": 4,
     "metadata": {},
     "source": [
      "Run"
     ]
    },
    {
     "cell_type": "code",
     "collapsed": false,
     "input": [
      "%%capture console\n",
      "script.main()"
     ],
     "language": "python",
     "metadata": {},
     "outputs": [],
     "prompt_number": 33
    },
    {
     "cell_type": "code",
     "collapsed": false,
     "input": [
      "from IPython.core.display import HTML\n",
      "HTML(console.stdout)"
     ],
     "language": "python",
     "metadata": {},
     "outputs": [
      {
       "html": [
        "<table>\n",
        "    <tr>\n",
        "        <th>Name</th>\n",
        "        <th>Is Connected</th>\n",
        "        <th>Number of Capabilities</th>\n",
        "    </tr>\n",
        "        <tr>\n",
        "        <td>openflow:1</th>\n",
        "        <td style=\"text-align:center\">False</td>\n",
        "        <td style=\"text-align:right\">5</td>\n",
        "    </tr>\n",
        "    <tr>\n",
        "        <td>xrvr-1</th>\n",
        "        <td style=\"text-align:center\">True</td>\n",
        "        <td style=\"text-align:right\">131</td>\n",
        "    </tr>\n",
        "    <tr>\n",
        "        <td>xrvr-2</th>\n",
        "        <td style=\"text-align:center\">True</td>\n",
        "        <td style=\"text-align:right\">131</td>\n",
        "    </tr>\n",
        "    <tr>\n",
        "        <td>controller-config</th>\n",
        "        <td style=\"text-align:center\">True</td>\n",
        "        <td style=\"text-align:right\">182</td>\n",
        "    </tr>\n",
        "    <tr>\n",
        "        <td>openflow:2</th>\n",
        "        <td style=\"text-align:center\">False</td>\n",
        "        <td style=\"text-align:right\">5</td>\n",
        "    </tr>\n",
        "    <tr>\n",
        "        <td>openflow:3</th>\n",
        "        <td style=\"text-align:center\">False</td>\n",
        "        <td style=\"text-align:right\">5</td>\n",
        "    </tr>\n",
        "\n",
        "</table>\n",
        "\n"
       ],
       "metadata": {},
       "output_type": "pyout",
       "prompt_number": 34,
       "text": [
        "<IPython.core.display.HTML at 0x7fbe500f7550>"
       ]
      }
     ],
     "prompt_number": 34
    },
    {
     "cell_type": "heading",
     "level": 4,
     "metadata": {},
     "source": [
      "HTTP"
     ]
    },
    {
     "cell_type": "markdown",
     "metadata": {},
     "source": [
      "The HTTP request for this script is the same as [01_inventory.py](01_inventory.ipynb)."
     ]
    },
    {
     "cell_type": "heading",
     "level": 3,
     "metadata": {},
     "source": [
      "01_inventory_json.py"
     ]
    },
    {
     "cell_type": "heading",
     "level": 4,
     "metadata": {},
     "source": [
      "Import"
     ]
    },
    {
     "cell_type": "code",
     "collapsed": false,
     "input": [
      "script = import_module('01_inventory_json', 'learning_lab')"
     ],
     "language": "python",
     "metadata": {},
     "outputs": [],
     "prompt_number": 35
    },
    {
     "cell_type": "heading",
     "level": 4,
     "metadata": {},
     "source": [
      "Documentation"
     ]
    },
    {
     "cell_type": "code",
     "collapsed": false,
     "input": [
      "help(script)"
     ],
     "language": "python",
     "metadata": {},
     "outputs": [
      {
       "output_type": "stream",
       "stream": "stdout",
       "text": [
        "Help on module 01_inventory_json:\n",
        "\n",
        "NAME\n",
        "    01_inventory_json - Sample usage of function 'inventory_json'.\n",
        "\n",
        "FILE\n",
        "    /home/virl/git/cosc-learning-labs/src/learning_lab/01_inventory_json.py\n",
        "\n",
        "DESCRIPTION\n",
        "    Demonstrate how to process JSON.\n",
        "    The function output is 'reduced' to a summary per network device.\n",
        "    The summary is comparable to function inventory_summary().\n",
        "    See also: function 'inventory()', which processes XML.\n",
        "\n",
        "FUNCTIONS\n",
        "    main()\n",
        "\n",
        "DATA\n",
        "    capability_field = u'netconf-node-inventory:initial-capability'\n",
        "    connected_field = u'netconf-node-inventory:connected'\n",
        "    name_field = u'id'\n",
        "\n",
        "\n"
       ]
      }
     ],
     "prompt_number": 36
    },
    {
     "cell_type": "heading",
     "level": 4,
     "metadata": {},
     "source": [
      "Code"
     ]
    },
    {
     "cell_type": "code",
     "collapsed": false,
     "input": [
      "print getsource(script.main)"
     ],
     "language": "python",
     "metadata": {},
     "outputs": [
      {
       "output_type": "stream",
       "stream": "stdout",
       "text": [
        "def main():\n",
        "    print(plain(doc(inventory_json)))\n",
        "    print('Summary of lengthy JSON response:')\n",
        "    print(*[\n",
        "        InventorySummary(\n",
        "            item[name_field],\n",
        "            connected_field in item and item[connected_field],\n",
        "            len(item[capability_field]) if capability_field in item else 0\n",
        "        )\n",
        "        for item in inventory_json()\n",
        "    ], sep='\\n')\n",
        "\n"
       ]
      }
     ],
     "prompt_number": 37
    },
    {
     "cell_type": "heading",
     "level": 4,
     "metadata": {},
     "source": [
      "Run"
     ]
    },
    {
     "cell_type": "code",
     "collapsed": false,
     "input": [
      "script.main()"
     ],
     "language": "python",
     "metadata": {},
     "outputs": [
      {
       "output_type": "stream",
       "stream": "stdout",
       "text": [
        "Python Library Documentation: function inventory_json in module basics.inventory\n",
        "\n",
        "inventory_json()\n",
        "    Return a list of inventory items in JSON representation.\n",
        "\n",
        "Summary of lengthy JSON response:\n",
        "InventorySummary(name=u'openflow:1', connected=False, capabilities=0)\n",
        "InventorySummary(name=u'xrvr-1', connected=True, capabilities=131)\n",
        "InventorySummary(name=u'xrvr-2', connected=True, capabilities=131)\n",
        "InventorySummary(name=u'controller-config', connected=True, capabilities=182)\n",
        "InventorySummary(name=u'openflow:2', connected=False, capabilities=0)\n",
        "InventorySummary(name=u'openflow:3', connected=False, capabilities=0)\n"
       ]
      }
     ],
     "prompt_number": 38
    },
    {
     "cell_type": "heading",
     "level": 4,
     "metadata": {},
     "source": [
      "HTTP"
     ]
    },
    {
     "cell_type": "markdown",
     "metadata": {},
     "source": [
      "The HTTP requests for this script can be examined [here](01_inventory_json.ipynb)."
     ]
    },
    {
     "cell_type": "heading",
     "level": 4,
     "metadata": {},
     "source": [
      "Compare processing of JSON versus XML"
     ]
    },
    {
     "cell_type": "markdown",
     "metadata": {},
     "source": [
      "Function `inventory_summary()` requests a HTTP response of type XML instead of JSON. The processing of XML versus JSON is similar yet different."
     ]
    },
    {
     "cell_type": "code",
     "collapsed": false,
     "input": [
      "from basics.inventory import inventory_xml, inventory_summary_from_xml\n",
      "print(getsource(inventory_summary_from_xml))\n",
      "inventory_summary_from_xml(inventory_xml())"
     ],
     "language": "python",
     "metadata": {},
     "outputs": [
      {
       "output_type": "stream",
       "stream": "stdout",
       "text": [
        "def inventory_summary_from_xml(xml):\n",
        "    return [ \n",
        "        InventorySummary(\n",
        "            name=item.findtext('i:id', namespaces=_inventory_namespaces),\n",
        "            connected=item.findtext('nni:connected', namespaces=_inventory_namespaces) == 'true',\n",
        "            capabilities=int(\n",
        "                item.xpath('count(nni:initial-capability)', namespaces=_inventory_namespaces) + \n",
        "                item.xpath('count(fi:switch-features/fi:capabilities)', namespaces=_inventory_namespaces)\n",
        "            )\n",
        "        ) for item in xml.iterfind('i:node', namespaces=_inventory_namespaces)\n",
        "    ]\n",
        "\n"
       ]
      },
      {
       "metadata": {},
       "output_type": "pyout",
       "prompt_number": 39,
       "text": [
        "[InventorySummary(name='openflow:1', connected=False, capabilities=5),\n",
        " InventorySummary(name='xrvr-1', connected=True, capabilities=131),\n",
        " InventorySummary(name='xrvr-2', connected=True, capabilities=131),\n",
        " InventorySummary(name='controller-config', connected=True, capabilities=182),\n",
        " InventorySummary(name='openflow:2', connected=False, capabilities=5),\n",
        " InventorySummary(name='openflow:3', connected=False, capabilities=5)]"
       ]
      }
     ],
     "prompt_number": 39
    },
    {
     "cell_type": "heading",
     "level": 3,
     "metadata": {},
     "source": [
      "01_inventory_connected.py"
     ]
    },
    {
     "cell_type": "heading",
     "level": 4,
     "metadata": {},
     "source": [
      "Import"
     ]
    },
    {
     "cell_type": "code",
     "collapsed": false,
     "input": [
      "script = import_module('01_inventory_connected', 'learning_lab')"
     ],
     "language": "python",
     "metadata": {},
     "outputs": [],
     "prompt_number": 40
    },
    {
     "cell_type": "heading",
     "level": 4,
     "metadata": {},
     "source": [
      "Documentation"
     ]
    },
    {
     "cell_type": "code",
     "collapsed": false,
     "input": [
      "help(script)"
     ],
     "language": "python",
     "metadata": {},
     "outputs": [
      {
       "output_type": "stream",
       "stream": "stdout",
       "text": [
        "Help on module 01_inventory_connected:\n",
        "\n",
        "NAME\n",
        "    01_inventory_connected - Sample usage of function 'inventory_connected'.\n",
        "\n",
        "FILE\n",
        "    /home/virl/git/cosc-learning-labs/src/learning_lab/01_inventory_connected.py\n",
        "\n",
        "DESCRIPTION\n",
        "    Print the function's documentation then invoke the function and print the output.\n",
        "\n",
        "FUNCTIONS\n",
        "    main()\n",
        "\n",
        "\n"
       ]
      }
     ],
     "prompt_number": 41
    },
    {
     "cell_type": "heading",
     "level": 4,
     "metadata": {},
     "source": [
      "Code"
     ]
    },
    {
     "cell_type": "code",
     "collapsed": false,
     "input": [
      "print(getsource(script.main))"
     ],
     "language": "python",
     "metadata": {},
     "outputs": [
      {
       "output_type": "stream",
       "stream": "stdout",
       "text": [
        "def main():\n",
        "    print(_doc)\n",
        "    print(inventory_connected())\n",
        "\n"
       ]
      }
     ],
     "prompt_number": 42
    },
    {
     "cell_type": "heading",
     "level": 4,
     "metadata": {},
     "source": [
      "Run"
     ]
    },
    {
     "cell_type": "code",
     "collapsed": false,
     "input": [
      "script.main()"
     ],
     "language": "python",
     "metadata": {},
     "outputs": [
      {
       "output_type": "stream",
       "stream": "stdout",
       "text": [
        "Python Library Documentation: function inventory_connected in module basics.inventory\n",
        "\n",
        "inventory_connected()\n",
        "    Names of network devices connected to the Controller.\n",
        "    \n",
        "    Output a list of names.\n",
        "    Connected devices are a subset of the inventory.\n",
        "\n",
        "['xrvr-1', 'xrvr-2']"
       ]
      },
      {
       "output_type": "stream",
       "stream": "stdout",
       "text": [
        "\n"
       ]
      }
     ],
     "prompt_number": 43
    },
    {
     "cell_type": "heading",
     "level": 4,
     "metadata": {},
     "source": [
      "HTTP"
     ]
    },
    {
     "cell_type": "markdown",
     "metadata": {},
     "source": [
      "The HTTP request for this script is the same as [01_inventory.py](01_inventory.ipynb)."
     ]
    },
    {
     "cell_type": "heading",
     "level": 3,
     "metadata": {},
     "source": [
      "01_inventory_unreachable.py"
     ]
    },
    {
     "cell_type": "heading",
     "level": 4,
     "metadata": {},
     "source": [
      "Import"
     ]
    },
    {
     "cell_type": "code",
     "collapsed": false,
     "input": [
      "script = import_module('01_inventory_unreachable', 'learning_lab')"
     ],
     "language": "python",
     "metadata": {},
     "outputs": [],
     "prompt_number": 44
    },
    {
     "cell_type": "heading",
     "level": 4,
     "metadata": {},
     "source": [
      "Documentation"
     ]
    },
    {
     "cell_type": "code",
     "collapsed": false,
     "input": [
      "help(script)"
     ],
     "language": "python",
     "metadata": {},
     "outputs": [
      {
       "output_type": "stream",
       "stream": "stdout",
       "text": [
        "Help on module 01_inventory_unreachable:\n",
        "\n",
        "NAME\n",
        "    01_inventory_unreachable - Mount a network device that is intentionally unreachable.\n",
        "\n",
        "FILE\n",
        "    /home/virl/git/cosc-learning-labs/src/learning_lab/01_inventory_unreachable.py\n",
        "\n",
        "DESCRIPTION\n",
        "    Verify that the device is present in the inventory and is mounted but not connected.\n",
        "\n",
        "FUNCTIONS\n",
        "    main()\n",
        "\n",
        "DATA\n",
        "    device_address = '192.168.0.999'\n",
        "    device_name = 'unreachable'\n",
        "    device_password = 'cisco'\n",
        "    device_port = 830\n",
        "    device_username = 'cisco'\n",
        "\n",
        "\n"
       ]
      }
     ],
     "prompt_number": 45
    },
    {
     "cell_type": "heading",
     "level": 4,
     "metadata": {},
     "source": [
      "Code"
     ]
    },
    {
     "cell_type": "code",
     "collapsed": false,
     "input": [
      "print(getsource(script.main))"
     ],
     "language": "python",
     "metadata": {},
     "outputs": [
      {
       "output_type": "stream",
       "stream": "stdout",
       "text": [
        "def main():\n",
        "    if mounted(device_name):\n",
        "        print('Preparation.')     \n",
        "        print('device_dismount(', device_name, sep='', end=')\\n')\n",
        "        device_dismount(device_name)\n",
        "        time.sleep(1)\n",
        "        print()\n",
        "        \n",
        "    print('Verify absence of unreachable device.')     \n",
        "    in_inventory = device_name in inventory()\n",
        "    in_mounted = device_name in inventory_mounted()\n",
        "    print(device_name + ' in inventory', in_inventory, sep=': ')\n",
        "    print(device_name + ' is mounted', in_mounted, sep=': ')\n",
        "    assert not in_inventory\n",
        "    assert not in_mounted\n",
        "    del in_inventory, in_mounted\n",
        "\n",
        "    print()\n",
        "    \n",
        "    print('Discover effect of mounting unreachable device.')     \n",
        "    print('inventory_mount(' + device_name, device_address, device_port, sep=', ', end=')\\n')\n",
        "    inventory_mount(device_name, device_address, device_port, device_username, device_password)\n",
        "    time.sleep(1)\n",
        "    in_connected = device_name in inventory_connected()\n",
        "    in_mounted = device_name in inventory_mounted()\n",
        "    print(device_name + ' is connected', in_connected, sep=': ')\n",
        "    print(device_name + ' is mounted', in_mounted, sep=': ')\n",
        "    assert not in_connected\n",
        "    assert in_mounted\n",
        "\n"
       ]
      }
     ],
     "prompt_number": 46
    },
    {
     "cell_type": "heading",
     "level": 4,
     "metadata": {},
     "source": [
      "Run"
     ]
    },
    {
     "cell_type": "code",
     "collapsed": false,
     "input": [
      "script.main()"
     ],
     "language": "python",
     "metadata": {},
     "outputs": [
      {
       "output_type": "stream",
       "stream": "stdout",
       "text": [
        "Verify absence of unreachable device.\n",
        "unreachable in inventory: False\n",
        "unreachable is mounted: False\n",
        "\n",
        "Discover effect of mounting unreachable device.\n",
        "inventory_mount(unreachable, 192.168.0.999, 830)\n",
        "unreachable is connected"
       ]
      },
      {
       "output_type": "stream",
       "stream": "stdout",
       "text": [
        ": False\n",
        "unreachable is mounted: True\n"
       ]
      }
     ],
     "prompt_number": 47
    },
    {
     "cell_type": "heading",
     "level": 4,
     "metadata": {},
     "source": [
      "HTTP"
     ]
    },
    {
     "cell_type": "markdown",
     "metadata": {},
     "source": [
      "The HTTP requests for this script are the same as for:\n",
      "* [01_inventory.py](01_inventory.ipynb)\n",
      "* [01_inventory_mounted.py](01_inventory_mounted.ipynb)\n",
      "* [01_inventory_mount.py](01_inventory_mount.ipynb)\n",
      "* [01_device_dismount.py](01_device_dismount.ipynb)"
     ]
    },
    {
     "cell_type": "heading",
     "level": 3,
     "metadata": {},
     "source": [
      "01_inventory_not_connected.py"
     ]
    },
    {
     "cell_type": "heading",
     "level": 4,
     "metadata": {},
     "source": [
      "Import"
     ]
    },
    {
     "cell_type": "code",
     "collapsed": false,
     "input": [
      "script = import_module('01_inventory_not_connected', 'learning_lab')"
     ],
     "language": "python",
     "metadata": {},
     "outputs": [],
     "prompt_number": 48
    },
    {
     "cell_type": "heading",
     "level": 4,
     "metadata": {},
     "source": [
      "Documentation"
     ]
    },
    {
     "cell_type": "code",
     "collapsed": false,
     "input": [
      "help(script)"
     ],
     "language": "python",
     "metadata": {},
     "outputs": [
      {
       "output_type": "stream",
       "stream": "stdout",
       "text": [
        "Help on module 01_inventory_not_connected:\n",
        "\n",
        "NAME\n",
        "    01_inventory_not_connected - Sample usage of function 'inventory_not_connected'.\n",
        "\n",
        "FILE\n",
        "    /home/virl/git/cosc-learning-labs/src/learning_lab/01_inventory_not_connected.py\n",
        "\n",
        "DESCRIPTION\n",
        "    Print the function's documentation then invoke the function and print the output.\n",
        "\n",
        "FUNCTIONS\n",
        "    main()\n",
        "\n",
        "\n"
       ]
      }
     ],
     "prompt_number": 49
    },
    {
     "cell_type": "heading",
     "level": 4,
     "metadata": {},
     "source": [
      "Code"
     ]
    },
    {
     "cell_type": "code",
     "collapsed": false,
     "input": [
      "print(getsource(script.main))"
     ],
     "language": "python",
     "metadata": {},
     "outputs": [
      {
       "output_type": "stream",
       "stream": "stdout",
       "text": [
        "def main():\n",
        "    print(plain(doc(inventory_not_connected)))\n",
        "    print(inventory_not_connected())\n",
        "\n"
       ]
      }
     ],
     "prompt_number": 50
    },
    {
     "cell_type": "heading",
     "level": 4,
     "metadata": {},
     "source": [
      "Run"
     ]
    },
    {
     "cell_type": "code",
     "collapsed": false,
     "input": [
      "script.main()"
     ],
     "language": "python",
     "metadata": {},
     "outputs": [
      {
       "output_type": "stream",
       "stream": "stdout",
       "text": [
        "Python Library Documentation: function inventory_not_connected in module basics.inventory\n",
        "\n",
        "inventory_not_connected()\n",
        "    Names of network devices mounted on the Controller but not connected to the Controller.\n",
        "\n",
        "['openflow:1', 'unreachable', 'openflow:2', 'openflow:3']\n"
       ]
      }
     ],
     "prompt_number": 51
    },
    {
     "cell_type": "heading",
     "level": 4,
     "metadata": {},
     "source": [
      "HTTP"
     ]
    },
    {
     "cell_type": "markdown",
     "metadata": {},
     "source": [
      "The HTTP request for this script is the same as [01_inventory.py](01_inventory.ipynb)."
     ]
    },
    {
     "cell_type": "heading",
     "level": 3,
     "metadata": {},
     "source": [
      "01_inventory_integrity.py"
     ]
    },
    {
     "cell_type": "heading",
     "level": 4,
     "metadata": {},
     "source": [
      "Import"
     ]
    },
    {
     "cell_type": "code",
     "collapsed": false,
     "input": [
      "script = import_module('01_inventory_integrity', 'learning_lab')"
     ],
     "language": "python",
     "metadata": {},
     "outputs": [],
     "prompt_number": 52
    },
    {
     "cell_type": "heading",
     "level": 4,
     "metadata": {},
     "source": [
      "Documentation"
     ]
    },
    {
     "cell_type": "code",
     "collapsed": false,
     "input": [
      "help(script)"
     ],
     "language": "python",
     "metadata": {},
     "outputs": [
      {
       "output_type": "stream",
       "stream": "stdout",
       "text": [
        "Help on module 01_inventory_integrity:\n",
        "\n",
        "NAME\n",
        "    01_inventory_integrity - Integrity check of all inventory related function output.\n",
        "\n",
        "FILE\n",
        "    /home/virl/git/cosc-learning-labs/src/learning_lab/01_inventory_integrity.py\n",
        "\n",
        "DESCRIPTION\n",
        "    Obtain the entire inventory and the various subsets and validate them.\n",
        "\n",
        "FUNCTIONS\n",
        "    main()\n",
        "\n",
        "\n"
       ]
      }
     ],
     "prompt_number": 53
    },
    {
     "cell_type": "heading",
     "level": 4,
     "metadata": {},
     "source": [
      "Code"
     ]
    },
    {
     "cell_type": "code",
     "collapsed": false,
     "input": [
      "print(getsource(script.main))"
     ],
     "language": "python",
     "metadata": {},
     "outputs": [
      {
       "output_type": "stream",
       "stream": "stdout",
       "text": [
        "def main():\n",
        "    inventory_set = set(inventory())\n",
        "    inventory_connected_set = set(inventory_connected())\n",
        "    inventory_not_connected_set = set(inventory_not_connected())\n",
        "    inventory_mounted_set = set(inventory_mounted())\n",
        "    inventory_unmounted_set = set(inventory_unmounted())\n",
        "    empty_set = set()\n",
        "    \n",
        "    print(\"The set of 'connected' devices is a subset of the inventory:\",\n",
        "           inventory_connected_set <= inventory_set)\n",
        "    assert inventory_connected_set <= inventory_set\n",
        "    \n",
        "    print(\"The set of 'not connected' devices is also a subset of the inventory:\",\n",
        "           inventory_not_connected_set <= inventory_set)\n",
        "    assert inventory_not_connected_set <= inventory_set\n",
        "    \n",
        "    print(\"There are no network devices in both the 'connected' set and the 'not connected' set:\",\n",
        "           inventory_not_connected_set & inventory_connected_set == empty_set)\n",
        "    assert inventory_not_connected_set & inventory_connected_set == empty_set\n",
        "    \n",
        "    print(\"Every network device in the inventory is in either the 'connected' set or the 'not connected' set:\",\n",
        "           inventory_connected_set | inventory_not_connected_set == inventory_set)\n",
        "    assert inventory_connected_set | inventory_not_connected_set == inventory_set\n",
        "    \n",
        "    print()\n",
        "    \n",
        "    print(\"The set of 'mounted' devices is a subset of the inventory:\",\n",
        "           inventory_mounted_set <= inventory_set)\n",
        "    assert inventory_mounted_set <= inventory_set\n",
        "    \n",
        "    print(\"The set of 'unmounted' devices has no intersection with the inventory:\",\n",
        "           inventory_unmounted_set & inventory_set == empty_set)\n",
        "    assert inventory_unmounted_set & inventory_set == empty_set\n",
        "    \n",
        "    print(\"There are no network devices in both the 'mounted' set and the 'unmounted' set:\",\n",
        "           inventory_unmounted_set & inventory_mounted_set == empty_set)\n",
        "    assert inventory_unmounted_set & inventory_mounted_set == empty_set\n",
        "\n"
       ]
      }
     ],
     "prompt_number": 54
    },
    {
     "cell_type": "heading",
     "level": 4,
     "metadata": {},
     "source": [
      "Run"
     ]
    },
    {
     "cell_type": "code",
     "collapsed": false,
     "input": [
      "script.main()"
     ],
     "language": "python",
     "metadata": {},
     "outputs": [
      {
       "output_type": "stream",
       "stream": "stdout",
       "text": [
        "The set of 'connected' devices is a subset of the inventory: True\n",
        "The set of 'not connected' devices is also a subset of the inventory: True\n",
        "There are no network devices in both the 'connected' set and the 'not connected' set: True\n",
        "Every network device in the inventory is in either the 'connected' set or the 'not connected' set: True\n",
        "\n",
        "The set of 'mounted' devices is a subset of the inventory: True\n",
        "The set of 'unmounted' devices has no intersection with the inventory: True\n",
        "There are no network devices in both the 'mounted' set and the 'unmounted' set: True\n"
       ]
      }
     ],
     "prompt_number": 55
    },
    {
     "cell_type": "heading",
     "level": 4,
     "metadata": {},
     "source": [
      "HTTP"
     ]
    },
    {
     "cell_type": "markdown",
     "metadata": {},
     "source": [
      "The HTTP requests for this script are the same as for:\n",
      "* [01_inventory.py](01_inventory.ipynb)\n",
      "* [01_inventory_mounted.py](01_inventory_mounted.ipynb)"
     ]
    },
    {
     "cell_type": "heading",
     "level": 3,
     "metadata": {},
     "source": [
      "01_device_mounted.py"
     ]
    },
    {
     "cell_type": "heading",
     "level": 4,
     "metadata": {},
     "source": [
      "Import"
     ]
    },
    {
     "cell_type": "code",
     "collapsed": false,
     "input": [
      "script = import_module('01_device_mounted', 'learning_lab')"
     ],
     "language": "python",
     "metadata": {},
     "outputs": [],
     "prompt_number": 56
    },
    {
     "cell_type": "heading",
     "level": 4,
     "metadata": {},
     "source": [
      "Documentation"
     ]
    },
    {
     "cell_type": "code",
     "collapsed": false,
     "input": [
      "help(script)"
     ],
     "language": "python",
     "metadata": {},
     "outputs": [
      {
       "output_type": "stream",
       "stream": "stdout",
       "text": [
        "Help on module 01_device_mounted:\n",
        "\n",
        "NAME\n",
        "    01_device_mounted - Sample usage of function 'mounted'.\n",
        "\n",
        "FILE\n",
        "    /home/virl/git/cosc-learning-labs/src/learning_lab/01_device_mounted.py\n",
        "\n",
        "DESCRIPTION\n",
        "    Print the function's documentation then invoke the function and print the output.\n",
        "\n",
        "FUNCTIONS\n",
        "    main()\n",
        "\n",
        "\n"
       ]
      }
     ],
     "prompt_number": 57
    },
    {
     "cell_type": "heading",
     "level": 4,
     "metadata": {},
     "source": [
      "Code"
     ]
    },
    {
     "cell_type": "code",
     "collapsed": false,
     "input": [
      "print(getsource(script.main))"
     ],
     "language": "python",
     "metadata": {},
     "outputs": [
      {
       "output_type": "stream",
       "stream": "stdout",
       "text": [
        "def main():\n",
        "    print(plain(doc(mounted)))\n",
        "    device_names = settings.config['network_device'].keys()\n",
        "    if not device_names:\n",
        "        print('There are no devices configured in the settings.')\n",
        "    else:\n",
        "        device_name = device_names[0]\n",
        "        print('is mounted(%s):' % device_name, mounted(device_name))\n",
        "\n"
       ]
      }
     ],
     "prompt_number": 58
    },
    {
     "cell_type": "heading",
     "level": 4,
     "metadata": {},
     "source": [
      "Run"
     ]
    },
    {
     "cell_type": "code",
     "collapsed": false,
     "input": [
      "script.main()"
     ],
     "language": "python",
     "metadata": {},
     "outputs": [
      {
       "output_type": "stream",
       "stream": "stdout",
       "text": [
        "Python Library Documentation: function mounted in module basics.inventory\n",
        "\n",
        "mounted(device_name)\n",
        "    Determine whether a single device is mounted on the Controller.\n",
        "    \n",
        "    Return True if mounted.\n",
        "\n",
        "is mounted(xrvr-2):"
       ]
      },
      {
       "output_type": "stream",
       "stream": "stdout",
       "text": [
        " True\n"
       ]
      }
     ],
     "prompt_number": 59
    },
    {
     "cell_type": "heading",
     "level": 4,
     "metadata": {},
     "source": [
      "HTTP"
     ]
    },
    {
     "cell_type": "markdown",
     "metadata": {},
     "source": [
      "The HTTP request for this script is [here](01_device_mounted.ipynb)"
     ]
    },
    {
     "cell_type": "heading",
     "level": 3,
     "metadata": {},
     "source": [
      "01_device_connected.py"
     ]
    },
    {
     "cell_type": "heading",
     "level": 4,
     "metadata": {},
     "source": [
      "Import"
     ]
    },
    {
     "cell_type": "code",
     "collapsed": false,
     "input": [
      "script = import_module('01_device_connected', 'learning_lab')"
     ],
     "language": "python",
     "metadata": {},
     "outputs": [],
     "prompt_number": 60
    },
    {
     "cell_type": "heading",
     "level": 4,
     "metadata": {},
     "source": [
      "Documentation"
     ]
    },
    {
     "cell_type": "code",
     "collapsed": false,
     "input": [
      "help(script)"
     ],
     "language": "python",
     "metadata": {},
     "outputs": [
      {
       "output_type": "stream",
       "stream": "stdout",
       "text": [
        "Help on module 01_device_connected:\n",
        "\n",
        "NAME\n",
        "    01_device_connected - Sample usage of function 'connected'.\n",
        "\n",
        "FILE\n",
        "    /home/virl/git/cosc-learning-labs/src/learning_lab/01_device_connected.py\n",
        "\n",
        "DESCRIPTION\n",
        "    Print the function's documentation then invoke the function and print the output.\n",
        "\n",
        "FUNCTIONS\n",
        "    main()\n",
        "\n",
        "\n"
       ]
      }
     ],
     "prompt_number": 61
    },
    {
     "cell_type": "heading",
     "level": 4,
     "metadata": {},
     "source": [
      "Code"
     ]
    },
    {
     "cell_type": "code",
     "collapsed": false,
     "input": [
      "print(getsource(script.main))"
     ],
     "language": "python",
     "metadata": {},
     "outputs": [
      {
       "output_type": "stream",
       "stream": "stdout",
       "text": [
        "def main():\n",
        "    print(plain(doc(connected)))\n",
        "    device_names = inventory_mounted()\n",
        "    if not device_names:\n",
        "        print('There are no devices mounted on the Controller.')\n",
        "    else:\n",
        "        device_name = device_names[0]\n",
        "        print('is connected(%s):' % device_name, connected(device_name))\n",
        "\n"
       ]
      }
     ],
     "prompt_number": 62
    },
    {
     "cell_type": "heading",
     "level": 4,
     "metadata": {},
     "source": [
      "Run"
     ]
    },
    {
     "cell_type": "code",
     "collapsed": false,
     "input": [
      "script.main()"
     ],
     "language": "python",
     "metadata": {},
     "outputs": [
      {
       "output_type": "stream",
       "stream": "stdout",
       "text": [
        "Python Library Documentation: function connected in module basics.inventory\n",
        "\n",
        "connected(device_name)\n",
        "    Determine whether a single device is connected to the Controller.\n",
        "    \n",
        "    Return True if connected.\n",
        "\n",
        "is connected(xrvr-2): True\n"
       ]
      }
     ],
     "prompt_number": 63
    },
    {
     "cell_type": "heading",
     "level": 4,
     "metadata": {},
     "source": [
      "HTTP"
     ]
    },
    {
     "cell_type": "markdown",
     "metadata": {},
     "source": [
      "The HTTP request for this script is [here](01_device_connected.ipynb)"
     ]
    },
    {
     "cell_type": "heading",
     "level": 2,
     "metadata": {},
     "source": [
      "Conclusion"
     ]
    },
    {
     "cell_type": "markdown",
     "metadata": {},
     "source": [
      "The inventory was obtained from the Controller and examined. Network devices were mounted on the Controller then dis-mounted. The inventory data was shown to be lengthy and a demonstration of reduction was applied to both JSON and XML data. The connection status and the number of capabilities were extracted. Data available for *groups* of network devices was shown to be also available for *individual* network devices. The details of each HTTP request and response were published in reference tables."
     ]
    }
   ],
   "metadata": {}
  }
 ]
}