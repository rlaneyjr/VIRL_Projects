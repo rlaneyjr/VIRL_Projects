{
 "metadata": {
  "name": "",
  "signature": "sha256:aaa9a3e75d6a07b02f40f4b5f3732fe8b64422386d162dc87bf7030e5f0fc551"
 },
 "nbformat": 3,
 "nbformat_minor": 0,
 "worksheets": [
  {
   "cells": [
    {
     "cell_type": "heading",
     "level": 1,
     "metadata": {},
     "source": [
      "COSC Learning Lab: Menu"
     ]
    },
    {
     "cell_type": "heading",
     "level": 2,
     "metadata": {},
     "source": [
      "Sample Scripts"
     ]
    },
    {
     "cell_type": "markdown",
     "metadata": {},
     "source": [
      "* [Inventory](Inventory.ipynb)\n",
      "* [Interface](Interface.ipynb)\n",
      "* [Capabilities](Capabilities.ipynb)\n",
      "* [Properties](Properties.ipynb)\n",
      "* [Configure](Configure.ipynb)\n",
      "* [Access Control](AccessControl.ipynb)"
     ]
    },
    {
     "cell_type": "heading",
     "level": 2,
     "metadata": {},
     "source": [
      "Guides"
     ]
    },
    {
     "cell_type": "markdown",
     "metadata": {},
     "source": [
      "* [Objectives](Objectives.ipynb)\n",
      "* [How to set up your computer](HowToSetUpYourComputer.ipynb)\n",
      "* [Settings](Settings.ipynb)\n",
      "* [Http](Http.ipynb)\n",
      "* [Copyright](Copyright.ipynb)"
     ]
    }
   ],
   "metadata": {}
  }
 ]
}