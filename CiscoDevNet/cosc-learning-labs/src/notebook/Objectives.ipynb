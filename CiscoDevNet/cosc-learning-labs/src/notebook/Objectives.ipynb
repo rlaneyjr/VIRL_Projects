{
 "metadata": {
  "name": "",
  "signature": "sha256:cdb6379c0a1cb57c2f200795b9042ed1bc57c7f8ef28fd5f01778138f6cb5443"
 },
 "nbformat": 3,
 "nbformat_minor": 0,
 "worksheets": [
  {
   "cells": [
    {
     "cell_type": "heading",
     "level": 1,
     "metadata": {},
     "source": [
      "Learning Lab: Objectives"
     ]
    },
    {
     "cell_type": "markdown",
     "metadata": {},
     "source": [
      "Each [lesson](Menu.ipynb) of this Learning Lab fulfils the following objectives:"
     ]
    },
    {
     "cell_type": "heading",
     "level": 3,
     "metadata": {},
     "source": [
      "Networking Concepts"
     ]
    },
    {
     "cell_type": "markdown",
     "metadata": {},
     "source": [
      "Learn by example as the data is displayed that describes each network component. Execute the functionality that is applicable.\n",
      "  \n",
      "This is a fun way to learn with no exams. Experiment by modifying the sample code. Discover, hack and play in this sandbox."
     ]
    },
    {
     "cell_type": "heading",
     "level": 3,
     "metadata": {},
     "source": [
      "Python Library"
     ]
    },
    {
     "cell_type": "markdown",
     "metadata": {},
     "source": [
      "The sample Python code invokes convenience functions in a library that is supplied with this Learning Lab. Each function is demonstrated with just one line of code.\n",
      "  \n",
      "The emphasis is on *what* can be done, not *how* to do it."
     ]
    },
    {
     "cell_type": "heading",
     "level": 3,
     "metadata": {},
     "source": [
      "Talk to the Controller"
     ]
    },
    {
     "cell_type": "markdown",
     "metadata": {},
     "source": [
      "The exact messages sent by the sample code and the response from the Controller. Each message is sent using the [Hypertext Transfer Protocol](http://en.wikipedia.org/wiki/Hypertext_Transfer_Protocol) (HTTP). This intimate detail is for practitioners who want to build their own client application or library. To use a programming language other than Python requires the sending and receiving of these HTTP messages. A demonstration is provided in this [guide](Http.ipynb).\n",
      "  \n",
      "The emphasis is on *how* to achieve the intended functionality."
     ]
    }
   ],
   "metadata": {}
  }
 ]
}