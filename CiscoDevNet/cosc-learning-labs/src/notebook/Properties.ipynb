{
 "metadata": {
  "name": "",
  "signature": "sha256:d2764895a19f4ffe31bd7783d011579eda5f2d15258c4f1ac5c8498a88da45d6"
 },
 "nbformat": 3,
 "nbformat_minor": 0,
 "worksheets": [
  {
   "cells": [
    {
     "cell_type": "markdown",
     "metadata": {},
     "source": [
      "#Properties"
     ]
    },
    {
     "cell_type": "markdown",
     "metadata": {},
     "source": [
      "##Python Path"
     ]
    },
    {
     "cell_type": "code",
     "collapsed": false,
     "input": [
      "import sys\n",
      "sys.path.append(\"..\")"
     ],
     "language": "python",
     "metadata": {},
     "outputs": [],
     "prompt_number": 3
    },
    {
     "cell_type": "markdown",
     "metadata": {},
     "source": [
      "##Select Network Topology"
     ]
    },
    {
     "cell_type": "code",
     "collapsed": false,
     "input": [
      "from os import environ\n",
      "environ[\"NETWORK_PROFILE\"] = \"giles\""
     ],
     "language": "python",
     "metadata": {},
     "outputs": [],
     "prompt_number": 4
    },
    {
     "cell_type": "markdown",
     "metadata": {},
     "source": [
      "##Select Device\n",
      "The following code selects one device from the inventory that is connected and has more than one interface."
     ]
    },
    {
     "cell_type": "code",
     "collapsed": false,
     "input": [
      "from basics.inventory import inventory_connected\n",
      "from basics.interface_names import interface_names\n",
      "from basics.interface_properties import interface_properties\n",
      "\n",
      "for device_name in inventory_connected():\n",
      "    interface_names_list = interface_names(device_name)\n",
      "    if len(interface_names_list) > 1:\n",
      "        for interface_name in interface_names_list:\n",
      "            print device_name,\n",
      "            print interface_properties(device_name, interface_name)\n",
      "        break\n",
      "device_name"
     ],
     "language": "python",
     "metadata": {},
     "outputs": [
      {
       "output_type": "stream",
       "stream": "stdout",
       "text": [
        "network profile detected as: giles\n",
        "http://172.23.29.120:8181/restconf/operational/opendaylight-inventory:nodes/node/controller-config/yang-ext:mount/Cisco-IOS-XR-ifmgr-oper:interface-properties"
       ]
      },
      {
       "output_type": "stream",
       "stream": "stdout",
       "text": [
        "\n"
       ]
      },
      {
       "ename": "Exception",
       "evalue": "Expected HTTP status code [200, 400], got 500, response: <html>\n<head>\n<meta http-equiv=\"Content-Type\" content=\"text/html; charset=ISO-8859-1\"/>\n<title>Error 500 Internal Server Error</title>\n</head>\n<body><h2>HTTP ERROR 500</h2>\n<p>Problem accessing /restconf/operational/opendaylight-inventory:nodes/node/controller-config/yang-ext:mount/Cisco-IOS-XR-ifmgr-oper:interface-properties. Reason:\n<pre>    Internal Server Error</pre></p><hr /><i><small>Powered by Jetty://</small></i><br/>                                                \n<br/>                                                \n<br/>                                                \n<br/>                                                \n<br/>                                                \n<br/>                                                \n<br/>                                                \n<br/>                                                \n<br/>                                                \n<br/>                                                \n<br/>                                                \n<br/>                                                \n<br/>                                                \n<br/>                                                \n<br/>                                                \n<br/>                                                \n<br/>                                                \n<br/>                                                \n<br/>                                                \n<br/>                                                \n\n</body>\n</html>\n",
       "output_type": "pyerr",
       "traceback": [
        "\u001b[0;31m---------------------------------------------------------------------------\u001b[0m\n\u001b[0;31mException\u001b[0m                                 Traceback (most recent call last)",
        "\u001b[0;32m<ipython-input-5-77939718843b>\u001b[0m in \u001b[0;36m<module>\u001b[0;34m()\u001b[0m\n\u001b[1;32m      4\u001b[0m \u001b[0;34m\u001b[0m\u001b[0m\n\u001b[1;32m      5\u001b[0m \u001b[0;32mfor\u001b[0m \u001b[0mdevice_name\u001b[0m \u001b[0;32min\u001b[0m \u001b[0minventory_connected\u001b[0m\u001b[0;34m(\u001b[0m\u001b[0;34m)\u001b[0m\u001b[0;34m:\u001b[0m\u001b[0;34m\u001b[0m\u001b[0m\n\u001b[0;32m----> 6\u001b[0;31m     \u001b[0minterface_names_list\u001b[0m \u001b[0;34m=\u001b[0m \u001b[0minterface_names\u001b[0m\u001b[0;34m(\u001b[0m\u001b[0mdevice_name\u001b[0m\u001b[0;34m)\u001b[0m\u001b[0;34m\u001b[0m\u001b[0m\n\u001b[0m\u001b[1;32m      7\u001b[0m     \u001b[0;32mif\u001b[0m \u001b[0mlen\u001b[0m\u001b[0;34m(\u001b[0m\u001b[0minterface_names_list\u001b[0m\u001b[0;34m)\u001b[0m \u001b[0;34m>\u001b[0m \u001b[0;36m1\u001b[0m\u001b[0;34m:\u001b[0m\u001b[0;34m\u001b[0m\u001b[0m\n\u001b[1;32m      8\u001b[0m         \u001b[0;32mfor\u001b[0m \u001b[0minterface_name\u001b[0m \u001b[0;32min\u001b[0m \u001b[0minterface_names_list\u001b[0m\u001b[0;34m:\u001b[0m\u001b[0;34m\u001b[0m\u001b[0m\n",
        "\u001b[0;32m/Users/kjarrad/git/python-odl-hackathon/src/basics/interface_names.pyc\u001b[0m in \u001b[0;36minterface_names\u001b[0;34m(device_name)\u001b[0m\n\u001b[1;32m     20\u001b[0m     \u001b[0;34m'Return a list of interface names, given the name of a mounted, connected device.'\u001b[0m\u001b[0;34m\u001b[0m\u001b[0m\n\u001b[1;32m     21\u001b[0m     \u001b[0murl_suffix\u001b[0m \u001b[0;34m=\u001b[0m \u001b[0m_url_template\u001b[0m \u001b[0;34m%\u001b[0m \u001b[0murllib\u001b[0m\u001b[0;34m.\u001b[0m\u001b[0mquote_plus\u001b[0m\u001b[0;34m(\u001b[0m\u001b[0mdevice_name\u001b[0m\u001b[0;34m)\u001b[0m\u001b[0;34m\u001b[0m\u001b[0m\n\u001b[0;32m---> 22\u001b[0;31m     \u001b[0mresponse\u001b[0m \u001b[0;34m=\u001b[0m \u001b[0modl_http_get\u001b[0m\u001b[0;34m(\u001b[0m\u001b[0murl_suffix\u001b[0m\u001b[0;34m,\u001b[0m \u001b[0;34m'application/xml'\u001b[0m\u001b[0;34m,\u001b[0m \u001b[0mexpected_status_code\u001b[0m\u001b[0;34m=\u001b[0m\u001b[0;34m[\u001b[0m\u001b[0;36m200\u001b[0m\u001b[0;34m,\u001b[0m \u001b[0;36m400\u001b[0m\u001b[0;34m]\u001b[0m\u001b[0;34m)\u001b[0m\u001b[0;34m\u001b[0m\u001b[0m\n\u001b[0m\u001b[1;32m     23\u001b[0m     \u001b[0;32mif\u001b[0m \u001b[0mresponse\u001b[0m\u001b[0;34m.\u001b[0m\u001b[0mstatus_code\u001b[0m \u001b[0;34m==\u001b[0m \u001b[0;36m400\u001b[0m\u001b[0;34m:\u001b[0m\u001b[0;34m\u001b[0m\u001b[0m\n\u001b[1;32m     24\u001b[0m         \u001b[0;32mreturn\u001b[0m \u001b[0;34m[\u001b[0m\u001b[0;34m]\u001b[0m  \u001b[0;31m# The inventory item does not have interfaces.\u001b[0m\u001b[0;34m\u001b[0m\u001b[0m\n",
        "\u001b[0;32m/Users/kjarrad/git/python-odl-hackathon/src/basics/odl_http.pyc\u001b[0m in \u001b[0;36modl_http_get\u001b[0;34m(url_suffix, accept, expected_status_code, contentType, content)\u001b[0m\n\u001b[1;32m     66\u001b[0m ):\n\u001b[1;32m     67\u001b[0m     \u001b[0;34m'Get a response from the ODL server.'\u001b[0m\u001b[0;34m\u001b[0m\u001b[0m\n\u001b[0;32m---> 68\u001b[0;31m     \u001b[0;32mreturn\u001b[0m \u001b[0modl_http_request\u001b[0m\u001b[0;34m(\u001b[0m\u001b[0;34m'get'\u001b[0m\u001b[0;34m,\u001b[0m \u001b[0murl_suffix\u001b[0m\u001b[0;34m,\u001b[0m \u001b[0mcontentType\u001b[0m\u001b[0;34m,\u001b[0m \u001b[0mcontent\u001b[0m\u001b[0;34m,\u001b[0m \u001b[0maccept\u001b[0m\u001b[0;34m,\u001b[0m \u001b[0mexpected_status_code\u001b[0m\u001b[0;34m)\u001b[0m\u001b[0;34m\u001b[0m\u001b[0m\n\u001b[0m\u001b[1;32m     69\u001b[0m \u001b[0;34m\u001b[0m\u001b[0m\n\u001b[1;32m     70\u001b[0m def odl_http_post(\n",
        "\u001b[0;32m/Users/kjarrad/git/python-odl-hackathon/src/basics/odl_http.pyc\u001b[0m in \u001b[0;36modl_http_request\u001b[0;34m(method, url_suffix, contentType, content, accept, expected_status_code)\u001b[0m\n\u001b[1;32m     48\u001b[0m             \u001b[0;32mprint\u001b[0m \u001b[0mcontent\u001b[0m\u001b[0;34m\u001b[0m\u001b[0m\n\u001b[1;32m     49\u001b[0m         \u001b[0mmsg\u001b[0m \u001b[0;34m=\u001b[0m \u001b[0;34m'Expected HTTP status code %s, got %d, response: %s'\u001b[0m \u001b[0;34m%\u001b[0m \u001b[0;34m(\u001b[0m\u001b[0mexpected_status_code\u001b[0m\u001b[0;34m,\u001b[0m \u001b[0mresponse\u001b[0m\u001b[0;34m.\u001b[0m\u001b[0mstatus_code\u001b[0m\u001b[0;34m,\u001b[0m \u001b[0mresponse\u001b[0m\u001b[0;34m.\u001b[0m\u001b[0mtext\u001b[0m\u001b[0;34m)\u001b[0m\u001b[0;34m\u001b[0m\u001b[0m\n\u001b[0;32m---> 50\u001b[0;31m         \u001b[0;32mraise\u001b[0m \u001b[0mException\u001b[0m\u001b[0;34m(\u001b[0m\u001b[0mmsg\u001b[0m\u001b[0;34m)\u001b[0m\u001b[0;34m\u001b[0m\u001b[0m\n\u001b[0m\u001b[1;32m     51\u001b[0m     \u001b[0;32melse\u001b[0m\u001b[0;34m:\u001b[0m\u001b[0;34m\u001b[0m\u001b[0m\n\u001b[1;32m     52\u001b[0m         \u001b[0;32mreturn\u001b[0m \u001b[0mresponse\u001b[0m\u001b[0;34m\u001b[0m\u001b[0m\n",
        "\u001b[0;31mException\u001b[0m: Expected HTTP status code [200, 400], got 500, response: <html>\n<head>\n<meta http-equiv=\"Content-Type\" content=\"text/html; charset=ISO-8859-1\"/>\n<title>Error 500 Internal Server Error</title>\n</head>\n<body><h2>HTTP ERROR 500</h2>\n<p>Problem accessing /restconf/operational/opendaylight-inventory:nodes/node/controller-config/yang-ext:mount/Cisco-IOS-XR-ifmgr-oper:interface-properties. Reason:\n<pre>    Internal Server Error</pre></p><hr /><i><small>Powered by Jetty://</small></i><br/>                                                \n<br/>                                                \n<br/>                                                \n<br/>                                                \n<br/>                                                \n<br/>                                                \n<br/>                                                \n<br/>                                                \n<br/>                                                \n<br/>                                                \n<br/>                                                \n<br/>                                                \n<br/>                                                \n<br/>                                                \n<br/>                                                \n<br/>                                                \n<br/>                                                \n<br/>                                                \n<br/>                                                \n<br/>                                                \n\n</body>\n</html>\n"
       ]
      }
     ],
     "prompt_number": 5
    },
    {
     "cell_type": "markdown",
     "metadata": {},
     "source": [
      "##Select Interface"
     ]
    },
    {
     "cell_type": "code",
     "collapsed": false,
     "input": [
      "from basics.inventory import inventory_not_connected\n",
      "inventory_not_connected()"
     ],
     "language": "python",
     "metadata": {},
     "outputs": []
    },
    {
     "cell_type": "markdown",
     "metadata": {},
     "source": [
      "##Inventory JSON\n",
      "The JSON response from CDL is accessible via function `inventory_json()`.  \n",
      "Here is a code sample that aggregates the JSON data into a table."
     ]
    },
    {
     "cell_type": "code",
     "collapsed": false,
     "input": [
      "from basics.inventory import inventory_json\n",
      "\n",
      "name_field = u'id'\n",
      "connected_field = u'netconf-node-inventory:connected'\n",
      "capability_field = u'netconf-node-inventory:initial-capability'\n",
      "\n",
      "from ipy_table import *\n",
      "items_table = [(\n",
      "    item[name_field],\n",
      "    item[connected_field] if connected_field in item else '',\n",
      "    len(item[capability_field]) if capability_field in item else '')\n",
      "    for item in inventory_json()]\n",
      "items_table.insert(0, ('name','connected','capabilities'))\n",
      "make_table(items_table)\n",
      "apply_theme('basic')\n"
     ],
     "language": "python",
     "metadata": {},
     "outputs": []
    },
    {
     "cell_type": "markdown",
     "metadata": {},
     "source": [
      "##Configured devices\n",
      "List of devices specified in the settings:"
     ]
    },
    {
     "cell_type": "code",
     "collapsed": false,
     "input": [
      "from settings.config import config\n",
      "config['network_device'].keys()"
     ],
     "language": "python",
     "metadata": {},
     "outputs": []
    },
    {
     "cell_type": "markdown",
     "metadata": {},
     "source": [
      "##Outstanding devices\n",
      "List of devices specified in the settings but not connected:"
     ]
    },
    {
     "cell_type": "code",
     "collapsed": false,
     "input": [
      "set(config['network_device'].keys()) - set(inventory_connected())"
     ],
     "language": "python",
     "metadata": {},
     "outputs": []
    },
    {
     "cell_type": "markdown",
     "metadata": {},
     "source": [
      "##Mount all devices from settings\n",
      "Attempt to connect the outstanding devices."
     ]
    },
    {
     "cell_type": "code",
     "collapsed": false,
     "input": [
      "from basics.mount_device import mount_device\n",
      "from settings.config import config\n",
      "\n",
      "for (device_name, device) in config['network_device'].items():\n",
      "    mount_device(\n",
      "        device_name,\n",
      "        device['address'],\n",
      "        device['port'],\n",
      "        device['username'],\n",
      "        device['password'])"
     ],
     "language": "python",
     "metadata": {},
     "outputs": []
    },
    {
     "cell_type": "markdown",
     "metadata": {},
     "source": [
      "##Refresh inventory\n",
      "The outstanding devices are visible in the inventory below. It takes a few seconds to establish a connection. Execute this code repeatedly until all expected connections appear. The connection status is the second column."
     ]
    },
    {
     "cell_type": "code",
     "collapsed": false,
     "input": [
      "from basics.inventory import inventory_summary\n",
      "inventory_summary()"
     ],
     "language": "python",
     "metadata": {},
     "outputs": []
    },
    {
     "cell_type": "markdown",
     "metadata": {},
     "source": [
      "##Generate markdown output"
     ]
    },
    {
     "cell_type": "code",
     "collapsed": false,
     "input": [
      "from basics.inventory import inventory_json\n",
      "\n",
      "name_field = u'id'\n",
      "connected_field = u'netconf-node-inventory:connected'\n",
      "capability_field = u'netconf-node-inventory:initial-capability'\n",
      "\n",
      "table_md = '''\n",
      "    |Name|Is Connected|Number of Capabilities|\n",
      "    |:---|:---:|---:|\n",
      "'''\n",
      "\n",
      "for item in inventory_json():\n",
      "    table_md += '|%s|%s|%s|\\n' % (\n",
      "        item[name_field],\n",
      "        item[connected_field] if connected_field in item else '',\n",
      "        len(item[capability_field]) if capability_field in item else '')\n",
      "    \n",
      "# from basics.markdown import normtable\n",
      "# print normtable(table_md)\n"
     ],
     "language": "python",
     "metadata": {},
     "outputs": []
    }
   ],
   "metadata": {}
  }
 ]
}