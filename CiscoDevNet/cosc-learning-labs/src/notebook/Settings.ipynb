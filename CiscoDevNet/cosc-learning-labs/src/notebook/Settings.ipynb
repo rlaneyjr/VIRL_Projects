{
 "cells": [
  {
   "cell_type": "markdown",
   "metadata": {},
   "source": [
    "# Learning Lab: Settings"
   ]
  },
  {
   "cell_type": "markdown",
   "metadata": {},
   "source": [
    "Related: Send HTTP requests to the Controller using [CLI](Http.ipynb#CLI-HTTP-request-and-response)."
   ]
  },
  {
   "cell_type": "markdown",
   "metadata": {},
   "source": [
    "## Introduction"
   ]
  },
  {
   "cell_type": "markdown",
   "metadata": {},
   "source": [
    "This page describes the configuration and settings of the Learning Lab. \n",
    "\n",
    "Topics:\n",
    "* How the configuration module is identified.\n",
    "* Where the configuration module is located.\n",
    "* View the configuration data.\n",
    "* Verify the connection to the Controller\n",
    "* Verify the connection to each network device"
   ]
  },
  {
   "cell_type": "markdown",
   "metadata": {},
   "source": [
    "## Table of Contents"
   ]
  },
  {
   "cell_type": "markdown",
   "metadata": {},
   "source": [
    "* [Introduction](#Introduction)\n",
    "* [Table of Contents](#Table-of-Contents)\n",
    "* [Scripts](#Scripts)\n",
    "    * [00_settings.py](#00_settings.py)\n",
    "    * [00_controller.py](#00_controller.py)\n",
    "    * [00_devices.py](#00_devices.py)\n",
    "* [Conclusion](#Conclusion)"
   ]
  },
  {
   "cell_type": "markdown",
   "metadata": {},
   "source": [
    "##Scripts"
   ]
  },
  {
   "cell_type": "markdown",
   "metadata": {},
   "source": [
    "### 00_settings.py"
   ]
  },
  {
   "cell_type": "markdown",
   "metadata": {},
   "source": [
    "#### Documentation"
   ]
  },
  {
   "cell_type": "code",
   "execution_count": 11,
   "metadata": {
    "collapsed": false
   },
   "outputs": [
    {
     "name": "stdout",
     "output_type": "stream",
     "text": [
      "Help on module learning_lab.00_settings in learning_lab:\n",
      "\n",
      "NAME\n",
      "    learning_lab.00_settings - Display configuration settings.\n",
      "\n",
      "DESCRIPTION\n",
      "    Print the documentation of the 'settings' module.\n",
      "    Print the location of the module the configuration is loaded from.\n",
      "    Print the configuration data, including the co-ordinates of the Controller and network devices.\n",
      "\n",
      "FILE\n",
      "    /home/virl/git/cosc-learning-labs/src/learning_lab/00_settings.py\n",
      "\n",
      "\n"
     ]
    }
   ],
   "source": [
    "help('learning_lab.00_settings')"
   ]
  },
  {
   "cell_type": "markdown",
   "metadata": {},
   "source": [
    "#### Run"
   ]
  },
  {
   "cell_type": "code",
   "execution_count": 12,
   "metadata": {
    "collapsed": false
   },
   "outputs": [
    {
     "name": "stdout",
     "output_type": "stream",
     "text": [
      "Python Library Documentation: package settings\n",
      "\n",
      "NAME\n",
      "    settings - Obtain settings by dynamically loading a configuration module located in package 'settings'.\n",
      "\n",
      "DESCRIPTION\n",
      "    The configuration module is a normal Python module.\n",
      "    The configuration module is located in package 'settings' (this package).\n",
      "    The configuration module must have a variable named 'config', \n",
      "    The name of the configuration module is determined by environment variable NETWORK_PROFILE.\n",
      "    The default configuration module is 'learning_lab.py'.\n",
      "    The variable named 'config' in the configuration modules is assigned to the\n",
      "    variable named 'config' in package 'settings' (this package).\n",
      "    That is:\n",
      "        settings.config = settings.<configuration_module>.config\n",
      "    This redirection provides independence.\n",
      "    Configuration data is accessed in a consistent manner (from 'settings.config').\n",
      "    Sample Usage:\n",
      "        import settings\n",
      "        print(settings.config['odl_server']['address'])\n",
      "\n",
      "PACKAGE CONTENTS\n",
      "    3-XRv\n",
      "    4-XRv\n",
      "    Milan\n",
      "    all_xr_versions\n",
      "    dcloud\n",
      "    empty\n",
      "    giles\n",
      "    jenkins\n",
      "    learning_lab\n",
      "    sandbox\n",
      "\n",
      "SUBMODULES\n",
      "    network_settings_module\n",
      "\n",
      "DATA\n",
      "    config = {'network_device': {'xrvr-1': {'address': '172.16.1.76', 'pas...\n",
      "\n",
      "FILE\n",
      "    /home/virl/git/cosc-learning-labs/src/settings/__init__.py\n",
      "\n",
      "\n",
      "os.environ['NETWORK_PROFILE']:\n",
      "     <empty>\n",
      "\n",
      "settings.config.network_settings_module:\n",
      "     <module 'settings.all_xr_versions' from '/home/virl/git/cosc-learning-labs/src/settings/all_xr_versions.py'>\n",
      "\n",
      "settings.config:\n",
      "    odl_server:\n",
      "         port = 8181\n",
      "         address = 127.0.0.1\n",
      "         password = admin\n",
      "         username = admin\n",
      "    network_device:\n",
      "        xrvr-2\n",
      "             port = 830\n",
      "             address = 172.16.1.75\n",
      "             password = cisco\n",
      "             username = cisco\n",
      "        xrvr-1\n",
      "             port = 830\n",
      "             address = 172.16.1.76\n",
      "             password = cisco\n",
      "             username = cisco\n"
     ]
    }
   ],
   "source": [
    "run ../learning_lab/00_settings.py"
   ]
  },
  {
   "cell_type": "markdown",
   "metadata": {},
   "source": [
    "### 00_controller.py"
   ]
  },
  {
   "cell_type": "markdown",
   "metadata": {},
   "source": [
    "#### Documentation"
   ]
  },
  {
   "cell_type": "code",
   "execution_count": 13,
   "metadata": {
    "collapsed": false
   },
   "outputs": [
    {
     "name": "stdout",
     "output_type": "stream",
     "text": [
      "Help on module learning_lab.00_controller in learning_lab:\n",
      "\n",
      "NAME\n",
      "    learning_lab.00_controller - Connect to the Controller.\n",
      "\n",
      "DESCRIPTION\n",
      "    Establish a connection to the Controller and display relevant information.\n",
      "\n",
      "FILE\n",
      "    /home/virl/git/cosc-learning-labs/src/learning_lab/00_controller.py\n",
      "\n",
      "\n"
     ]
    }
   ],
   "source": [
    "help('learning_lab.00_controller')"
   ]
  },
  {
   "cell_type": "markdown",
   "metadata": {},
   "source": [
    "#### Run"
   ]
  },
  {
   "cell_type": "code",
   "execution_count": 14,
   "metadata": {
    "collapsed": false
   },
   "outputs": [
    {
     "name": "stdout",
     "output_type": "stream",
     "text": [
      "client ('127.0.0.1', 46681) --> controller ('127.0.0.1', 8181)\n"
     ]
    }
   ],
   "source": [
    "run ../learning_lab/00_controller"
   ]
  },
  {
   "cell_type": "markdown",
   "metadata": {},
   "source": [
    "### 00_devices.py"
   ]
  },
  {
   "cell_type": "markdown",
   "metadata": {},
   "source": [
    "#### Documentation"
   ]
  },
  {
   "cell_type": "code",
   "execution_count": 15,
   "metadata": {
    "collapsed": false
   },
   "outputs": [
    {
     "name": "stdout",
     "output_type": "stream",
     "text": [
      "Help on module learning_lab.00_devices in learning_lab:\n",
      "\n",
      "NAME\n",
      "    learning_lab.00_devices - Connect to each Network Device.\n",
      "\n",
      "DESCRIPTION\n",
      "    Establish a connection to the each network device and display relevant information.\n",
      "\n",
      "FILE\n",
      "    /home/virl/git/cosc-learning-labs/src/learning_lab/00_devices.py\n",
      "\n",
      "\n"
     ]
    }
   ],
   "source": [
    "help('learning_lab.00_devices')"
   ]
  },
  {
   "cell_type": "markdown",
   "metadata": {},
   "source": [
    "#### Run"
   ]
  },
  {
   "cell_type": "code",
   "execution_count": 16,
   "metadata": {
    "collapsed": false
   },
   "outputs": [
    {
     "name": "stdout",
     "output_type": "stream",
     "text": [
      "xrvr-2 ('172.16.1.254', 48555) --> ('172.16.1.75', 830)\n",
      "xrvr-1 ('172.16.1.254', 41618) --> ('172.16.1.76', 830)\n"
     ]
    }
   ],
   "source": [
    "run ../learning_lab/00_devices"
   ]
  },
  {
   "cell_type": "markdown",
   "metadata": {},
   "source": [
    "#### Conclusion"
   ]
  },
  {
   "cell_type": "markdown",
   "metadata": {},
   "source": [
    "This page has explored the configuration and settings of the Learning Lab. \n",
    "\n",
    "Achievements:\n",
    "* Discovered the configuration module name and location.\n",
    "* Displayed the configuration data.\n",
    "* Verified the connection to the Controller\n",
    "* Verified the connection to each network device"
   ]
  }
 ],
 "metadata": {
  "kernelspec": {
   "display_name": "Python 3",
   "language": "python",
   "name": "python3"
  },
  "language_info": {
   "codemirror_mode": {
    "name": "ipython",
    "version": 3
   },
   "file_extension": ".py",
   "mimetype": "text/x-python",
   "name": "python",
   "nbconvert_exporter": "python",
   "pygments_lexer": "ipython3",
   "version": "3.4.0"
  }
 },
 "nbformat": 4,
 "nbformat_minor": 0
}
